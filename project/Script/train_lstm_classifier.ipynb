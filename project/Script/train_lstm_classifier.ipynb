{
 "cells": [
  {
   "cell_type": "code",
   "execution_count": null,
   "id": "2752252f",
   "metadata": {},
   "outputs": [],
   "source": [
    "import pickle\n",
    "import numpy as np\n",
    "import tensorflow as tf\n",
    "from tensorflow.keras.models import Sequential\n",
    "from tensorflow.keras.layers import LSTM, Dense, Dropout, Embedding\n",
    "from tensorflow.keras.callbacks import ModelCheckpoint"
   ]
  },
  {
   "cell_type": "code",
   "execution_count": null,
   "id": "e481c283",
   "metadata": {},
   "outputs": [],
   "source": [
    "# Load training data\n",
    "with open(\"generator_training_data.pkl\", \"rb\") as f:\n",
    "    data = pickle.load(f)\n",
    "\n",
    "network_input = data[\"input\"]\n",
    "network_output = data[\"output\"]   # not used here, for generator\n",
    "network_mood = data[\"mood\"]\n",
    "\n",
    "note_to_int = data[\"note_to_int\"]\n",
    "int_to_note = data[\"int_to_note\"]\n",
    "mood_to_int = data[\"mood_to_int\"]\n",
    "int_to_mood = data[\"int_to_mood\"]\n",
    "SEQ_LEN = data[\"seq_len\"]\n",
    "\n",
    "n_vocab = len(note_to_int)\n",
    "n_moods = len(mood_to_int)\n",
    "\n",
    "print(f\"Training on {network_input.shape[0]} sequences\")\n",
    "print(f\"Vocabulary size: {n_vocab}, Mood classes: {n_moods}\")"
   ]
  },
  {
   "cell_type": "code",
   "execution_count": null,
   "id": "d261ce6b",
   "metadata": {},
   "outputs": [],
   "source": [
    "# Build LSTM classifier model\n",
    "model = Sequential()\n",
    "model.add(Embedding(input_dim=n_vocab, output_dim=100, input_length=SEQ_LEN))\n",
    "model.add(LSTM(256, return_sequences=True))\n",
    "model.add(Dropout(0.3))\n",
    "model.add(LSTM(256))\n",
    "model.add(Dropout(0.3))\n",
    "model.add(Dense(128, activation=\"relu\"))\n",
    "model.add(Dense(n_moods, activation=\"softmax\"))\n",
    "\n",
    "model.compile(loss=\"sparse_categorical_crossentropy\",\n",
    "              optimizer=\"adam\",\n",
    "              metrics=[\"accuracy\"])\n",
    "\n",
    "model.summary()"
   ]
  },
  {
   "cell_type": "code",
   "execution_count": null,
   "id": "7c9ca313",
   "metadata": {},
   "outputs": [],
   "source": [
    "# Save the best model\n",
    "checkpoint = ModelCheckpoint(\n",
    "    \"D:\\Study\\Ai_Music_Composer\\project\\models\\lstm_mood_classifier.h5\",\n",
    "    monitor=\"val_accuracy\",\n",
    "    save_best_only=True,\n",
    "    mode=\"max\",\n",
    "    verbose=1\n",
    ")"
   ]
  },
  {
   "cell_type": "code",
   "execution_count": null,
   "id": "d7c1adce",
   "metadata": {},
   "outputs": [],
   "source": [
    "# Train the classifier\n",
    "history = model.fit(\n",
    "    network_input, network_mood,\n",
    "    validation_split=0.2,\n",
    "    epochs=30,\n",
    "    batch_size=64,\n",
    "    callbacks=[checkpoint]\n",
    ")\n",
    "\n",
    "print(\"✅ Training finished. Best model saved as lstm_mood_classifier.h5\")"
   ]
  }
 ],
 "metadata": {
  "kernelspec": {
   "display_name": "Python 3",
   "language": "python",
   "name": "python3"
  },
  "language_info": {
   "codemirror_mode": {
    "name": "ipython",
    "version": 3
   },
   "file_extension": ".py",
   "mimetype": "text/x-python",
   "name": "python",
   "nbconvert_exporter": "python",
   "pygments_lexer": "ipython3",
   "version": "3.11.9"
  }
 },
 "nbformat": 4,
 "nbformat_minor": 5
}
