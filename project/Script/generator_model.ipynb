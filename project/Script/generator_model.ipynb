{
 "cells": [
  {
   "cell_type": "code",
   "execution_count": 13,
   "id": "73a23772",
   "metadata": {},
   "outputs": [],
   "source": [
    "import pickle\n",
    "import numpy as np\n",
    "import tensorflow as tf\n",
    "from tensorflow.keras.models import Sequential\n",
    "from tensorflow.keras.layers import LSTM, Dense, Embedding, Dropout\n",
    "from tensorflow.keras.optimizers import Adam\n",
    "from tensorflow.keras.utils import to_categorical\n",
    "from sklearn.preprocessing import LabelEncoder"
   ]
  },
  {
   "cell_type": "code",
   "execution_count": 14,
   "id": "8dd3eaaa",
   "metadata": {},
   "outputs": [],
   "source": [
    "# === LOAD DATA ===\n",
    "with open(\"D:\\Study\\Ai_Music_Composer\\project/data/generator_training_data.pkl\", \"rb\") as f:\n",
    "    data = pickle.load(f)\n",
    "\n",
    "X_notes = data[\"X_notes\"]\n",
    "X_moods = data[\"X_moods\"]\n",
    "y = data[\"y\"]\n",
    "note_to_idx = data[\"note_to_idx\"]\n",
    "idx_to_note = data[\"idx_to_note\"]\n",
    "mood_classes = data[\"mood_encoder\"]\n",
    "mappings = {\n",
    "    'note_to_idx': note_to_idx,\n",
    "    'idx_to_note': idx_to_note,\n",
    "    'mood_encoder': mood_classes\n",
    "}\n",
    "\n",
    "with open(\"note_mappings.pkl\", \"wb\") as f:\n",
    "    pickle.dump(mappings, f)\n",
    "SEQ_LEN = X_notes.shape[1]\n",
    "vocab_size = len(note_to_idx)\n",
    "num_moods = X_moods.shape[1]"
   ]
  },
  {
   "cell_type": "code",
   "execution_count": null,
   "id": "35b89c60",
   "metadata": {},
   "outputs": [],
   "source": [
    "# === BUILD MODEL ===\n",
    "note_input = Input(shape=(SEQ_LEN,), name=\"note_input\")\n",
    "mood_input = Input(shape=(num_moods,), name=\"mood_input\")\n",
    "\n",
    "embedding = Embedding(input_dim=vocab_size, output_dim=128, input_length=SEQ_LEN)(note_input)\n",
    "lstm_out = LSTM(256)(embedding)\n",
    "\n",
    "merged = Concatenate()([lstm_out, mood_input])\n",
    "dense1 = Dense(256, activation='relu')(merged)\n",
    "output = Dense(vocab_size, activation='softmax')(dense1)\n",
    "\n",
    "model = Model(inputs=[note_input, mood_input], outputs=output)\n",
    "model.compile(loss='categorical_crossentropy', optimizer=Adam(learning_rate=0.001), metrics=['accuracy'])\n",
    "\n",
    "model.summary()"
   ]
  },
  {
   "cell_type": "code",
   "execution_count": null,
   "id": "f162b666",
   "metadata": {},
   "outputs": [],
   "source": [
    "# === TRAIN ===\n",
    "EPOCHS = 30\n",
    "BATCH_SIZE = 64\n",
    "\n",
    "model.fit([X_notes, X_moods], y, batch_size=BATCH_SIZE, epochs=EPOCHS, validation_split=0.1)"
   ]
  },
  {
   "cell_type": "code",
   "execution_count": null,
   "id": "10e9952e",
   "metadata": {},
   "outputs": [],
   "source": [
    "# === SAVE MODEL ===\n",
    "model.save(\"D:\\Study\\Ai_Music_Composer\\project\\models\\music_generator.h5\")\n",
    "print(\"✅ Generator model trained and saved.\")"
   ]
  }
 ],
 "metadata": {
  "kernelspec": {
   "display_name": "Python 3",
   "language": "python",
   "name": "python3"
  },
  "language_info": {
   "codemirror_mode": {
    "name": "ipython",
    "version": 3
   },
   "file_extension": ".py",
   "mimetype": "text/x-python",
   "name": "python",
   "nbconvert_exporter": "python",
   "pygments_lexer": "ipython3",
   "version": "3.11.9"
  }
 },
 "nbformat": 4,
 "nbformat_minor": 5
}
