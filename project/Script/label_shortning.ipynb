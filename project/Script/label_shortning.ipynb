{
 "cells": [
  {
   "cell_type": "code",
   "execution_count": 3,
   "id": "11bd5ddf",
   "metadata": {},
   "outputs": [],
   "source": [
    "import pandas as pd"
   ]
  },
  {
   "cell_type": "code",
   "execution_count": 4,
   "id": "b71b2e26",
   "metadata": {},
   "outputs": [],
   "source": [
    "# Load original labels\n",
    "df = pd.read_csv('D:/Study/Ai_Music_Composer/project/data/labels.csv')"
   ]
  },
  {
   "cell_type": "code",
   "execution_count": 5,
   "id": "f8a33fbe",
   "metadata": {},
   "outputs": [],
   "source": [
    "# Mapping dictionary\n",
    "mood_map = {\n",
    "    'happy': 'happy',\n",
    "    'funny': 'happy',\n",
    "    'magnificent': 'happy',\n",
    "    'warm': 'happy',\n",
    "    'sad': 'sad',\n",
    "    'fear': 'sad',\n",
    "    'quiet': 'sad',\n",
    "    'angry': 'angry',\n",
    "    'lazy': 'relaxed',\n",
    "    'romantic': 'relaxed',\n",
    "    'exciting': 'relaxed',\n",
    "}"
   ]
  },
  {
   "cell_type": "code",
   "execution_count": 6,
   "id": "f9c2000a",
   "metadata": {},
   "outputs": [],
   "source": [
    "# Apply mapping\n",
    "df['mood'] = df['mood'].map(mood_map)\n",
    "\n",
    "# Drop any rows with unmapped moods (just in case)\n",
    "df = df.dropna(subset=['mood'])"
   ]
  },
  {
   "cell_type": "code",
   "execution_count": 10,
   "id": "73e47e76",
   "metadata": {},
   "outputs": [
    {
     "name": "stdout",
     "output_type": "stream",
     "text": [
      "✅ New labels saved to data/labels_reduced.csv with 4 mood classes.\n"
     ]
    }
   ],
   "source": [
    "# Save new file\n",
    "df.to_csv('D:/Study/Ai_Music_Composer/project/data/labels_reduced.csv', index=False)\n",
    "\n",
    "print(f\"✅ New labels saved to data/labels_reduced.csv with {df['mood'].nunique()} mood classes.\")"
   ]
  }
 ],
 "metadata": {
  "kernelspec": {
   "display_name": "Python 3",
   "language": "python",
   "name": "python3"
  },
  "language_info": {
   "codemirror_mode": {
    "name": "ipython",
    "version": 3
   },
   "file_extension": ".py",
   "mimetype": "text/x-python",
   "name": "python",
   "nbconvert_exporter": "python",
   "pygments_lexer": "ipython3",
   "version": "3.11.9"
  }
 },
 "nbformat": 4,
 "nbformat_minor": 5
}
