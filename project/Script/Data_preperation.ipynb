{
 "cells": [
  {
   "cell_type": "code",
   "execution_count": 3,
   "id": "2f620567",
   "metadata": {},
   "outputs": [],
   "source": [
    "#Prepare Training Data for Generator (Conditioned on Mood)\n",
    "import pickle\n",
    "import numpy as np\n",
    "from sklearn.preprocessing import LabelEncoder\n",
    "from tensorflow.keras.utils import to_categorical"
   ]
  },
  {
   "cell_type": "code",
   "execution_count": 4,
   "id": "48bada2d",
   "metadata": {},
   "outputs": [],
   "source": [
    "# === CONFIG ===\n",
    "PICKLE_PATH = \"D:/Study/Ai_Music_Composer/project/data/note_sequences.pkl\"\n",
    "SEQ_LEN = 50  # Sequence length used during extraction"
   ]
  },
  {
   "cell_type": "code",
   "execution_count": 5,
   "id": "72bbf08e",
   "metadata": {},
   "outputs": [],
   "source": [
    "# === LOAD SEQUENCES ===\n",
    "with open(PICKLE_PATH, 'rb') as f:\n",
    "    data = pickle.load(f)\n",
    "\n",
    "note_sequences = data['sequences']\n",
    "labels = data['labels']"
   ]
  },
  {
   "cell_type": "code",
   "execution_count": 6,
   "id": "dd3133d6",
   "metadata": {},
   "outputs": [],
   "source": [
    "# === BUILD_NOTE VOCABULARY ===\n",
    "unique_notes = sorted(set(note for seq in note_sequences for note in seq))\n",
    "note_to_idx = {note: i for i, note in enumerate(unique_notes)}\n",
    "idx_to_note = {i: note for note, i in note_to_idx.items()}\n",
    "vocab_size = len(note_to_idx)\n",
    "\n",
    "with open(\"D:\\Study\\Ai_Music_Composer\\project\\data\\generator_mappings.pkl\", \"wb\") as f:\n",
    "    pickle.dump({\n",
    "        \"note_to_idx\": note_to_idx,\n",
    "        \"idx_to_note\": idx_to_note,\n",
    "        \"seq_len\": SEQ_LEN\n",
    "    }, f)"
   ]
  },
  {
   "cell_type": "code",
   "execution_count": 7,
   "id": "e6f8359c",
   "metadata": {},
   "outputs": [],
   "source": [
    "# === ENCODE MOOD LABELS ===\n",
    "mood_encoder = LabelEncoder()\n",
    "mood_labels = mood_encoder.fit_transform(labels)\n",
    "num_moods = len(mood_encoder.classes_)"
   ]
  },
  {
   "cell_type": "code",
   "execution_count": 8,
   "id": "20abac04",
   "metadata": {},
   "outputs": [
    {
     "name": "stdout",
     "output_type": "stream",
     "text": [
      "✅ Prepared 100000 training samples.\n"
     ]
    }
   ],
   "source": [
    "# === BUILD INPUTS AND TARGETS ===\n",
    "MAX_SAMPLES = 100000\n",
    "\n",
    "X_notes = []\n",
    "X_moods = []\n",
    "y = []\n",
    "\n",
    "count = 0\n",
    "\n",
    "for i in range(len(note_sequences)):\n",
    "    seq = note_sequences[i]\n",
    "    mood = mood_labels[i]\n",
    "\n",
    "    for j in range(1, len(seq)):\n",
    "        input_seq = seq[:j]\n",
    "        target_note = seq[j]\n",
    "\n",
    "        # Pad with 0s if shorter than SEQ_LEN\n",
    "        input_seq = [0] * (SEQ_LEN - len(input_seq)) + input_seq[-SEQ_LEN:]\n",
    "\n",
    "        try:\n",
    "            X_notes.append([note_to_idx[n] for n in input_seq])\n",
    "            X_moods.append(mood)\n",
    "            y.append(note_to_idx[target_note])\n",
    "        except KeyError:\n",
    "            continue\n",
    "\n",
    "        count += 1\n",
    "        if count >= MAX_SAMPLES:\n",
    "            break\n",
    "\n",
    "    if count >= MAX_SAMPLES:\n",
    "        break\n",
    "\n",
    "print(f\"✅ Prepared {len(X_notes)} training samples.\")"
   ]
  },
  {
   "cell_type": "code",
   "execution_count": 9,
   "id": "42c34818",
   "metadata": {},
   "outputs": [],
   "source": [
    "# === CONVERT TO NUMPY ARRAYS ===\n",
    "X_notes = np.array(X_notes)\n",
    "X_moods = to_categorical(np.array(X_moods), num_classes=num_moods)\n",
    "y = to_categorical(np.array(y), num_classes=vocab_size)"
   ]
  },
  {
   "cell_type": "code",
   "execution_count": 10,
   "id": "51404759",
   "metadata": {},
   "outputs": [
    {
     "name": "stdout",
     "output_type": "stream",
     "text": [
      "✅ Generator training data prepared and saved.\n"
     ]
    }
   ],
   "source": [
    "# === SAVE DATA FOR TRAINING ===\n",
    "with open(\"D:/Study/Ai_Music_Composer/project/data/generator_training_data.pkl\", \"wb\") as f:\n",
    "    pickle.dump({\n",
    "        \"X_notes\": X_notes,\n",
    "        \"X_moods\": X_moods,\n",
    "        \"y\": y,\n",
    "        \"note_to_idx\": note_to_idx,\n",
    "        \"idx_to_note\": idx_to_note,\n",
    "        \"mood_encoder\": mood_encoder.classes_.tolist()\n",
    "    }, f)\n",
    "\n",
    "print(\"✅ Generator training data prepared and saved.\")"
   ]
  }
 ],
 "metadata": {
  "kernelspec": {
   "display_name": "Python 3",
   "language": "python",
   "name": "python3"
  },
  "language_info": {
   "codemirror_mode": {
    "name": "ipython",
    "version": 3
   },
   "file_extension": ".py",
   "mimetype": "text/x-python",
   "name": "python",
   "nbconvert_exporter": "python",
   "pygments_lexer": "ipython3",
   "version": "3.11.9"
  }
 },
 "nbformat": 4,
 "nbformat_minor": 5
}
