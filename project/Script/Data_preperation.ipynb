{
 "cells": [
  {
   "cell_type": "code",
   "execution_count": null,
   "id": "2f620567",
   "metadata": {},
   "outputs": [],
   "source": [
    "import numpy as np\n",
    "import pickle"
   ]
  },
  {
   "cell_type": "code",
   "execution_count": 5,
   "id": "48bada2d",
   "metadata": {},
   "outputs": [],
   "source": [
    "# Parameters\n",
    "SEQ_LEN = 50   # sequence length for training\n",
    "note_sequences_file = \"D:\\Study\\Ai_Music_Composer\\project\\data/note_sequence.pkl\"\n",
    "output_file = \"D:\\Study\\Ai_Music_Composer\\project\\data\\generator_training_data.pkl\""
   ]
  },
  {
   "cell_type": "code",
   "execution_count": 6,
   "id": "72bbf08e",
   "metadata": {},
   "outputs": [
    {
     "name": "stdout",
     "output_type": "stream",
     "text": [
      "Loaded 4000 sequences\n"
     ]
    }
   ],
   "source": [
    "# Load extracted note sequences with moods\n",
    "with open(note_sequences_file, \"rb\") as f:\n",
    "    note_sequences = pickle.load(f)\n",
    "\n",
    "print(f\"Loaded {len(note_sequences)} sequences\")"
   ]
  },
  {
   "cell_type": "code",
   "execution_count": 7,
   "id": "dd3133d6",
   "metadata": {},
   "outputs": [
    {
     "name": "stdout",
     "output_type": "stream",
     "text": [
      "Unique notes: 128\n"
     ]
    }
   ],
   "source": [
    "# Build a note vocabulary\n",
    "all_notes = [note for seq in note_sequences for note in seq[\"notes\"]]\n",
    "unique_notes = sorted(list(set(all_notes)))\n",
    "note_to_int = {note: number for number, note in enumerate(unique_notes)}\n",
    "int_to_note = {number: note for note, number in note_to_int.items()}\n",
    "\n",
    "print(f\"Unique notes: {len(unique_notes)}\")"
   ]
  },
  {
   "cell_type": "code",
   "execution_count": 8,
   "id": "e6f8359c",
   "metadata": {},
   "outputs": [
    {
     "name": "stdout",
     "output_type": "stream",
     "text": [
      "Moods: {'angry': 0, 'happy': 1, 'relaxed': 2, 'sad': 3}\n"
     ]
    }
   ],
   "source": [
    "# Encode moods into integers\n",
    "unique_moods = sorted(list(set(seq[\"mood\"] for seq in note_sequences)))\n",
    "mood_to_int = {mood: idx for idx, mood in enumerate(unique_moods)}\n",
    "int_to_mood = {idx: mood for mood, idx in mood_to_int.items()}\n",
    "\n",
    "print(f\"Moods: {mood_to_int}\")"
   ]
  },
  {
   "cell_type": "code",
   "execution_count": 9,
   "id": "20abac04",
   "metadata": {},
   "outputs": [
    {
     "name": "stdout",
     "output_type": "stream",
     "text": [
      "Total training sequences: 7872357\n"
     ]
    }
   ],
   "source": [
    "# Prepare training sequences\n",
    "network_input = []\n",
    "network_output = []\n",
    "network_mood = []\n",
    "\n",
    "for seq in note_sequences:\n",
    "    notes = seq[\"notes\"]\n",
    "    mood = seq[\"mood\"]\n",
    "    if len(notes) <= SEQ_LEN:\n",
    "        continue\n",
    "    \n",
    "    # Convert notes to integers\n",
    "    encoded_notes = [note_to_int[n] for n in notes]\n",
    "    \n",
    "    for i in range(len(encoded_notes) - SEQ_LEN):\n",
    "        seq_in = encoded_notes[i:i + SEQ_LEN]\n",
    "        seq_out = encoded_notes[i + SEQ_LEN]\n",
    "        \n",
    "        network_input.append(seq_in)\n",
    "        network_output.append(seq_out)\n",
    "        network_mood.append(mood_to_int[mood])\n",
    "\n",
    "print(f\"Total training sequences: {len(network_input)}\")"
   ]
  },
  {
   "cell_type": "code",
   "execution_count": 10,
   "id": "42c34818",
   "metadata": {},
   "outputs": [],
   "source": [
    "# Convert to numpy arrays\n",
    "network_input = np.array(network_input)\n",
    "network_output = np.array(network_output)\n",
    "network_mood = np.array(network_mood)"
   ]
  },
  {
   "cell_type": "code",
   "execution_count": 11,
   "id": "51404759",
   "metadata": {},
   "outputs": [
    {
     "name": "stdout",
     "output_type": "stream",
     "text": [
      "Saved training data to D:\\Study\\Ai_Music_Composer\\project\\data\\generator_training_data.pkl ✅\n"
     ]
    }
   ],
   "source": [
    "# Save everything\n",
    "with open(output_file, \"wb\") as f:\n",
    "    pickle.dump({\n",
    "        \"input\": network_input,\n",
    "        \"output\": network_output,\n",
    "        \"mood\": network_mood,\n",
    "        \"note_to_int\": note_to_int,\n",
    "        \"int_to_note\": int_to_note,\n",
    "        \"mood_to_int\": mood_to_int,\n",
    "        \"int_to_mood\": int_to_mood,\n",
    "        \"seq_len\": SEQ_LEN\n",
    "    }, f)\n",
    "\n",
    "print(f\"Saved training data to {output_file} ✅\")"
   ]
  }
 ],
 "metadata": {
  "kernelspec": {
   "display_name": "Python 3",
   "language": "python",
   "name": "python3"
  },
  "language_info": {
   "codemirror_mode": {
    "name": "ipython",
    "version": 3
   },
   "file_extension": ".py",
   "mimetype": "text/x-python",
   "name": "python",
   "nbconvert_exporter": "python",
   "pygments_lexer": "ipython3",
   "version": "3.11.9"
  }
 },
 "nbformat": 4,
 "nbformat_minor": 5
}
