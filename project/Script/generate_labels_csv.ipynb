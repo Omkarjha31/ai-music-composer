{
 "cells": [
  {
   "cell_type": "code",
   "execution_count": null,
   "id": "964ac486",
   "metadata": {},
   "outputs": [],
   "source": [
    "import os\n",
    "import pandas as pd "
   ]
  },
  {
   "cell_type": "code",
   "execution_count": 8,
   "id": "f8659174",
   "metadata": {},
   "outputs": [],
   "source": [
    "# Adjust this path to your dataset directory\n",
    "midi_dir = 'D:/Study/Ai_Music_Composer/MIDI_Dataset'\n",
    "output_csv = 'D:/Study/Ai_Music_Composer/project/data/labels.csv'"
   ]
  },
  {
   "cell_type": "markdown",
   "id": "805ce68e",
   "metadata": {},
   "source": [
    "# Emotions present in the dataset"
   ]
  },
  {
   "cell_type": "code",
   "execution_count": 9,
   "id": "e1f0dd69",
   "metadata": {},
   "outputs": [],
   "source": [
    "# Valid emotions (from XMIDI paper)\n",
    "valid_emotions = {\n",
    "    'exciting', 'warm', 'happy', 'romantic', 'funny',\n",
    "    'sad', 'angry', 'lazy', 'quiet', 'fear', 'magnificent'\n",
    "}"
   ]
  },
  {
   "cell_type": "markdown",
   "id": "977eaac8",
   "metadata": {},
   "source": [
    "# Extracting mood of the file from the name of the file"
   ]
  },
  {
   "cell_type": "code",
   "execution_count": null,
   "id": "7550a78a",
   "metadata": {},
   "outputs": [],
   "source": [
    "data = []\n",
    "\n",
    "#for file in os.listdir(midi_dir): don't run if already labeled a file\n",
    "    if file.endswith(\".mid\") or file.endswith(\".midi\"):\n",
    "        parts = file.lower().split('_')\n",
    "        if len(parts) >= 3 and parts[1] in valid_emotions:\n",
    "            mood = parts[1]\n",
    "            file_path = os.path.join(midi_dir, file)\n",
    "            data.append({'file_path': file_path, 'mood': mood})\n",
    "        else:\n",
    "            print(f\"⚠️ Skipping unrecognized emotion in file: {file}\")"
   ]
  },
  {
   "cell_type": "code",
   "execution_count": null,
   "id": "0d15de10",
   "metadata": {},
   "outputs": [
    {
     "name": "stdout",
     "output_type": "stream",
     "text": [
      "\n",
      "✅ Saved 108023 labeled entries to D:/Study/Ai_Music_Composer/project/data/labels.csv\n"
     ]
    }
   ],
   "source": [
    "df = pd.DataFrame(data)\n",
    "df.to_csv(output_csv, index=False)\n",
    "\n",
    "print(f\"\\n✅ Saved {len(df)} labeled entries to {output_csv}\")"
   ]
  }
 ],
 "metadata": {
  "kernelspec": {
   "display_name": "Python 3",
   "language": "python",
   "name": "python3"
  },
  "language_info": {
   "codemirror_mode": {
    "name": "ipython",
    "version": 3
   },
   "file_extension": ".py",
   "mimetype": "text/x-python",
   "name": "python",
   "nbconvert_exporter": "python",
   "pygments_lexer": "ipython3",
   "version": "3.11.9"
  }
 },
 "nbformat": 4,
 "nbformat_minor": 5
}
