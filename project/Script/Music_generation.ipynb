{
 "cells": [
  {
   "cell_type": "code",
   "execution_count": null,
   "id": "6d0086bf",
   "metadata": {},
   "outputs": [],
   "source": [
    "import pickle\n",
    "import numpy as np\n",
    "from tensorflow.keras.models import load_model\n",
    "import pretty_midi\n",
    "import random"
   ]
  },
  {
   "cell_type": "code",
   "execution_count": null,
   "id": "9fdd0147",
   "metadata": {},
   "outputs": [],
   "source": [
    "# ===== Load the model and data =====\n",
    "with open(\"D:\\Study\\Ai_Music_Composer\\project\\data\\generator_training_data.pkl\", \"rb\") as f:\n",
    "    data = pickle.load(f)\n",
    "\n",
    "X_notes = data[\"X_notes\"]\n",
    "X_moods = data[\"X_moods\"]\n",
    "note_to_idx = data[\"note_to_idx\"]\n",
    "idx_to_note = data[\"idx_to_note\"]\n",
    "mood_encoder = data[\"mood_encoder\"]\n",
    "\n",
    "model = load_model(\"D:\\Study\\Ai_Music_Composer\\project\\models\\music_generator.h5\")\n",
    "\n",
    "num_moods = len(mood_encoder)"
   ]
  },
  {
   "cell_type": "code",
   "execution_count": null,
   "id": "7d72905d",
   "metadata": {},
   "outputs": [],
   "source": [
    "# ===== Temperature sampling =====\n",
    "def sample_with_temperature(preds, temperature=1.0):\n",
    "    preds = np.asarray(preds).astype(\"float64\")\n",
    "    preds = np.log(preds + 1e-9) / temperature\n",
    "    exp_preds = np.exp(preds)\n",
    "    preds = exp_preds / np.sum(exp_preds)\n",
    "    return np.random.choice(len(preds), p=preds)"
   ]
  },
  {
   "cell_type": "code",
   "execution_count": null,
   "id": "15af0603",
   "metadata": {},
   "outputs": [],
   "source": [
    "# ===== Music generation =====\n",
    "def generate_notes(model, start_notes, mood_label, num_notes=50, temperature=0.8):\n",
    "    generated = list(start_notes)\n",
    "\n",
    "    # One-hot encode the mood\n",
    "    mood_input = np.zeros((1, len(mood_encoder)))\n",
    "    mood_input[0, mood_label] = 1\n",
    "\n",
    "    for _ in range(num_notes):\n",
    "        input_seq = np.array(generated[-50:])  # last 50 notes\n",
    "        if len(input_seq) < 50:\n",
    "            input_seq = np.pad(input_seq, (50 - len(input_seq), 0), mode='constant')\n",
    "\n",
    "        input_seq = np.expand_dims(input_seq, axis=0)\n",
    "        \n",
    "        preds = model.predict([input_seq, mood_input], verbose=0)\n",
    "        next_idx = sample_with_temperature(preds[0], temperature)\n",
    "        generated.append(next_idx)\n",
    "\n",
    "    return generated"
   ]
  },
  {
   "cell_type": "code",
   "execution_count": null,
   "id": "a3c79565",
   "metadata": {},
   "outputs": [],
   "source": [
    "# ===== Convert notes to MIDI =====\n",
    "def notes_to_midi(note_indices, output_file):\n",
    "    midi = pretty_midi.PrettyMIDI()\n",
    "    instrument = pretty_midi.Instrument(program=0)\n",
    "    start = 0\n",
    "    for idx in note_indices:\n",
    "        note_number = idx_to_note[idx]\n",
    "        note = pretty_midi.Note(\n",
    "            velocity=100, pitch=note_number, start=start, end=start+0.5\n",
    "        )\n",
    "        instrument.notes.append(note)\n",
    "        start += 0.5\n",
    "    midi.instruments.append(instrument)\n",
    "    midi.write(output_file)"
   ]
  },
  {
   "cell_type": "code",
   "execution_count": null,
   "id": "75ba7786",
   "metadata": {},
   "outputs": [],
   "source": [
    "# ===== Main generation for each mood =====\n",
    "moods = mood_encoder\n",
    "for mood_idx, mood_name in enumerate(moods):\n",
    "    print(f\"Generating music for mood: {mood_name}\")\n",
    "    start_notes = [60, 64, 67]  # C major chord as seed\n",
    "    generated_notes = generate_notes(model, start_notes, mood_idx, num_notes=100, temperature=0.9)\n",
    "    output_file = f\"generated_{mood_name}.mid\"\n",
    "    notes_to_midi(generated_notes, output_file)\n",
    "    print(f\"Saved: {output_file}\")"
   ]
  }
 ],
 "metadata": {
  "kernelspec": {
   "display_name": "Python 3",
   "language": "python",
   "name": "python3"
  },
  "language_info": {
   "codemirror_mode": {
    "name": "ipython",
    "version": 3
   },
   "file_extension": ".py",
   "mimetype": "text/x-python",
   "name": "python",
   "nbconvert_exporter": "python",
   "pygments_lexer": "ipython3",
   "version": "3.11.9"
  }
 },
 "nbformat": 4,
 "nbformat_minor": 5
}
