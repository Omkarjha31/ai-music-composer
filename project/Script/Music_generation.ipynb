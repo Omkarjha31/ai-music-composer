{
 "cells": [
  {
   "cell_type": "code",
   "execution_count": null,
   "id": "6d0086bf",
   "metadata": {},
   "outputs": [],
   "source": [
    "import pickle\n",
    "import numpy as np\n",
    "import tensorflow as tf\n",
    "from tensorflow.keras.models import Model\n",
    "from tensorflow.keras.layers import Input, LSTM, Dense, Embedding, Concatenate"
   ]
  },
  {
   "cell_type": "code",
   "execution_count": null,
   "id": "9fdd0147",
   "metadata": {},
   "outputs": [],
   "source": [
    "# Load training data structures\n",
    "# -----------------------------\n",
    "with open(\"D:\\Study\\Ai_Music_Composer\\project\\data\\generator_training_data.pkl\", \"rb\") as f:\n",
    "    data = pickle.load(f)\n",
    "\n",
    "note_to_idx = data[\"note_to_idx\"]  # Dictionary mapping note -> index\n",
    "idx_to_note = data[\"idx_to_note\"]  # Dictionary mapping index -> note\n",
    "\n",
    "SEQ_LEN = 50\n",
    "num_moods = 4\n",
    "num_notes = len(note_to_idx)  # Should be 128 in your case"
   ]
  },
  {
   "cell_type": "code",
   "execution_count": null,
   "id": "7d72905d",
   "metadata": {},
   "outputs": [],
   "source": [
    "# Define Model\n",
    "# -----------------------------\n",
    "# Inputs\n",
    "note_input = tf.keras.layers.Input(shape=(SEQ_LEN, 1), name=\"note_input\")\n",
    "mood_input = tf.keras.layers.Input(shape=(1,), name=\"mood_input\")\n",
    "\n",
    "# Note embedding\n",
    "note_emb = tf.keras.layers.Embedding(\n",
    "    input_dim=num_notes,\n",
    "    output_dim=100\n",
    ")(tf.keras.layers.Flatten()(note_input))\n",
    "\n",
    "# Mood embedding\n",
    "mood_emb = tf.keras.layers.Embedding(\n",
    "    input_dim=num_moods,\n",
    "    output_dim=10\n",
    ")(tf.keras.layers.Flatten()(mood_input))  # Flatten to remove extra dimension\n",
    "mood_emb_repeat = tf.keras.layers.RepeatVector(SEQ_LEN)(mood_emb)\n",
    "\n",
    "# Combine\n",
    "x = tf.keras.layers.Concatenate()([note_emb, mood_emb_repeat])\n",
    "\n",
    "# LSTM layers\n",
    "x = tf.keras.layers.LSTM(256, return_sequences=True)(x)\n",
    "x = tf.keras.layers.LSTM(256)(x)\n",
    "\n",
    "# Output\n",
    "output = tf.keras.layers.Dense(num_notes, activation=\"softmax\")(x)\n",
    "\n",
    "# Model\n",
    "model = tf.keras.Model(inputs=[note_input, mood_input], outputs=output)\n",
    "model.compile(loss=\"sparse_categorical_crossentropy\", optimizer=\"adam\")"
   ]
  },
  {
   "cell_type": "code",
   "execution_count": null,
   "id": "b67ea431",
   "metadata": {},
   "outputs": [],
   "source": [
    "# --------------------------\n",
    "# LOAD TRAINED WEIGHTS\n",
    "# --------------------------\n",
    "model.load_weights(\"D:\\Study\\Ai_Music_Composer\\project\\models\\music_generator.h5\")  # Make sure this exists"
   ]
  },
  {
   "cell_type": "code",
   "execution_count": null,
   "id": "15af0603",
   "metadata": {},
   "outputs": [],
   "source": [
    "# -----------------------------\n",
    "# Function to Generate Music\n",
    "# -----------------------------\n",
    "def generate_music(model, seed_sequence, mood, length=100):\n",
    "    generated = seed_sequence.copy()\n",
    "    for _ in range(length):\n",
    "        input_seq = np.array(generated[-SEQ_LEN:]).reshape(1, SEQ_LEN, 1)\n",
    "        input_mood = np.array([mood]).reshape(1, 1)\n",
    "\n",
    "        preds = model.predict([input_seq, input_mood], verbose=0)\n",
    "        next_note = np.argmax(preds, axis=-1)[0]\n",
    "        generated.append(next_note)\n",
    "\n",
    "    return generated"
   ]
  },
  {
   "cell_type": "code",
   "execution_count": null,
   "id": "a3c79565",
   "metadata": {},
   "outputs": [],
   "source": [
    "# Ask user for mood\n",
    "# -----------------------------\n",
    "mood_map = {\n",
    "    \"happy\": 0,\n",
    "    \"sad\": 1,\n",
    "    \"angry\": 2,\n",
    "    \"relaxed\": 3\n",
    "}\n",
    "\n",
    "mood_input_user = input(\"Enter mood (happy, sad, angry, relaxed): \").strip().lower()\n",
    "if mood_input_user not in mood_map:\n",
    "    raise ValueError(\"Invalid mood. Choose from: happy, sad, angry, relaxed\")\n",
    "\n",
    "mood_value = mood_map[mood_input_user]"
   ]
  },
  {
   "cell_type": "code",
   "execution_count": null,
   "id": "75ba7786",
   "metadata": {},
   "outputs": [],
   "source": [
    "# Example seed sequence: 50 zeros (could be replaced with real seed)\n",
    "seed_sequence = [0] * SEQ_LEN\n",
    "\n",
    "# Generate music\n",
    "generated_notes = generate_music(model, seed_sequence, mood_value, length=100)\n",
    "\n",
    "# Convert notes back to readable format\n",
    "generated_notes_readable = [idx_to_note[n] for n in generated_notes]\n",
    "print(\"Generated notes:\", generated_notes_readable)"
   ]
  }
 ],
 "metadata": {
  "kernelspec": {
   "display_name": "Python 3",
   "language": "python",
   "name": "python3"
  },
  "language_info": {
   "codemirror_mode": {
    "name": "ipython",
    "version": 3
   },
   "file_extension": ".py",
   "mimetype": "text/x-python",
   "name": "python",
   "nbconvert_exporter": "python",
   "pygments_lexer": "ipython3",
   "version": "3.11.9"
  }
 },
 "nbformat": 4,
 "nbformat_minor": 5
}
