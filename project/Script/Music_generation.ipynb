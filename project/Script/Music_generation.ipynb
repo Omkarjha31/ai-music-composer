{
 "cells": [
  {
   "cell_type": "code",
   "execution_count": null,
   "id": "6d0086bf",
   "metadata": {},
   "outputs": [],
   "source": [
    "import pickle\n",
    "import numpy as np\n",
    "import tensorflow as tf\n",
    "from tensorflow.keras.models import load_model\n",
    "from music21 import stream, note, chord, instrument"
   ]
  },
  {
   "cell_type": "code",
   "execution_count": null,
   "id": "9fdd0147",
   "metadata": {},
   "outputs": [],
   "source": [
    "# Load training data mappings\n",
    "with open(\"D:\\Study\\Ai_Music_Composer\\project\\data\\generator_training_data.pkl\", \"rb\") as f:\n",
    "    data = pickle.load(f)\n",
    "\n",
    "note_to_int = data[\"note_to_int\"]\n",
    "int_to_note = data[\"int_to_note\"]\n",
    "mood_to_int = data[\"mood_to_int\"]\n",
    "int_to_mood = data[\"int_to_mood\"]\n",
    "SEQ_LEN = data[\"seq_len\"]\n",
    "\n",
    "n_vocab = len(note_to_int)"
   ]
  },
  {
   "cell_type": "code",
   "execution_count": null,
   "id": "7d72905d",
   "metadata": {},
   "outputs": [],
   "source": [
    "# Load trained generator model\n",
    "generator = load_model(\"D:\\Study\\Ai_Music_Composer\\project\\models\\lstm_mood_classifier.h5\")"
   ]
  },
  {
   "cell_type": "code",
   "execution_count": null,
   "id": "15af0603",
   "metadata": {},
   "outputs": [],
   "source": [
    "# Ask user for mood input\n",
    "print(\"Available moods:\", list(mood_to_int.keys()))\n",
    "user_mood = input(\"Enter the mood you want to generate music for: \").strip().lower()\n",
    "\n",
    "if user_mood not in mood_to_int:\n",
    "    raise ValueError(f\"Mood '{user_mood}' not found! Available: {list(mood_to_int.keys())}\")\n",
    "\n",
    "mood_int = mood_to_int[user_mood]"
   ]
  },
  {
   "cell_type": "code",
   "execution_count": null,
   "id": "a3c79565",
   "metadata": {},
   "outputs": [],
   "source": [
    "# Pick a random starting sequence\n",
    "start_seq = np.random.choice(list(note_to_int.values()), SEQ_LEN)\n",
    "pattern = list(start_seq)"
   ]
  },
  {
   "cell_type": "code",
   "execution_count": null,
   "id": "75ba7786",
   "metadata": {},
   "outputs": [],
   "source": [
    "# Generate music\n",
    "generated_notes = []\n",
    "num_generate = 200  # Number of notes to generate\n",
    "\n",
    "for _ in range(num_generate):\n",
    "    input_seq = np.reshape(pattern, (1, SEQ_LEN))\n",
    "    input_mood = np.array([mood_int]).reshape(1, 1)\n",
    "\n",
    "    prediction = generator.predict([input_seq, input_mood], verbose=0)\n",
    "    next_note_int = np.argmax(prediction)\n",
    "    next_note = int_to_note[next_note_int]\n",
    "\n",
    "    generated_notes.append(next_note)\n",
    "\n",
    "    # Update pattern\n",
    "    pattern.append(next_note_int)\n",
    "    pattern = pattern[-SEQ_LEN:]"
   ]
  },
  {
   "cell_type": "code",
   "execution_count": null,
   "id": "d2c2bad3",
   "metadata": {},
   "outputs": [],
   "source": [
    "# Convert to MIDI\n",
    "output_notes = []\n",
    "for n in generated_notes:\n",
    "    if (\".\" in n) or n.isdigit():  # Chord\n",
    "        notes_in_chord = n.split(\".\")\n",
    "        chord_notes = [note.Note(int(n_i)) for n_i in notes_in_chord]\n",
    "        for n_ in chord_notes:\n",
    "            n_.storedInstrument = instrument.Piano()\n",
    "        new_chord = chord.Chord(chord_notes)\n",
    "        output_notes.append(new_chord)\n",
    "    else:  # Single note\n",
    "        new_note = note.Note(n)\n",
    "        new_note.storedInstrument = instrument.Piano()\n",
    "        output_notes.append(new_note)\n",
    "\n",
    "midi_stream = stream.Stream(output_notes)\n",
    "midi_stream.write(\"midi\", fp=f\"generated_{user_mood}.mid\")\n",
    "\n",
    "print(f\"✅ Music generated and saved as generated_{user_mood}.mid\")"
   ]
  }
 ],
 "metadata": {
  "kernelspec": {
   "display_name": "Python 3",
   "language": "python",
   "name": "python3"
  },
  "language_info": {
   "codemirror_mode": {
    "name": "ipython",
    "version": 3
   },
   "file_extension": ".py",
   "mimetype": "text/x-python",
   "name": "python",
   "nbconvert_exporter": "python",
   "pygments_lexer": "ipython3",
   "version": "3.11.9"
  }
 },
 "nbformat": 4,
 "nbformat_minor": 5
}
