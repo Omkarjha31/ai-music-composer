{
 "cells": [
  {
   "cell_type": "code",
   "execution_count": 1,
   "id": "23ed095d",
   "metadata": {},
   "outputs": [],
   "source": [
    "import pandas as pd"
   ]
  },
  {
   "cell_type": "code",
   "execution_count": 2,
   "id": "e4079f88",
   "metadata": {},
   "outputs": [],
   "source": [
    "# Load your reduced labels CSV\n",
    "df = pd.read_csv('D:/Study/Ai_Music_Composer/project/data/labels_reduced.csv')"
   ]
  },
  {
   "cell_type": "code",
   "execution_count": 3,
   "id": "9ccda2c2",
   "metadata": {},
   "outputs": [],
   "source": [
    "# Number of files per emotion class\n",
    "n_per_class = 1000  # Or 500 or 750 based on your target size"
   ]
  },
  {
   "cell_type": "code",
   "execution_count": 4,
   "id": "17c357cf",
   "metadata": {},
   "outputs": [
    {
     "name": "stderr",
     "output_type": "stream",
     "text": [
      "C:\\Users\\OMKAR JHA\\AppData\\Local\\Temp\\ipykernel_9704\\1646680425.py:2: DeprecationWarning: DataFrameGroupBy.apply operated on the grouping columns. This behavior is deprecated, and in a future version of pandas the grouping columns will be excluded from the operation. Either pass `include_groups=False` to exclude the groupings or explicitly select the grouping columns after groupby to silence this warning.\n",
      "  balanced_df = df.groupby('mood').apply(lambda x: x.sample(min(len(x), n_per_class), random_state=42)).reset_index(drop=True)\n"
     ]
    }
   ],
   "source": [
    "# Sample data per class\n",
    "balanced_df = df.groupby('mood').apply(lambda x: x.sample(min(len(x), n_per_class), random_state=42)).reset_index(drop=True)"
   ]
  },
  {
   "cell_type": "code",
   "execution_count": 5,
   "id": "e2a846e9",
   "metadata": {},
   "outputs": [
    {
     "name": "stdout",
     "output_type": "stream",
     "text": [
      "✅ Balanced subset created: mood\n",
      "angry      1000\n",
      "happy      1000\n",
      "relaxed    1000\n",
      "sad        1000\n",
      "Name: count, dtype: int64\n"
     ]
    }
   ],
   "source": [
    "# Save new smaller dataset\n",
    "balanced_df.to_csv('D:/Study/Ai_Music_Composer/project/data/balanced_labels.csv', index=False)\n",
    "\n",
    "print(\"✅ Balanced subset created:\", balanced_df['mood'].value_counts())"
   ]
  }
 ],
 "metadata": {
  "kernelspec": {
   "display_name": "Python 3",
   "language": "python",
   "name": "python3"
  },
  "language_info": {
   "codemirror_mode": {
    "name": "ipython",
    "version": 3
   },
   "file_extension": ".py",
   "mimetype": "text/x-python",
   "name": "python",
   "nbconvert_exporter": "python",
   "pygments_lexer": "ipython3",
   "version": "3.11.9"
  }
 },
 "nbformat": 4,
 "nbformat_minor": 5
}
