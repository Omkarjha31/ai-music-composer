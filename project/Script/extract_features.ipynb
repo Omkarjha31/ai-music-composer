{
 "cells": [
  {
   "cell_type": "code",
   "execution_count": 1,
   "id": "3fa22c63",
   "metadata": {},
   "outputs": [],
   "source": [
    "import os\n",
    "import pandas as pd\n",
    "import pretty_midi\n",
    "from tqdm import tqdm"
   ]
  },
  {
   "cell_type": "markdown",
   "id": "06da2ab0",
   "metadata": {},
   "source": [
    "# Function for extracting features from MIDI files"
   ]
  },
  {
   "cell_type": "code",
   "execution_count": 2,
   "id": "1ec2cc77",
   "metadata": {},
   "outputs": [],
   "source": [
    "def extract_features(midi_path):\n",
    "    try:\n",
    "        pm = pretty_midi.PrettyMIDI(midi_path)\n",
    "        \n",
    "        tempo = pm.get_tempo_changes()[1].mean() if pm.get_tempo_changes()[1].size > 0 else 120\n",
    "        notes = [note.pitch for instrument in pm.instruments for note in instrument.notes]\n",
    "        durations = [note.end - note.start for instrument in pm.instruments for note in instrument.notes]\n",
    "        is_drum = any(instr.is_drum for instr in pm.instruments)\n",
    "        \n",
    "        return {\n",
    "            \"tempo\": tempo,\n",
    "            \"note_density\": len(notes) / pm.get_end_time() if pm.get_end_time() else 0,\n",
    "            \"pitch_mean\": sum(notes)/len(notes) if notes else 0,\n",
    "            \"pitch_std\": pd.Series(notes).std() if notes else 0,\n",
    "            \"note_duration_mean\": sum(durations)/len(durations) if durations else 0,\n",
    "            \"instrument_count\": len(pm.instruments),\n",
    "            \"is_drum_present\": int(is_drum)\n",
    "        }\n",
    "    except Exception as e:\n",
    "        print(f\"❌ Error processing {midi_path}: {e}\")\n",
    "        return None"
   ]
  },
  {
   "cell_type": "markdown",
   "id": "eb338901",
   "metadata": {},
   "source": [
    "# Extracting features from files and storing it in list (features)"
   ]
  },
  {
   "cell_type": "code",
   "execution_count": null,
   "id": "d4203733",
   "metadata": {},
   "outputs": [],
   "source": [
    "#df = pd.read_csv('D:/Study/Ai_Music_Composer/project/data/labels.csv') don't run if you have already extracted\n",
    "features = []\n",
    "\n",
    "print(\"⏳ Extracting features from MIDI files...\")\n",
    "\n",
    "for idx, row in tqdm(df.iterrows(), total=len(df)):\n",
    "    f = extract_features(row['file_path'])\n",
    "    if f:\n",
    "        f['file_path'] = row['file_path']\n",
    "        f['mood'] = row['mood']\n",
    "        features.append(f)"
   ]
  },
  {
   "cell_type": "markdown",
   "id": "0b3fc7a3",
   "metadata": {},
   "source": [
    "# Converting list to a csv file"
   ]
  },
  {
   "cell_type": "code",
   "execution_count": null,
   "id": "21cdbd93",
   "metadata": {},
   "outputs": [
    {
     "name": "stdout",
     "output_type": "stream",
     "text": [
      "\n",
      "✅ Saved extracted features for 108023 MIDI files to features/all_features.csv\n"
     ]
    }
   ],
   "source": [
    "features_df = pd.DataFrame(features)\n",
    "features_df.to_csv('D:/Study/Ai_Music_Composer/project/features/all_features.csv', index=False)\n",
    "\n",
    "print(f\"\\n✅ Saved extracted features for {len(features_df)} MIDI files to features/all_features.csv\")"
   ]
  }
 ],
 "metadata": {
  "kernelspec": {
   "display_name": "Python 3",
   "language": "python",
   "name": "python3"
  },
  "language_info": {
   "codemirror_mode": {
    "name": "ipython",
    "version": 3
   },
   "file_extension": ".py",
   "mimetype": "text/x-python",
   "name": "python",
   "nbconvert_exporter": "python",
   "pygments_lexer": "ipython3",
   "version": "3.11.9"
  }
 },
 "nbformat": 4,
 "nbformat_minor": 5
}
