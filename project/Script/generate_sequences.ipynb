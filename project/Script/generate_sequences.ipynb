{
 "cells": [
  {
   "cell_type": "code",
   "execution_count": 32,
   "id": "7d6e17d7",
   "metadata": {},
   "outputs": [],
   "source": [
    "import os\n",
    "import pickle\n",
    "import pandas as pd\n",
    "import pretty_midi\n",
    "from tqdm import tqdm"
   ]
  },
  {
   "cell_type": "code",
   "execution_count": 33,
   "id": "3eec5175",
   "metadata": {},
   "outputs": [],
   "source": [
    "# Parameters\n",
    "SEQUENCE_LENGTH = 20\n",
    "DATA_DIR = 'D:/Study/Ai_Music_Composer/MIDI_Dataset'\n",
    "LABEL_CSV = 'D:/Study/Ai_Music_Composer/project/data/balanced_labels.csv'\n",
    "PROGRESS_PICKLE = 'D:/Study/Ai_Music_Composer/project/data/processed_files.pkl'\n",
    "OUTPUT_PICKLE = \"D:/Study/Ai_Music_Composer/project/data/note_sequences.pkl\""
   ]
  },
  {
   "cell_type": "code",
   "execution_count": 34,
   "id": "042e2bab",
   "metadata": {},
   "outputs": [],
   "source": [
    "# Load reduced labels CSV\n",
    "df = pd.read_csv(LABEL_CSV)\n",
    "filepaths = df['file_path'].tolist()\n",
    "labels = df['mood'].tolist()\n",
    "# sequences = []"
   ]
  },
  {
   "cell_type": "code",
   "execution_count": 35,
   "id": "b62ba36e",
   "metadata": {},
   "outputs": [],
   "source": [
    "# === LOAD PROCESSED FILE LIST ===\n",
    "if os.path.exists(PROGRESS_PICKLE):\n",
    "    try:\n",
    "        with open(PROGRESS_PICKLE, 'rb') as f:\n",
    "            processed_files = set(pickle.load(f))\n",
    "    except Exception as e:\n",
    "        print(f\"⚠️ Error loading {PROGRESS_PICKLE}: {e}\")\n",
    "        processed_files = set()\n",
    "else:\n",
    "    processed_files = set()"
   ]
  },
  {
   "cell_type": "code",
   "execution_count": 36,
   "id": "6b347c1f",
   "metadata": {},
   "outputs": [
    {
     "name": "stdout",
     "output_type": "stream",
     "text": [
      "⚠️ Error loading D:/Study/Ai_Music_Composer/project/data/note_sequences.pkl: Ran out of input\n"
     ]
    }
   ],
   "source": [
    "# === LOAD EXISTING SEQUENCES IF FILE EXISTS ===\n",
    "if os.path.exists(OUTPUT_PICKLE) and os.path.getsize(OUTPUT_PICKLE) > 0:\n",
    "    try:\n",
    "        with open(OUTPUT_PICKLE, 'rb') as f:\n",
    "            data = pickle.load(f)\n",
    "            all_sequences = data.get('sequences', [])\n",
    "            all_labels = data.get('labels', [])\n",
    "    except Exception as e:\n",
    "        print(f\"⚠️ Error loading {OUTPUT_PICKLE}: {e}\")\n",
    "        all_sequences = []\n",
    "        all_labels = []\n",
    "else:\n",
    "    all_sequences = []\n",
    "    all_labels = []"
   ]
  },
  {
   "cell_type": "code",
   "execution_count": 37,
   "id": "313acfd9",
   "metadata": {},
   "outputs": [],
   "source": [
    "# === FUNCTION TO EXTRACT NOTES FROM A MIDI FILE ===\n",
    "def extract_notes(midi_file):\n",
    "    try:\n",
    "        midi_data = pretty_midi.PrettyMIDI(midi_file)\n",
    "        notes = []\n",
    "        for instrument in midi_data.instruments:\n",
    "            if instrument.is_drum:\n",
    "                continue\n",
    "            for note in instrument.notes:\n",
    "                notes.append(note.pitch)\n",
    "        return notes\n",
    "    except Exception as e:\n",
    "        print(f\"❌ Error processing {midi_file}: {e}\")\n",
    "        return []"
   ]
  },
  {
   "cell_type": "code",
   "execution_count": 40,
   "id": "dfe8028e",
   "metadata": {},
   "outputs": [
    {
     "name": "stderr",
     "output_type": "stream",
     "text": [
      " 91%|█████████ | 3635/4000 [00:13<00:01, 268.98it/s]"
     ]
    },
    {
     "name": "stdout",
     "output_type": "stream",
     "text": [
      "✅ Processed D:/Study/Ai_Music_Composer/MIDI_Dataset\\XMIDI_sad_traditional_TPJ9NG7L.midi — 1586 notes, 1566 sequences\n"
     ]
    },
    {
     "name": "stderr",
     "output_type": "stream",
     "text": [
      " 91%|█████████ | 3636/4000 [00:32<00:04, 89.41it/s] "
     ]
    },
    {
     "name": "stdout",
     "output_type": "stream",
     "text": [
      "✅ Processed D:/Study/Ai_Music_Composer/MIDI_Dataset\\XMIDI_fear_rock_IBRI82JM.midi — 2357 notes, 2337 sequences\n"
     ]
    },
    {
     "name": "stderr",
     "output_type": "stream",
     "text": [
      " 91%|█████████ | 3637/4000 [00:50<00:07, 47.62it/s]"
     ]
    },
    {
     "name": "stdout",
     "output_type": "stream",
     "text": [
      "✅ Processed D:/Study/Ai_Music_Composer/MIDI_Dataset\\XMIDI_quiet_country_48QGK7PX.midi — 2301 notes, 2281 sequences\n"
     ]
    },
    {
     "name": "stderr",
     "output_type": "stream",
     "text": [
      " 91%|█████████ | 3638/4000 [01:08<00:12, 28.07it/s]"
     ]
    },
    {
     "name": "stdout",
     "output_type": "stream",
     "text": [
      "✅ Processed D:/Study/Ai_Music_Composer/MIDI_Dataset\\XMIDI_quiet_jazz_MQUY61HB.midi — 542 notes, 522 sequences\n"
     ]
    },
    {
     "name": "stderr",
     "output_type": "stream",
     "text": [
      " 91%|█████████ | 3639/4000 [01:24<00:19, 18.51it/s]"
     ]
    },
    {
     "name": "stdout",
     "output_type": "stream",
     "text": [
      "✅ Processed D:/Study/Ai_Music_Composer/MIDI_Dataset\\XMIDI_sad_country_TNJBZJSP.midi — 714 notes, 694 sequences\n"
     ]
    },
    {
     "name": "stderr",
     "output_type": "stream",
     "text": [
      " 91%|█████████ | 3640/4000 [01:40<00:29, 12.39it/s]"
     ]
    },
    {
     "name": "stdout",
     "output_type": "stream",
     "text": [
      "✅ Processed D:/Study/Ai_Music_Composer/MIDI_Dataset\\XMIDI_sad_jazz_DDZBOVWT.midi — 816 notes, 796 sequences\n"
     ]
    },
    {
     "name": "stderr",
     "output_type": "stream",
     "text": [
      " 91%|█████████ | 3641/4000 [01:55<00:41,  8.69it/s]"
     ]
    },
    {
     "name": "stdout",
     "output_type": "stream",
     "text": [
      "✅ Processed D:/Study/Ai_Music_Composer/MIDI_Dataset\\XMIDI_quiet_jazz_BNJ3QO9B.midi — 2150 notes, 2130 sequences\n"
     ]
    },
    {
     "name": "stderr",
     "output_type": "stream",
     "text": [
      " 91%|█████████ | 3642/4000 [02:12<01:00,  5.94it/s]"
     ]
    },
    {
     "name": "stdout",
     "output_type": "stream",
     "text": [
      "✅ Processed D:/Study/Ai_Music_Composer/MIDI_Dataset\\XMIDI_sad_country_ET02J7XV.midi — 1839 notes, 1819 sequences\n"
     ]
    },
    {
     "name": "stderr",
     "output_type": "stream",
     "text": [
      " 91%|█████████ | 3643/4000 [02:26<01:24,  4.21it/s]"
     ]
    },
    {
     "name": "stdout",
     "output_type": "stream",
     "text": [
      "✅ Processed D:/Study/Ai_Music_Composer/MIDI_Dataset\\XMIDI_sad_rock_BKX2PXMO.midi — 1527 notes, 1507 sequences\n"
     ]
    },
    {
     "name": "stderr",
     "output_type": "stream",
     "text": [
      " 91%|█████████ | 3644/4000 [02:44<02:06,  2.82it/s]"
     ]
    },
    {
     "name": "stdout",
     "output_type": "stream",
     "text": [
      "✅ Processed D:/Study/Ai_Music_Composer/MIDI_Dataset\\XMIDI_quiet_classical_DCZEA1OC.midi — 872 notes, 852 sequences\n"
     ]
    },
    {
     "name": "stderr",
     "output_type": "stream",
     "text": [
      " 91%|█████████ | 3645/4000 [03:11<03:34,  1.65it/s]"
     ]
    },
    {
     "name": "stdout",
     "output_type": "stream",
     "text": [
      "✅ Processed D:/Study/Ai_Music_Composer/MIDI_Dataset\\XMIDI_fear_classical_BEGQAAHP.midi — 216 notes, 196 sequences\n"
     ]
    },
    {
     "name": "stderr",
     "output_type": "stream",
     "text": [
      " 91%|█████████ | 3646/4000 [03:39<05:41,  1.04it/s]"
     ]
    },
    {
     "name": "stdout",
     "output_type": "stream",
     "text": [
      "✅ Processed D:/Study/Ai_Music_Composer/MIDI_Dataset\\XMIDI_quiet_country_87JX5P6T.midi — 6877 notes, 6857 sequences\n"
     ]
    },
    {
     "name": "stderr",
     "output_type": "stream",
     "text": [
      " 91%|█████████ | 3647/4000 [04:04<08:17,  1.41s/it]"
     ]
    },
    {
     "name": "stdout",
     "output_type": "stream",
     "text": [
      "✅ Processed D:/Study/Ai_Music_Composer/MIDI_Dataset\\XMIDI_sad_traditional_W14B9MVS.midi — 3069 notes, 3049 sequences\n"
     ]
    },
    {
     "name": "stderr",
     "output_type": "stream",
     "text": [
      " 91%|█████████ | 3648/4000 [04:28<11:47,  2.01s/it]"
     ]
    },
    {
     "name": "stdout",
     "output_type": "stream",
     "text": [
      "✅ Processed D:/Study/Ai_Music_Composer/MIDI_Dataset\\XMIDI_sad_country_0HT1K86T.midi — 2252 notes, 2232 sequences\n"
     ]
    },
    {
     "name": "stderr",
     "output_type": "stream",
     "text": [
      " 91%|█████████ | 3649/4000 [04:50<15:59,  2.73s/it]"
     ]
    },
    {
     "name": "stdout",
     "output_type": "stream",
     "text": [
      "✅ Processed D:/Study/Ai_Music_Composer/MIDI_Dataset\\XMIDI_fear_rock_PDOTQU4U.midi — 2341 notes, 2321 sequences\n"
     ]
    },
    {
     "name": "stderr",
     "output_type": "stream",
     "text": [
      " 91%|█████████▏| 3650/4000 [05:13<21:41,  3.72s/it]"
     ]
    },
    {
     "name": "stdout",
     "output_type": "stream",
     "text": [
      "✅ Processed D:/Study/Ai_Music_Composer/MIDI_Dataset\\XMIDI_sad_jazz_VHH4D05Z.midi — 1350 notes, 1330 sequences\n"
     ]
    },
    {
     "name": "stderr",
     "output_type": "stream",
     "text": [
      " 91%|█████████▏| 3651/4000 [05:39<30:01,  5.16s/it]"
     ]
    },
    {
     "name": "stdout",
     "output_type": "stream",
     "text": [
      "✅ Processed D:/Study/Ai_Music_Composer/MIDI_Dataset\\XMIDI_quiet_jazz_9MRMB2DV.midi — 924 notes, 904 sequences\n"
     ]
    },
    {
     "name": "stderr",
     "output_type": "stream",
     "text": [
      " 91%|█████████▏| 3652/4000 [06:08<41:36,  7.17s/it]"
     ]
    },
    {
     "name": "stdout",
     "output_type": "stream",
     "text": [
      "✅ Processed D:/Study/Ai_Music_Composer/MIDI_Dataset\\XMIDI_sad_rock_1N3TQJ01.midi — 1428 notes, 1408 sequences\n"
     ]
    },
    {
     "name": "stderr",
     "output_type": "stream",
     "text": [
      " 91%|█████████▏| 3653/4000 [06:33<52:42,  9.11s/it]"
     ]
    },
    {
     "name": "stdout",
     "output_type": "stream",
     "text": [
      "✅ Processed D:/Study/Ai_Music_Composer/MIDI_Dataset\\XMIDI_fear_rock_CVWFO9ZI.midi — 2556 notes, 2536 sequences\n"
     ]
    },
    {
     "name": "stderr",
     "output_type": "stream",
     "text": [
      " 91%|█████████▏| 3654/4000 [07:00<1:06:04, 11.46s/it]"
     ]
    },
    {
     "name": "stdout",
     "output_type": "stream",
     "text": [
      "✅ Processed D:/Study/Ai_Music_Composer/MIDI_Dataset\\XMIDI_quiet_pop_JR5TF5R8.midi — 1176 notes, 1156 sequences\n"
     ]
    },
    {
     "name": "stderr",
     "output_type": "stream",
     "text": [
      " 91%|█████████▏| 3655/4000 [07:25<1:18:50, 13.71s/it]"
     ]
    },
    {
     "name": "stdout",
     "output_type": "stream",
     "text": [
      "✅ Processed D:/Study/Ai_Music_Composer/MIDI_Dataset\\XMIDI_quiet_classical_EZDQVUJC.midi — 875 notes, 855 sequences\n"
     ]
    },
    {
     "name": "stderr",
     "output_type": "stream",
     "text": [
      " 91%|█████████▏| 3656/4000 [07:49<1:29:10, 15.55s/it]"
     ]
    },
    {
     "name": "stdout",
     "output_type": "stream",
     "text": [
      "✅ Processed D:/Study/Ai_Music_Composer/MIDI_Dataset\\XMIDI_sad_country_1D410F1T.midi — 527 notes, 507 sequences\n"
     ]
    },
    {
     "name": "stderr",
     "output_type": "stream",
     "text": [
      " 91%|█████████▏| 3657/4000 [08:12<1:38:33, 17.24s/it]"
     ]
    },
    {
     "name": "stdout",
     "output_type": "stream",
     "text": [
      "✅ Processed D:/Study/Ai_Music_Composer/MIDI_Dataset\\XMIDI_sad_pop_UHA9J94V.midi — 1245 notes, 1225 sequences\n"
     ]
    },
    {
     "name": "stderr",
     "output_type": "stream",
     "text": [
      " 91%|█████████▏| 3658/4000 [08:37<1:47:40, 18.89s/it]"
     ]
    },
    {
     "name": "stdout",
     "output_type": "stream",
     "text": [
      "✅ Processed D:/Study/Ai_Music_Composer/MIDI_Dataset\\XMIDI_sad_country_D39WCH1C.midi — 3287 notes, 3267 sequences\n"
     ]
    },
    {
     "name": "stderr",
     "output_type": "stream",
     "text": [
      " 91%|█████████▏| 3659/4000 [09:02<1:55:32, 20.33s/it]"
     ]
    },
    {
     "name": "stdout",
     "output_type": "stream",
     "text": [
      "✅ Processed D:/Study/Ai_Music_Composer/MIDI_Dataset\\XMIDI_sad_classical_BJWQYJFP.midi — 1507 notes, 1487 sequences\n"
     ]
    },
    {
     "name": "stderr",
     "output_type": "stream",
     "text": [
      " 92%|█████████▏| 3660/4000 [09:25<2:00:34, 21.28s/it]"
     ]
    },
    {
     "name": "stdout",
     "output_type": "stream",
     "text": [
      "✅ Processed D:/Study/Ai_Music_Composer/MIDI_Dataset\\XMIDI_quiet_classical_85PO2XC7.midi — 882 notes, 862 sequences\n"
     ]
    },
    {
     "name": "stderr",
     "output_type": "stream",
     "text": [
      " 92%|█████████▏| 3661/4000 [09:51<2:06:54, 22.46s/it]"
     ]
    },
    {
     "name": "stdout",
     "output_type": "stream",
     "text": [
      "✅ Processed D:/Study/Ai_Music_Composer/MIDI_Dataset\\XMIDI_fear_classical_SD83FP7Z.midi — 646 notes, 626 sequences\n"
     ]
    },
    {
     "name": "stderr",
     "output_type": "stream",
     "text": [
      " 92%|█████████▏| 3662/4000 [10:17<2:12:23, 23.50s/it]"
     ]
    },
    {
     "name": "stdout",
     "output_type": "stream",
     "text": [
      "✅ Processed D:/Study/Ai_Music_Composer/MIDI_Dataset\\XMIDI_sad_country_W9P5EAYT.midi — 1583 notes, 1563 sequences\n"
     ]
    },
    {
     "name": "stderr",
     "output_type": "stream",
     "text": [
      " 92%|█████████▏| 3663/4000 [10:41<2:12:58, 23.68s/it]"
     ]
    },
    {
     "name": "stdout",
     "output_type": "stream",
     "text": [
      "✅ Processed D:/Study/Ai_Music_Composer/MIDI_Dataset\\XMIDI_quiet_classical_HZV8FRY2.midi — 602 notes, 582 sequences\n"
     ]
    },
    {
     "name": "stderr",
     "output_type": "stream",
     "text": [
      " 92%|█████████▏| 3664/4000 [11:04<2:11:33, 23.49s/it]"
     ]
    },
    {
     "name": "stdout",
     "output_type": "stream",
     "text": [
      "✅ Processed D:/Study/Ai_Music_Composer/MIDI_Dataset\\XMIDI_fear_pop_5DXWFR2R.midi — 2177 notes, 2157 sequences\n"
     ]
    },
    {
     "name": "stderr",
     "output_type": "stream",
     "text": [
      " 92%|█████████▏| 3665/4000 [11:29<2:12:23, 23.71s/it]"
     ]
    },
    {
     "name": "stdout",
     "output_type": "stream",
     "text": [
      "✅ Processed D:/Study/Ai_Music_Composer/MIDI_Dataset\\XMIDI_sad_country_8EM9NVHG.midi — 1787 notes, 1767 sequences\n"
     ]
    },
    {
     "name": "stderr",
     "output_type": "stream",
     "text": [
      " 92%|█████████▏| 3666/4000 [11:51<2:09:50, 23.33s/it]"
     ]
    },
    {
     "name": "stdout",
     "output_type": "stream",
     "text": [
      "✅ Processed D:/Study/Ai_Music_Composer/MIDI_Dataset\\XMIDI_sad_rock_IZQ3YDU7.midi — 1699 notes, 1679 sequences\n"
     ]
    },
    {
     "name": "stderr",
     "output_type": "stream",
     "text": [
      " 92%|█████████▏| 3667/4000 [12:13<2:06:57, 22.88s/it]"
     ]
    },
    {
     "name": "stdout",
     "output_type": "stream",
     "text": [
      "✅ Processed D:/Study/Ai_Music_Composer/MIDI_Dataset\\XMIDI_fear_classical_9E16RVHD.midi — 1656 notes, 1636 sequences\n"
     ]
    },
    {
     "name": "stderr",
     "output_type": "stream",
     "text": [
      " 92%|█████████▏| 3668/4000 [12:36<2:06:52, 22.93s/it]"
     ]
    },
    {
     "name": "stdout",
     "output_type": "stream",
     "text": [
      "✅ Processed D:/Study/Ai_Music_Composer/MIDI_Dataset\\XMIDI_sad_rock_OSG7V09L.midi — 1957 notes, 1937 sequences\n"
     ]
    },
    {
     "name": "stderr",
     "output_type": "stream",
     "text": [
      " 92%|█████████▏| 3669/4000 [12:59<2:07:02, 23.03s/it]"
     ]
    },
    {
     "name": "stdout",
     "output_type": "stream",
     "text": [
      "✅ Processed D:/Study/Ai_Music_Composer/MIDI_Dataset\\XMIDI_quiet_pop_B7X47SFV.midi — 1529 notes, 1509 sequences\n"
     ]
    },
    {
     "name": "stderr",
     "output_type": "stream",
     "text": [
      " 92%|█████████▏| 3670/4000 [13:23<2:08:18, 23.33s/it]"
     ]
    },
    {
     "name": "stdout",
     "output_type": "stream",
     "text": [
      "✅ Processed D:/Study/Ai_Music_Composer/MIDI_Dataset\\XMIDI_quiet_classical_YDCF63Y9.midi — 633 notes, 613 sequences\n"
     ]
    },
    {
     "name": "stderr",
     "output_type": "stream",
     "text": [
      " 92%|█████████▏| 3671/4000 [13:48<2:09:52, 23.69s/it]"
     ]
    },
    {
     "name": "stdout",
     "output_type": "stream",
     "text": [
      "✅ Processed D:/Study/Ai_Music_Composer/MIDI_Dataset\\XMIDI_sad_pop_2OO5QM60.midi — 2343 notes, 2323 sequences\n"
     ]
    },
    {
     "name": "stderr",
     "output_type": "stream",
     "text": [
      " 92%|█████████▏| 3672/4000 [14:06<2:00:41, 22.08s/it]"
     ]
    },
    {
     "name": "stdout",
     "output_type": "stream",
     "text": [
      "✅ Processed D:/Study/Ai_Music_Composer/MIDI_Dataset\\XMIDI_quiet_jazz_C4MQL4BA.midi — 1795 notes, 1775 sequences\n"
     ]
    },
    {
     "name": "stderr",
     "output_type": "stream",
     "text": [
      " 92%|█████████▏| 3673/4000 [14:16<1:40:31, 18.44s/it]"
     ]
    },
    {
     "name": "stdout",
     "output_type": "stream",
     "text": [
      "✅ Processed D:/Study/Ai_Music_Composer/MIDI_Dataset\\XMIDI_quiet_rock_OBGUPF51.midi — 1144 notes, 1124 sequences\n"
     ]
    },
    {
     "name": "stderr",
     "output_type": "stream",
     "text": [
      " 92%|█████████▏| 3674/4000 [14:26<1:25:52, 15.81s/it]"
     ]
    },
    {
     "name": "stdout",
     "output_type": "stream",
     "text": [
      "✅ Processed D:/Study/Ai_Music_Composer/MIDI_Dataset\\XMIDI_sad_traditional_AWK3PCIT.midi — 304 notes, 284 sequences\n"
     ]
    },
    {
     "name": "stderr",
     "output_type": "stream",
     "text": [
      " 92%|█████████▏| 3675/4000 [14:35<1:15:02, 13.85s/it]"
     ]
    },
    {
     "name": "stdout",
     "output_type": "stream",
     "text": [
      "✅ Processed D:/Study/Ai_Music_Composer/MIDI_Dataset\\XMIDI_fear_rock_XOXQGZDG.midi — 2256 notes, 2236 sequences\n"
     ]
    },
    {
     "name": "stderr",
     "output_type": "stream",
     "text": [
      " 92%|█████████▏| 3676/4000 [14:45<1:08:15, 12.64s/it]"
     ]
    },
    {
     "name": "stdout",
     "output_type": "stream",
     "text": [
      "✅ Processed D:/Study/Ai_Music_Composer/MIDI_Dataset\\XMIDI_sad_rock_BIWIDCKM.midi — 2585 notes, 2565 sequences\n"
     ]
    },
    {
     "name": "stderr",
     "output_type": "stream",
     "text": [
      " 92%|█████████▏| 3677/4000 [14:55<1:03:31, 11.80s/it]"
     ]
    },
    {
     "name": "stdout",
     "output_type": "stream",
     "text": [
      "✅ Processed D:/Study/Ai_Music_Composer/MIDI_Dataset\\XMIDI_quiet_jazz_BPWK10WN.midi — 1495 notes, 1475 sequences\n"
     ]
    },
    {
     "name": "stderr",
     "output_type": "stream",
     "text": [
      " 92%|█████████▏| 3678/4000 [15:04<59:18, 11.05s/it]  "
     ]
    },
    {
     "name": "stdout",
     "output_type": "stream",
     "text": [
      "✅ Processed D:/Study/Ai_Music_Composer/MIDI_Dataset\\XMIDI_sad_rock_NC6EFOJW.midi — 1268 notes, 1248 sequences\n"
     ]
    },
    {
     "name": "stderr",
     "output_type": "stream",
     "text": [
      " 92%|█████████▏| 3679/4000 [15:14<56:50, 10.62s/it]"
     ]
    },
    {
     "name": "stdout",
     "output_type": "stream",
     "text": [
      "✅ Processed D:/Study/Ai_Music_Composer/MIDI_Dataset\\XMIDI_sad_jazz_OM8GK9KB.midi — 2085 notes, 2065 sequences\n"
     ]
    },
    {
     "name": "stderr",
     "output_type": "stream",
     "text": [
      " 92%|█████████▏| 3680/4000 [15:23<54:26, 10.21s/it]"
     ]
    },
    {
     "name": "stdout",
     "output_type": "stream",
     "text": [
      "✅ Processed D:/Study/Ai_Music_Composer/MIDI_Dataset\\XMIDI_sad_rock_5XDWGLH5.midi — 1857 notes, 1837 sequences\n"
     ]
    },
    {
     "name": "stderr",
     "output_type": "stream",
     "text": [
      " 92%|█████████▏| 3681/4000 [15:32<52:41,  9.91s/it]"
     ]
    },
    {
     "name": "stdout",
     "output_type": "stream",
     "text": [
      "✅ Processed D:/Study/Ai_Music_Composer/MIDI_Dataset\\XMIDI_sad_jazz_MFPM7RCG.midi — 1933 notes, 1913 sequences\n"
     ]
    },
    {
     "name": "stderr",
     "output_type": "stream",
     "text": [
      " 92%|█████████▏| 3682/4000 [15:42<53:08, 10.03s/it]"
     ]
    },
    {
     "name": "stdout",
     "output_type": "stream",
     "text": [
      "✅ Processed D:/Study/Ai_Music_Composer/MIDI_Dataset\\XMIDI_sad_rock_35634EBG.midi — 585 notes, 565 sequences\n"
     ]
    },
    {
     "name": "stderr",
     "output_type": "stream",
     "text": [
      " 92%|█████████▏| 3683/4000 [15:52<52:43,  9.98s/it]"
     ]
    },
    {
     "name": "stdout",
     "output_type": "stream",
     "text": [
      "✅ Processed D:/Study/Ai_Music_Composer/MIDI_Dataset\\XMIDI_quiet_pop_INAAT0EJ.midi — 1462 notes, 1442 sequences\n"
     ]
    },
    {
     "name": "stderr",
     "output_type": "stream",
     "text": [
      " 92%|█████████▏| 3684/4000 [16:02<53:03, 10.07s/it]"
     ]
    },
    {
     "name": "stdout",
     "output_type": "stream",
     "text": [
      "✅ Processed D:/Study/Ai_Music_Composer/MIDI_Dataset\\XMIDI_sad_traditional_88HZ6M0B.midi — 796 notes, 776 sequences\n"
     ]
    },
    {
     "name": "stderr",
     "output_type": "stream",
     "text": [
      " 92%|█████████▏| 3685/4000 [16:13<53:45, 10.24s/it]"
     ]
    },
    {
     "name": "stdout",
     "output_type": "stream",
     "text": [
      "✅ Processed D:/Study/Ai_Music_Composer/MIDI_Dataset\\XMIDI_sad_classical_0DPFIZQ8.midi — 255 notes, 235 sequences\n"
     ]
    },
    {
     "name": "stderr",
     "output_type": "stream",
     "text": [
      " 92%|█████████▏| 3686/4000 [16:24<54:15, 10.37s/it]"
     ]
    },
    {
     "name": "stdout",
     "output_type": "stream",
     "text": [
      "✅ Processed D:/Study/Ai_Music_Composer/MIDI_Dataset\\XMIDI_sad_country_2Z0BUO3Z.midi — 1492 notes, 1472 sequences\n"
     ]
    },
    {
     "name": "stderr",
     "output_type": "stream",
     "text": [
      " 92%|█████████▏| 3687/4000 [16:34<53:11, 10.20s/it]"
     ]
    },
    {
     "name": "stdout",
     "output_type": "stream",
     "text": [
      "✅ Processed D:/Study/Ai_Music_Composer/MIDI_Dataset\\XMIDI_quiet_classical_6654DHYD.midi — 714 notes, 694 sequences\n"
     ]
    },
    {
     "name": "stderr",
     "output_type": "stream",
     "text": [
      " 92%|█████████▏| 3688/4000 [16:44<52:53, 10.17s/it]"
     ]
    },
    {
     "name": "stdout",
     "output_type": "stream",
     "text": [
      "✅ Processed D:/Study/Ai_Music_Composer/MIDI_Dataset\\XMIDI_quiet_classical_P3KAWC4D.midi — 80 notes, 60 sequences\n"
     ]
    },
    {
     "name": "stderr",
     "output_type": "stream",
     "text": [
      " 92%|█████████▏| 3689/4000 [16:53<51:52, 10.01s/it]"
     ]
    },
    {
     "name": "stdout",
     "output_type": "stream",
     "text": [
      "✅ Processed D:/Study/Ai_Music_Composer/MIDI_Dataset\\XMIDI_quiet_jazz_69CTJ4F3.midi — 1121 notes, 1101 sequences\n"
     ]
    },
    {
     "name": "stderr",
     "output_type": "stream",
     "text": [
      " 92%|█████████▏| 3690/4000 [17:06<56:08, 10.87s/it]"
     ]
    },
    {
     "name": "stdout",
     "output_type": "stream",
     "text": [
      "✅ Processed D:/Study/Ai_Music_Composer/MIDI_Dataset\\XMIDI_sad_classical_Z563AHQ2.midi — 538 notes, 518 sequences\n"
     ]
    },
    {
     "name": "stderr",
     "output_type": "stream",
     "text": [
      " 92%|█████████▏| 3691/4000 [17:19<59:06, 11.48s/it]"
     ]
    },
    {
     "name": "stdout",
     "output_type": "stream",
     "text": [
      "✅ Processed D:/Study/Ai_Music_Composer/MIDI_Dataset\\XMIDI_sad_country_75KQOAXX.midi — 3119 notes, 3099 sequences\n"
     ]
    },
    {
     "name": "stderr",
     "output_type": "stream",
     "text": [
      " 92%|█████████▏| 3692/4000 [17:29<56:01, 10.91s/it]"
     ]
    },
    {
     "name": "stdout",
     "output_type": "stream",
     "text": [
      "✅ Processed D:/Study/Ai_Music_Composer/MIDI_Dataset\\XMIDI_fear_classical_MBJOJBJ7.midi — 5377 notes, 5357 sequences\n"
     ]
    },
    {
     "name": "stderr",
     "output_type": "stream",
     "text": [
      " 92%|█████████▏| 3693/4000 [17:39<54:20, 10.62s/it]"
     ]
    },
    {
     "name": "stdout",
     "output_type": "stream",
     "text": [
      "✅ Processed D:/Study/Ai_Music_Composer/MIDI_Dataset\\XMIDI_quiet_jazz_GHLR4454.midi — 232 notes, 212 sequences\n"
     ]
    },
    {
     "name": "stderr",
     "output_type": "stream",
     "text": [
      " 92%|█████████▏| 3694/4000 [17:48<51:45, 10.15s/it]"
     ]
    },
    {
     "name": "stdout",
     "output_type": "stream",
     "text": [
      "✅ Processed D:/Study/Ai_Music_Composer/MIDI_Dataset\\XMIDI_sad_traditional_MW6BDVGS.midi — 1608 notes, 1588 sequences\n"
     ]
    },
    {
     "name": "stderr",
     "output_type": "stream",
     "text": [
      " 92%|█████████▏| 3695/4000 [17:57<49:59,  9.84s/it]"
     ]
    },
    {
     "name": "stdout",
     "output_type": "stream",
     "text": [
      "✅ Processed D:/Study/Ai_Music_Composer/MIDI_Dataset\\XMIDI_quiet_pop_6H76188W.midi — 1086 notes, 1066 sequences\n"
     ]
    },
    {
     "name": "stderr",
     "output_type": "stream",
     "text": [
      " 92%|█████████▏| 3696/4000 [18:06<48:56,  9.66s/it]"
     ]
    },
    {
     "name": "stdout",
     "output_type": "stream",
     "text": [
      "✅ Processed D:/Study/Ai_Music_Composer/MIDI_Dataset\\XMIDI_fear_rock_UFG0XS93.midi — 101 notes, 81 sequences\n"
     ]
    },
    {
     "name": "stderr",
     "output_type": "stream",
     "text": [
      " 92%|█████████▏| 3697/4000 [18:15<48:24,  9.59s/it]"
     ]
    },
    {
     "name": "stdout",
     "output_type": "stream",
     "text": [
      "✅ Processed D:/Study/Ai_Music_Composer/MIDI_Dataset\\XMIDI_sad_classical_NZ9ONO0F.midi — 289 notes, 269 sequences\n"
     ]
    },
    {
     "name": "stderr",
     "output_type": "stream",
     "text": [
      " 92%|█████████▏| 3698/4000 [18:28<52:53, 10.51s/it]"
     ]
    },
    {
     "name": "stdout",
     "output_type": "stream",
     "text": [
      "✅ Processed D:/Study/Ai_Music_Composer/MIDI_Dataset\\XMIDI_sad_rock_FN940R6A.midi — 1211 notes, 1191 sequences\n"
     ]
    },
    {
     "name": "stderr",
     "output_type": "stream",
     "text": [
      " 92%|█████████▏| 3699/4000 [18:41<56:26, 11.25s/it]"
     ]
    },
    {
     "name": "stdout",
     "output_type": "stream",
     "text": [
      "✅ Processed D:/Study/Ai_Music_Composer/MIDI_Dataset\\XMIDI_sad_country_BI7XB12F.midi — 743 notes, 723 sequences\n"
     ]
    },
    {
     "name": "stderr",
     "output_type": "stream",
     "text": [
      " 92%|█████████▎| 3700/4000 [18:54<59:04, 11.82s/it]"
     ]
    },
    {
     "name": "stdout",
     "output_type": "stream",
     "text": [
      "✅ Processed D:/Study/Ai_Music_Composer/MIDI_Dataset\\XMIDI_quiet_pop_K414WO1K.midi — 45 notes, 25 sequences\n"
     ]
    },
    {
     "name": "stderr",
     "output_type": "stream",
     "text": [
      " 93%|█████████▎| 3701/4000 [19:10<1:04:19, 12.91s/it]"
     ]
    },
    {
     "name": "stdout",
     "output_type": "stream",
     "text": [
      "✅ Processed D:/Study/Ai_Music_Composer/MIDI_Dataset\\XMIDI_quiet_classical_628WYKGS.midi — 1379 notes, 1359 sequences\n"
     ]
    },
    {
     "name": "stderr",
     "output_type": "stream",
     "text": [
      " 93%|█████████▎| 3702/4000 [19:22<1:03:56, 12.87s/it]"
     ]
    },
    {
     "name": "stdout",
     "output_type": "stream",
     "text": [
      "✅ Processed D:/Study/Ai_Music_Composer/MIDI_Dataset\\XMIDI_quiet_classical_C1SN3PZU.midi — 143 notes, 123 sequences\n"
     ]
    },
    {
     "name": "stderr",
     "output_type": "stream",
     "text": [
      " 93%|█████████▎| 3703/4000 [19:34<1:02:06, 12.55s/it]"
     ]
    },
    {
     "name": "stdout",
     "output_type": "stream",
     "text": [
      "✅ Processed D:/Study/Ai_Music_Composer/MIDI_Dataset\\XMIDI_sad_country_V4URUE36.midi — 659 notes, 639 sequences\n"
     ]
    },
    {
     "name": "stderr",
     "output_type": "stream",
     "text": [
      " 93%|█████████▎| 3704/4000 [19:46<1:01:01, 12.37s/it]"
     ]
    },
    {
     "name": "stdout",
     "output_type": "stream",
     "text": [
      "✅ Processed D:/Study/Ai_Music_Composer/MIDI_Dataset\\XMIDI_sad_classical_IEKPNJ8E.midi — 971 notes, 951 sequences\n"
     ]
    },
    {
     "name": "stderr",
     "output_type": "stream",
     "text": [
      " 93%|█████████▎| 3705/4000 [19:58<59:53, 12.18s/it]  "
     ]
    },
    {
     "name": "stdout",
     "output_type": "stream",
     "text": [
      "✅ Processed D:/Study/Ai_Music_Composer/MIDI_Dataset\\XMIDI_quiet_rock_ZHMSJSSR.midi — 535 notes, 515 sequences\n"
     ]
    },
    {
     "name": "stderr",
     "output_type": "stream",
     "text": [
      " 93%|█████████▎| 3706/4000 [20:09<57:42, 11.78s/it]"
     ]
    },
    {
     "name": "stdout",
     "output_type": "stream",
     "text": [
      "✅ Processed D:/Study/Ai_Music_Composer/MIDI_Dataset\\XMIDI_quiet_rock_L3E5G193.midi — 1290 notes, 1270 sequences\n"
     ]
    },
    {
     "name": "stderr",
     "output_type": "stream",
     "text": [
      " 93%|█████████▎| 3707/4000 [20:19<54:51, 11.23s/it]"
     ]
    },
    {
     "name": "stdout",
     "output_type": "stream",
     "text": [
      "✅ Processed D:/Study/Ai_Music_Composer/MIDI_Dataset\\XMIDI_quiet_country_WBOJN4S7.midi — 3686 notes, 3666 sequences\n"
     ]
    },
    {
     "name": "stderr",
     "output_type": "stream",
     "text": [
      " 93%|█████████▎| 3708/4000 [20:30<54:53, 11.28s/it]"
     ]
    },
    {
     "name": "stdout",
     "output_type": "stream",
     "text": [
      "✅ Processed D:/Study/Ai_Music_Composer/MIDI_Dataset\\XMIDI_sad_country_RW0BVZ00.midi — 3458 notes, 3438 sequences\n"
     ]
    },
    {
     "name": "stderr",
     "output_type": "stream",
     "text": [
      " 93%|█████████▎| 3709/4000 [20:40<52:41, 10.86s/it]"
     ]
    },
    {
     "name": "stdout",
     "output_type": "stream",
     "text": [
      "✅ Processed D:/Study/Ai_Music_Composer/MIDI_Dataset\\XMIDI_fear_country_AJDS8DMC.midi — 376 notes, 356 sequences\n"
     ]
    },
    {
     "name": "stderr",
     "output_type": "stream",
     "text": [
      " 93%|█████████▎| 3710/4000 [20:50<51:43, 10.70s/it]"
     ]
    },
    {
     "name": "stdout",
     "output_type": "stream",
     "text": [
      "✅ Processed D:/Study/Ai_Music_Composer/MIDI_Dataset\\XMIDI_fear_pop_2MMW3CNF.midi — 1483 notes, 1463 sequences\n"
     ]
    },
    {
     "name": "stderr",
     "output_type": "stream",
     "text": [
      " 93%|█████████▎| 3711/4000 [21:00<50:01, 10.39s/it]"
     ]
    },
    {
     "name": "stdout",
     "output_type": "stream",
     "text": [
      "✅ Processed D:/Study/Ai_Music_Composer/MIDI_Dataset\\XMIDI_quiet_classical_YRP23U96.midi — 2178 notes, 2158 sequences\n"
     ]
    },
    {
     "name": "stderr",
     "output_type": "stream",
     "text": [
      " 93%|█████████▎| 3712/4000 [21:10<48:37, 10.13s/it]"
     ]
    },
    {
     "name": "stdout",
     "output_type": "stream",
     "text": [
      "✅ Processed D:/Study/Ai_Music_Composer/MIDI_Dataset\\XMIDI_fear_jazz_YVMVLM2L.midi — 4006 notes, 3986 sequences\n"
     ]
    },
    {
     "name": "stderr",
     "output_type": "stream",
     "text": [
      " 93%|█████████▎| 3713/4000 [21:19<47:47,  9.99s/it]"
     ]
    },
    {
     "name": "stdout",
     "output_type": "stream",
     "text": [
      "✅ Processed D:/Study/Ai_Music_Composer/MIDI_Dataset\\XMIDI_sad_rock_3LYGFR52.midi — 1536 notes, 1516 sequences\n"
     ]
    },
    {
     "name": "stderr",
     "output_type": "stream",
     "text": [
      " 93%|█████████▎| 3714/4000 [21:29<46:58,  9.85s/it]"
     ]
    },
    {
     "name": "stdout",
     "output_type": "stream",
     "text": [
      "✅ Processed D:/Study/Ai_Music_Composer/MIDI_Dataset\\XMIDI_sad_traditional_SR8G7L5T.midi — 524 notes, 504 sequences\n"
     ]
    },
    {
     "name": "stderr",
     "output_type": "stream",
     "text": [
      " 93%|█████████▎| 3715/4000 [21:39<46:52,  9.87s/it]"
     ]
    },
    {
     "name": "stdout",
     "output_type": "stream",
     "text": [
      "✅ Processed D:/Study/Ai_Music_Composer/MIDI_Dataset\\XMIDI_fear_traditional_TJU7Y9M7.midi — 420 notes, 400 sequences\n"
     ]
    },
    {
     "name": "stderr",
     "output_type": "stream",
     "text": [
      " 93%|█████████▎| 3716/4000 [21:48<46:43,  9.87s/it]"
     ]
    },
    {
     "name": "stdout",
     "output_type": "stream",
     "text": [
      "✅ Processed D:/Study/Ai_Music_Composer/MIDI_Dataset\\XMIDI_fear_rock_0C7N30KW.midi — 118 notes, 98 sequences\n"
     ]
    },
    {
     "name": "stderr",
     "output_type": "stream",
     "text": [
      " 93%|█████████▎| 3717/4000 [21:59<47:20, 10.04s/it]"
     ]
    },
    {
     "name": "stdout",
     "output_type": "stream",
     "text": [
      "✅ Processed D:/Study/Ai_Music_Composer/MIDI_Dataset\\XMIDI_sad_country_6WQKPZIR.midi — 1750 notes, 1730 sequences\n"
     ]
    },
    {
     "name": "stderr",
     "output_type": "stream",
     "text": [
      " 93%|█████████▎| 3718/4000 [22:09<47:41, 10.15s/it]"
     ]
    },
    {
     "name": "stdout",
     "output_type": "stream",
     "text": [
      "✅ Processed D:/Study/Ai_Music_Composer/MIDI_Dataset\\XMIDI_sad_classical_05RI61HF.midi — 1028 notes, 1008 sequences\n"
     ]
    },
    {
     "name": "stderr",
     "output_type": "stream",
     "text": [
      " 93%|█████████▎| 3719/4000 [22:19<46:48,  9.99s/it]"
     ]
    },
    {
     "name": "stdout",
     "output_type": "stream",
     "text": [
      "✅ Processed D:/Study/Ai_Music_Composer/MIDI_Dataset\\XMIDI_sad_rock_WRWBTFI4.midi — 1830 notes, 1810 sequences\n"
     ]
    },
    {
     "name": "stderr",
     "output_type": "stream",
     "text": [
      " 93%|█████████▎| 3720/4000 [22:29<46:06,  9.88s/it]"
     ]
    },
    {
     "name": "stdout",
     "output_type": "stream",
     "text": [
      "✅ Processed D:/Study/Ai_Music_Composer/MIDI_Dataset\\XMIDI_sad_pop_KAA550P4.midi — 2421 notes, 2401 sequences\n"
     ]
    },
    {
     "name": "stderr",
     "output_type": "stream",
     "text": [
      " 93%|█████████▎| 3721/4000 [22:40<47:49, 10.29s/it]"
     ]
    },
    {
     "name": "stdout",
     "output_type": "stream",
     "text": [
      "✅ Processed D:/Study/Ai_Music_Composer/MIDI_Dataset\\XMIDI_quiet_rock_Z6QF0D49.midi — 1407 notes, 1387 sequences\n"
     ]
    },
    {
     "name": "stderr",
     "output_type": "stream",
     "text": [
      " 93%|█████████▎| 3722/4000 [22:51<48:13, 10.41s/it]"
     ]
    },
    {
     "name": "stdout",
     "output_type": "stream",
     "text": [
      "✅ Processed D:/Study/Ai_Music_Composer/MIDI_Dataset\\XMIDI_fear_pop_B6JL1KH7.midi — 126 notes, 106 sequences\n"
     ]
    },
    {
     "name": "stderr",
     "output_type": "stream",
     "text": [
      " 93%|█████████▎| 3723/4000 [23:00<46:55, 10.16s/it]"
     ]
    },
    {
     "name": "stdout",
     "output_type": "stream",
     "text": [
      "✅ Processed D:/Study/Ai_Music_Composer/MIDI_Dataset\\XMIDI_quiet_jazz_ZOANWYI0.midi — 1993 notes, 1973 sequences\n"
     ]
    },
    {
     "name": "stderr",
     "output_type": "stream",
     "text": [
      " 93%|█████████▎| 3724/4000 [23:11<47:05, 10.24s/it]"
     ]
    },
    {
     "name": "stdout",
     "output_type": "stream",
     "text": [
      "✅ Processed D:/Study/Ai_Music_Composer/MIDI_Dataset\\XMIDI_fear_rock_KDBZ47F5.midi — 1015 notes, 995 sequences\n"
     ]
    },
    {
     "name": "stderr",
     "output_type": "stream",
     "text": [
      " 93%|█████████▎| 3725/4000 [23:21<47:45, 10.42s/it]"
     ]
    },
    {
     "name": "stdout",
     "output_type": "stream",
     "text": [
      "✅ Processed D:/Study/Ai_Music_Composer/MIDI_Dataset\\XMIDI_fear_rock_T9G8YSM9.midi — 1733 notes, 1713 sequences\n"
     ]
    },
    {
     "name": "stderr",
     "output_type": "stream",
     "text": [
      " 93%|█████████▎| 3726/4000 [23:32<48:18, 10.58s/it]"
     ]
    },
    {
     "name": "stdout",
     "output_type": "stream",
     "text": [
      "✅ Processed D:/Study/Ai_Music_Composer/MIDI_Dataset\\XMIDI_sad_traditional_FP2IS7M3.midi — 1985 notes, 1965 sequences\n"
     ]
    },
    {
     "name": "stderr",
     "output_type": "stream",
     "text": [
      " 93%|█████████▎| 3727/4000 [23:43<48:14, 10.60s/it]"
     ]
    },
    {
     "name": "stdout",
     "output_type": "stream",
     "text": [
      "✅ Processed D:/Study/Ai_Music_Composer/MIDI_Dataset\\XMIDI_fear_pop_6DK4UVZQ.midi — 411 notes, 391 sequences\n"
     ]
    },
    {
     "name": "stderr",
     "output_type": "stream",
     "text": [
      " 93%|█████████▎| 3728/4000 [23:55<49:37, 10.95s/it]"
     ]
    },
    {
     "name": "stdout",
     "output_type": "stream",
     "text": [
      "✅ Processed D:/Study/Ai_Music_Composer/MIDI_Dataset\\XMIDI_fear_rock_72T8C0PQ.midi — 1432 notes, 1412 sequences\n"
     ]
    },
    {
     "name": "stderr",
     "output_type": "stream",
     "text": [
      " 93%|█████████▎| 3729/4000 [24:06<49:47, 11.02s/it]"
     ]
    },
    {
     "name": "stdout",
     "output_type": "stream",
     "text": [
      "✅ Processed D:/Study/Ai_Music_Composer/MIDI_Dataset\\XMIDI_fear_classical_RYRYHT14.midi — 1598 notes, 1578 sequences\n"
     ]
    },
    {
     "name": "stderr",
     "output_type": "stream",
     "text": [
      " 93%|█████████▎| 3730/4000 [24:19<52:00, 11.56s/it]"
     ]
    },
    {
     "name": "stdout",
     "output_type": "stream",
     "text": [
      "✅ Processed D:/Study/Ai_Music_Composer/MIDI_Dataset\\XMIDI_sad_rock_RO2JKRDE.midi — 1784 notes, 1764 sequences\n"
     ]
    },
    {
     "name": "stderr",
     "output_type": "stream",
     "text": [
      " 93%|█████████▎| 3731/4000 [24:30<51:58, 11.59s/it]"
     ]
    },
    {
     "name": "stdout",
     "output_type": "stream",
     "text": [
      "✅ Processed D:/Study/Ai_Music_Composer/MIDI_Dataset\\XMIDI_quiet_country_ARRB119N.midi — 3686 notes, 3666 sequences\n"
     ]
    },
    {
     "name": "stderr",
     "output_type": "stream",
     "text": [
      " 93%|█████████▎| 3732/4000 [24:43<52:29, 11.75s/it]"
     ]
    },
    {
     "name": "stdout",
     "output_type": "stream",
     "text": [
      "✅ Processed D:/Study/Ai_Music_Composer/MIDI_Dataset\\XMIDI_sad_pop_GW90NMXL.midi — 2319 notes, 2299 sequences\n"
     ]
    },
    {
     "name": "stderr",
     "output_type": "stream",
     "text": [
      " 93%|█████████▎| 3733/4000 [24:57<55:24, 12.45s/it]"
     ]
    },
    {
     "name": "stdout",
     "output_type": "stream",
     "text": [
      "✅ Processed D:/Study/Ai_Music_Composer/MIDI_Dataset\\XMIDI_fear_classical_GT1ZM1E0.midi — 964 notes, 944 sequences\n"
     ]
    },
    {
     "name": "stderr",
     "output_type": "stream",
     "text": [
      " 93%|█████████▎| 3734/4000 [25:08<53:35, 12.09s/it]"
     ]
    },
    {
     "name": "stdout",
     "output_type": "stream",
     "text": [
      "✅ Processed D:/Study/Ai_Music_Composer/MIDI_Dataset\\XMIDI_sad_classical_OOQTLH0K.midi — 1486 notes, 1466 sequences\n"
     ]
    },
    {
     "name": "stderr",
     "output_type": "stream",
     "text": [
      " 93%|█████████▎| 3735/4000 [25:20<53:44, 12.17s/it]"
     ]
    },
    {
     "name": "stdout",
     "output_type": "stream",
     "text": [
      "✅ Processed D:/Study/Ai_Music_Composer/MIDI_Dataset\\XMIDI_sad_pop_K6U9U5XO.midi — 2913 notes, 2893 sequences\n"
     ]
    },
    {
     "name": "stderr",
     "output_type": "stream",
     "text": [
      " 93%|█████████▎| 3736/4000 [25:33<54:22, 12.36s/it]"
     ]
    },
    {
     "name": "stdout",
     "output_type": "stream",
     "text": [
      "✅ Processed D:/Study/Ai_Music_Composer/MIDI_Dataset\\XMIDI_sad_rock_7W3IH5FH.midi — 1963 notes, 1943 sequences\n"
     ]
    },
    {
     "name": "stderr",
     "output_type": "stream",
     "text": [
      " 93%|█████████▎| 3737/4000 [25:45<53:09, 12.13s/it]"
     ]
    },
    {
     "name": "stdout",
     "output_type": "stream",
     "text": [
      "✅ Processed D:/Study/Ai_Music_Composer/MIDI_Dataset\\XMIDI_fear_country_9WKAAT43.midi — 3232 notes, 3212 sequences\n"
     ]
    },
    {
     "name": "stderr",
     "output_type": "stream",
     "text": [
      " 93%|█████████▎| 3738/4000 [25:57<52:46, 12.09s/it]"
     ]
    },
    {
     "name": "stdout",
     "output_type": "stream",
     "text": [
      "✅ Processed D:/Study/Ai_Music_Composer/MIDI_Dataset\\XMIDI_fear_rock_G26DBXRL.midi — 410 notes, 390 sequences\n"
     ]
    },
    {
     "name": "stderr",
     "output_type": "stream",
     "text": [
      " 93%|█████████▎| 3739/4000 [26:08<51:04, 11.74s/it]"
     ]
    },
    {
     "name": "stdout",
     "output_type": "stream",
     "text": [
      "✅ Processed D:/Study/Ai_Music_Composer/MIDI_Dataset\\XMIDI_sad_classical_LJUGABNE.midi — 424 notes, 404 sequences\n"
     ]
    },
    {
     "name": "stderr",
     "output_type": "stream",
     "text": [
      " 94%|█████████▎| 3740/4000 [26:19<50:17, 11.61s/it]"
     ]
    },
    {
     "name": "stdout",
     "output_type": "stream",
     "text": [
      "✅ Processed D:/Study/Ai_Music_Composer/MIDI_Dataset\\XMIDI_sad_classical_LQCZR69J.midi — 2560 notes, 2540 sequences\n"
     ]
    },
    {
     "name": "stderr",
     "output_type": "stream",
     "text": [
      " 94%|█████████▎| 3741/4000 [26:31<50:51, 11.78s/it]"
     ]
    },
    {
     "name": "stdout",
     "output_type": "stream",
     "text": [
      "✅ Processed D:/Study/Ai_Music_Composer/MIDI_Dataset\\XMIDI_fear_country_ANM22JBU.midi — 897 notes, 877 sequences\n"
     ]
    },
    {
     "name": "stderr",
     "output_type": "stream",
     "text": [
      " 94%|█████████▎| 3742/4000 [26:42<49:52, 11.60s/it]"
     ]
    },
    {
     "name": "stdout",
     "output_type": "stream",
     "text": [
      "✅ Processed D:/Study/Ai_Music_Composer/MIDI_Dataset\\XMIDI_quiet_country_CVYGULO3.midi — 4195 notes, 4175 sequences\n"
     ]
    },
    {
     "name": "stderr",
     "output_type": "stream",
     "text": [
      " 94%|█████████▎| 3743/4000 [26:54<49:32, 11.57s/it]"
     ]
    },
    {
     "name": "stdout",
     "output_type": "stream",
     "text": [
      "✅ Processed D:/Study/Ai_Music_Composer/MIDI_Dataset\\XMIDI_sad_rock_5RWOWSO7.midi — 1583 notes, 1563 sequences\n"
     ]
    },
    {
     "name": "stderr",
     "output_type": "stream",
     "text": [
      " 94%|█████████▎| 3744/4000 [27:06<50:06, 11.75s/it]"
     ]
    },
    {
     "name": "stdout",
     "output_type": "stream",
     "text": [
      "✅ Processed D:/Study/Ai_Music_Composer/MIDI_Dataset\\XMIDI_quiet_country_KL1Z7Y94.midi — 980 notes, 960 sequences\n"
     ]
    },
    {
     "name": "stderr",
     "output_type": "stream",
     "text": [
      " 94%|█████████▎| 3745/4000 [27:17<49:23, 11.62s/it]"
     ]
    },
    {
     "name": "stdout",
     "output_type": "stream",
     "text": [
      "✅ Processed D:/Study/Ai_Music_Composer/MIDI_Dataset\\XMIDI_quiet_pop_5CUC5MPQ.midi — 1145 notes, 1125 sequences\n"
     ]
    },
    {
     "name": "stderr",
     "output_type": "stream",
     "text": [
      " 94%|█████████▎| 3746/4000 [27:28<48:29, 11.45s/it]"
     ]
    },
    {
     "name": "stdout",
     "output_type": "stream",
     "text": [
      "✅ Processed D:/Study/Ai_Music_Composer/MIDI_Dataset\\XMIDI_quiet_country_2DXFGH2M.midi — 1400 notes, 1380 sequences\n"
     ]
    },
    {
     "name": "stderr",
     "output_type": "stream",
     "text": [
      " 94%|█████████▎| 3747/4000 [27:40<48:37, 11.53s/it]"
     ]
    },
    {
     "name": "stdout",
     "output_type": "stream",
     "text": [
      "✅ Processed D:/Study/Ai_Music_Composer/MIDI_Dataset\\XMIDI_fear_jazz_VPQXR5RN.midi — 24 notes, 4 sequences\n"
     ]
    },
    {
     "name": "stderr",
     "output_type": "stream",
     "text": [
      " 94%|█████████▎| 3748/4000 [27:51<48:15, 11.49s/it]"
     ]
    },
    {
     "name": "stdout",
     "output_type": "stream",
     "text": [
      "✅ Processed D:/Study/Ai_Music_Composer/MIDI_Dataset\\XMIDI_sad_rock_QCG1RQP8.midi — 1011 notes, 991 sequences\n"
     ]
    },
    {
     "name": "stderr",
     "output_type": "stream",
     "text": [
      " 94%|█████████▎| 3749/4000 [28:04<49:07, 11.74s/it]"
     ]
    },
    {
     "name": "stdout",
     "output_type": "stream",
     "text": [
      "✅ Processed D:/Study/Ai_Music_Composer/MIDI_Dataset\\XMIDI_fear_classical_ETKV1E8E.midi — 554 notes, 534 sequences\n"
     ]
    },
    {
     "name": "stderr",
     "output_type": "stream",
     "text": [
      " 94%|█████████▍| 3750/4000 [28:15<48:11, 11.57s/it]"
     ]
    },
    {
     "name": "stdout",
     "output_type": "stream",
     "text": [
      "✅ Processed D:/Study/Ai_Music_Composer/MIDI_Dataset\\XMIDI_sad_jazz_2BU8QJJR.midi — 1160 notes, 1140 sequences\n"
     ]
    },
    {
     "name": "stderr",
     "output_type": "stream",
     "text": [
      " 94%|█████████▍| 3751/4000 [28:26<47:06, 11.35s/it]"
     ]
    },
    {
     "name": "stdout",
     "output_type": "stream",
     "text": [
      "✅ Processed D:/Study/Ai_Music_Composer/MIDI_Dataset\\XMIDI_quiet_jazz_P6MJXIWQ.midi — 623 notes, 603 sequences\n"
     ]
    },
    {
     "name": "stderr",
     "output_type": "stream",
     "text": [
      " 94%|█████████▍| 3752/4000 [28:38<47:54, 11.59s/it]"
     ]
    },
    {
     "name": "stdout",
     "output_type": "stream",
     "text": [
      "✅ Processed D:/Study/Ai_Music_Composer/MIDI_Dataset\\XMIDI_sad_pop_MBV14QF5.midi — 475 notes, 455 sequences\n"
     ]
    },
    {
     "name": "stderr",
     "output_type": "stream",
     "text": [
      " 94%|█████████▍| 3753/4000 [28:49<46:58, 11.41s/it]"
     ]
    },
    {
     "name": "stdout",
     "output_type": "stream",
     "text": [
      "✅ Processed D:/Study/Ai_Music_Composer/MIDI_Dataset\\XMIDI_sad_classical_Y0S34HBK.midi — 995 notes, 975 sequences\n"
     ]
    },
    {
     "name": "stderr",
     "output_type": "stream",
     "text": [
      " 94%|█████████▍| 3754/4000 [29:01<47:20, 11.55s/it]"
     ]
    },
    {
     "name": "stdout",
     "output_type": "stream",
     "text": [
      "✅ Processed D:/Study/Ai_Music_Composer/MIDI_Dataset\\XMIDI_sad_rock_VE2XVHCV.midi — 1882 notes, 1862 sequences\n"
     ]
    },
    {
     "name": "stderr",
     "output_type": "stream",
     "text": [
      " 94%|█████████▍| 3755/4000 [29:12<46:57, 11.50s/it]"
     ]
    },
    {
     "name": "stdout",
     "output_type": "stream",
     "text": [
      "✅ Processed D:/Study/Ai_Music_Composer/MIDI_Dataset\\XMIDI_quiet_rock_XX1W4I9Y.midi — 51 notes, 31 sequences\n"
     ]
    },
    {
     "name": "stderr",
     "output_type": "stream",
     "text": [
      " 94%|█████████▍| 3756/4000 [29:23<45:34, 11.21s/it]"
     ]
    },
    {
     "name": "stdout",
     "output_type": "stream",
     "text": [
      "✅ Processed D:/Study/Ai_Music_Composer/MIDI_Dataset\\XMIDI_fear_pop_U0QTC4C7.midi — 120 notes, 100 sequences\n"
     ]
    },
    {
     "name": "stderr",
     "output_type": "stream",
     "text": [
      " 94%|█████████▍| 3757/4000 [29:36<47:35, 11.75s/it]"
     ]
    },
    {
     "name": "stdout",
     "output_type": "stream",
     "text": [
      "✅ Processed D:/Study/Ai_Music_Composer/MIDI_Dataset\\XMIDI_sad_pop_84S00URL.midi — 1206 notes, 1186 sequences\n"
     ]
    },
    {
     "name": "stderr",
     "output_type": "stream",
     "text": [
      " 94%|█████████▍| 3758/4000 [29:47<46:39, 11.57s/it]"
     ]
    },
    {
     "name": "stdout",
     "output_type": "stream",
     "text": [
      "✅ Processed D:/Study/Ai_Music_Composer/MIDI_Dataset\\XMIDI_sad_country_DDLQMTU3.midi — 3262 notes, 3242 sequences\n"
     ]
    },
    {
     "name": "stderr",
     "output_type": "stream",
     "text": [
      " 94%|█████████▍| 3759/4000 [29:59<46:54, 11.68s/it]"
     ]
    },
    {
     "name": "stdout",
     "output_type": "stream",
     "text": [
      "✅ Processed D:/Study/Ai_Music_Composer/MIDI_Dataset\\XMIDI_sad_classical_D3SZYOM5.midi — 2342 notes, 2322 sequences\n"
     ]
    },
    {
     "name": "stderr",
     "output_type": "stream",
     "text": [
      " 94%|█████████▍| 3760/4000 [30:10<46:02, 11.51s/it]"
     ]
    },
    {
     "name": "stdout",
     "output_type": "stream",
     "text": [
      "✅ Processed D:/Study/Ai_Music_Composer/MIDI_Dataset\\XMIDI_quiet_classical_5HQAWV4R.midi — 245 notes, 225 sequences\n"
     ]
    },
    {
     "name": "stderr",
     "output_type": "stream",
     "text": [
      " 94%|█████████▍| 3761/4000 [30:21<46:03, 11.56s/it]"
     ]
    },
    {
     "name": "stdout",
     "output_type": "stream",
     "text": [
      "✅ Processed D:/Study/Ai_Music_Composer/MIDI_Dataset\\XMIDI_fear_jazz_QKBHZI3J.midi — 2017 notes, 1997 sequences\n"
     ]
    },
    {
     "name": "stderr",
     "output_type": "stream",
     "text": [
      " 94%|█████████▍| 3762/4000 [30:32<45:01, 11.35s/it]"
     ]
    },
    {
     "name": "stdout",
     "output_type": "stream",
     "text": [
      "✅ Processed D:/Study/Ai_Music_Composer/MIDI_Dataset\\XMIDI_quiet_rock_JMWGJG9D.midi — 881 notes, 861 sequences\n"
     ]
    },
    {
     "name": "stderr",
     "output_type": "stream",
     "text": [
      " 94%|█████████▍| 3763/4000 [30:46<47:05, 11.92s/it]"
     ]
    },
    {
     "name": "stdout",
     "output_type": "stream",
     "text": [
      "✅ Processed D:/Study/Ai_Music_Composer/MIDI_Dataset\\XMIDI_sad_classical_EN0I47BQ.midi — 744 notes, 724 sequences\n"
     ]
    },
    {
     "name": "stderr",
     "output_type": "stream",
     "text": [
      " 94%|█████████▍| 3764/4000 [30:56<45:34, 11.59s/it]"
     ]
    },
    {
     "name": "stdout",
     "output_type": "stream",
     "text": [
      "✅ Processed D:/Study/Ai_Music_Composer/MIDI_Dataset\\XMIDI_quiet_jazz_P4ACWWYE.midi — 1231 notes, 1211 sequences\n"
     ]
    },
    {
     "name": "stderr",
     "output_type": "stream",
     "text": [
      " 94%|█████████▍| 3765/4000 [31:08<45:08, 11.53s/it]"
     ]
    },
    {
     "name": "stdout",
     "output_type": "stream",
     "text": [
      "✅ Processed D:/Study/Ai_Music_Composer/MIDI_Dataset\\XMIDI_quiet_classical_345EVAHX.midi — 1393 notes, 1373 sequences\n"
     ]
    },
    {
     "name": "stderr",
     "output_type": "stream",
     "text": [
      " 94%|█████████▍| 3766/4000 [31:20<45:34, 11.68s/it]"
     ]
    },
    {
     "name": "stdout",
     "output_type": "stream",
     "text": [
      "✅ Processed D:/Study/Ai_Music_Composer/MIDI_Dataset\\XMIDI_sad_classical_LGLD1HR3.midi — 722 notes, 702 sequences\n"
     ]
    },
    {
     "name": "stderr",
     "output_type": "stream",
     "text": [
      " 94%|█████████▍| 3767/4000 [31:30<44:07, 11.36s/it]"
     ]
    },
    {
     "name": "stdout",
     "output_type": "stream",
     "text": [
      "✅ Processed D:/Study/Ai_Music_Composer/MIDI_Dataset\\XMIDI_quiet_country_1IDYFGV3.midi — 939 notes, 919 sequences\n"
     ]
    },
    {
     "name": "stderr",
     "output_type": "stream",
     "text": [
      " 94%|█████████▍| 3768/4000 [31:42<44:01, 11.38s/it]"
     ]
    },
    {
     "name": "stdout",
     "output_type": "stream",
     "text": [
      "✅ Processed D:/Study/Ai_Music_Composer/MIDI_Dataset\\XMIDI_sad_traditional_77OZMFRK.midi — 476 notes, 456 sequences\n"
     ]
    },
    {
     "name": "stderr",
     "output_type": "stream",
     "text": [
      " 94%|█████████▍| 3769/4000 [31:55<45:29, 11.82s/it]"
     ]
    },
    {
     "name": "stdout",
     "output_type": "stream",
     "text": [
      "✅ Processed D:/Study/Ai_Music_Composer/MIDI_Dataset\\XMIDI_sad_country_458JDLJ7.midi — 2474 notes, 2454 sequences\n"
     ]
    },
    {
     "name": "stderr",
     "output_type": "stream",
     "text": [
      " 94%|█████████▍| 3770/4000 [32:06<44:43, 11.67s/it]"
     ]
    },
    {
     "name": "stdout",
     "output_type": "stream",
     "text": [
      "✅ Processed D:/Study/Ai_Music_Composer/MIDI_Dataset\\XMIDI_fear_rock_UBP4NKK3.midi — 284 notes, 264 sequences\n"
     ]
    },
    {
     "name": "stderr",
     "output_type": "stream",
     "text": [
      " 94%|█████████▍| 3771/4000 [32:18<44:25, 11.64s/it]"
     ]
    },
    {
     "name": "stdout",
     "output_type": "stream",
     "text": [
      "✅ Processed D:/Study/Ai_Music_Composer/MIDI_Dataset\\XMIDI_sad_pop_1UCKDZ9E.midi — 2699 notes, 2679 sequences\n"
     ]
    },
    {
     "name": "stderr",
     "output_type": "stream",
     "text": [
      " 94%|█████████▍| 3772/4000 [32:30<45:01, 11.85s/it]"
     ]
    },
    {
     "name": "stdout",
     "output_type": "stream",
     "text": [
      "✅ Processed D:/Study/Ai_Music_Composer/MIDI_Dataset\\XMIDI_fear_rock_LL8U7YNS.midi — 934 notes, 914 sequences\n"
     ]
    },
    {
     "name": "stderr",
     "output_type": "stream",
     "text": [
      " 94%|█████████▍| 3773/4000 [32:42<44:36, 11.79s/it]"
     ]
    },
    {
     "name": "stdout",
     "output_type": "stream",
     "text": [
      "✅ Processed D:/Study/Ai_Music_Composer/MIDI_Dataset\\XMIDI_sad_classical_LZH77YBA.midi — 352 notes, 332 sequences\n"
     ]
    },
    {
     "name": "stderr",
     "output_type": "stream",
     "text": [
      " 94%|█████████▍| 3774/4000 [32:53<44:23, 11.78s/it]"
     ]
    },
    {
     "name": "stdout",
     "output_type": "stream",
     "text": [
      "✅ Processed D:/Study/Ai_Music_Composer/MIDI_Dataset\\XMIDI_fear_rock_E9ZBNZXV.midi — 214 notes, 194 sequences\n"
     ]
    },
    {
     "name": "stderr",
     "output_type": "stream",
     "text": [
      " 94%|█████████▍| 3775/4000 [33:04<43:06, 11.49s/it]"
     ]
    },
    {
     "name": "stdout",
     "output_type": "stream",
     "text": [
      "✅ Processed D:/Study/Ai_Music_Composer/MIDI_Dataset\\XMIDI_sad_traditional_8F9PH5KY.midi — 1974 notes, 1954 sequences\n"
     ]
    },
    {
     "name": "stderr",
     "output_type": "stream",
     "text": [
      " 94%|█████████▍| 3776/4000 [33:17<44:20, 11.88s/it]"
     ]
    },
    {
     "name": "stdout",
     "output_type": "stream",
     "text": [
      "✅ Processed D:/Study/Ai_Music_Composer/MIDI_Dataset\\XMIDI_fear_country_81M59JRM.midi — 4127 notes, 4107 sequences\n"
     ]
    },
    {
     "name": "stderr",
     "output_type": "stream",
     "text": [
      " 94%|█████████▍| 3777/4000 [33:29<44:34, 11.99s/it]"
     ]
    },
    {
     "name": "stdout",
     "output_type": "stream",
     "text": [
      "✅ Processed D:/Study/Ai_Music_Composer/MIDI_Dataset\\XMIDI_sad_rock_G3CJMQA9.midi — 561 notes, 541 sequences\n"
     ]
    },
    {
     "name": "stderr",
     "output_type": "stream",
     "text": [
      " 94%|█████████▍| 3778/4000 [33:42<45:21, 12.26s/it]"
     ]
    },
    {
     "name": "stdout",
     "output_type": "stream",
     "text": [
      "✅ Processed D:/Study/Ai_Music_Composer/MIDI_Dataset\\XMIDI_sad_rock_LXTUR8PE.midi — 575 notes, 555 sequences\n"
     ]
    },
    {
     "name": "stderr",
     "output_type": "stream",
     "text": [
      " 94%|█████████▍| 3779/4000 [33:53<43:19, 11.76s/it]"
     ]
    },
    {
     "name": "stdout",
     "output_type": "stream",
     "text": [
      "✅ Processed D:/Study/Ai_Music_Composer/MIDI_Dataset\\XMIDI_sad_country_8R2W57XT.midi — 4137 notes, 4117 sequences\n"
     ]
    },
    {
     "name": "stderr",
     "output_type": "stream",
     "text": [
      " 94%|█████████▍| 3780/4000 [34:04<42:24, 11.57s/it]"
     ]
    },
    {
     "name": "stdout",
     "output_type": "stream",
     "text": [
      "✅ Processed D:/Study/Ai_Music_Composer/MIDI_Dataset\\XMIDI_sad_jazz_11YX5X1F.midi — 1240 notes, 1220 sequences\n"
     ]
    },
    {
     "name": "stderr",
     "output_type": "stream",
     "text": [
      " 95%|█████████▍| 3781/4000 [34:15<41:15, 11.31s/it]"
     ]
    },
    {
     "name": "stdout",
     "output_type": "stream",
     "text": [
      "✅ Processed D:/Study/Ai_Music_Composer/MIDI_Dataset\\XMIDI_sad_rock_ZQZ8W1ZA.midi — 699 notes, 679 sequences\n"
     ]
    },
    {
     "name": "stderr",
     "output_type": "stream",
     "text": [
      " 95%|█████████▍| 3782/4000 [34:26<40:54, 11.26s/it]"
     ]
    },
    {
     "name": "stdout",
     "output_type": "stream",
     "text": [
      "✅ Processed D:/Study/Ai_Music_Composer/MIDI_Dataset\\XMIDI_sad_country_WQIO31TK.midi — 732 notes, 712 sequences\n"
     ]
    },
    {
     "name": "stderr",
     "output_type": "stream",
     "text": [
      " 95%|█████████▍| 3783/4000 [34:37<40:42, 11.25s/it]"
     ]
    },
    {
     "name": "stdout",
     "output_type": "stream",
     "text": [
      "✅ Processed D:/Study/Ai_Music_Composer/MIDI_Dataset\\XMIDI_sad_pop_SHGLNB1E.midi — 3367 notes, 3347 sequences\n"
     ]
    },
    {
     "name": "stderr",
     "output_type": "stream",
     "text": [
      " 95%|█████████▍| 3784/4000 [34:49<40:57, 11.38s/it]"
     ]
    },
    {
     "name": "stdout",
     "output_type": "stream",
     "text": [
      "✅ Processed D:/Study/Ai_Music_Composer/MIDI_Dataset\\XMIDI_quiet_country_W8559L5K.midi — 1216 notes, 1196 sequences\n"
     ]
    },
    {
     "name": "stderr",
     "output_type": "stream",
     "text": [
      " 95%|█████████▍| 3785/4000 [34:58<39:11, 10.94s/it]"
     ]
    },
    {
     "name": "stdout",
     "output_type": "stream",
     "text": [
      "✅ Processed D:/Study/Ai_Music_Composer/MIDI_Dataset\\XMIDI_sad_rock_CK9ZTUED.midi — 382 notes, 362 sequences\n"
     ]
    },
    {
     "name": "stderr",
     "output_type": "stream",
     "text": [
      " 95%|█████████▍| 3786/4000 [35:11<40:26, 11.34s/it]"
     ]
    },
    {
     "name": "stdout",
     "output_type": "stream",
     "text": [
      "✅ Processed D:/Study/Ai_Music_Composer/MIDI_Dataset\\XMIDI_sad_country_MPX53SMA.midi — 750 notes, 730 sequences\n"
     ]
    },
    {
     "name": "stderr",
     "output_type": "stream",
     "text": [
      " 95%|█████████▍| 3787/4000 [35:21<39:21, 11.09s/it]"
     ]
    },
    {
     "name": "stdout",
     "output_type": "stream",
     "text": [
      "✅ Processed D:/Study/Ai_Music_Composer/MIDI_Dataset\\XMIDI_quiet_country_HRMV1OBR.midi — 2782 notes, 2762 sequences\n"
     ]
    },
    {
     "name": "stderr",
     "output_type": "stream",
     "text": [
      " 95%|█████████▍| 3788/4000 [35:32<39:14, 11.11s/it]"
     ]
    },
    {
     "name": "stdout",
     "output_type": "stream",
     "text": [
      "✅ Processed D:/Study/Ai_Music_Composer/MIDI_Dataset\\XMIDI_fear_pop_934KIE57.midi — 2500 notes, 2480 sequences\n"
     ]
    },
    {
     "name": "stderr",
     "output_type": "stream",
     "text": [
      " 95%|█████████▍| 3789/4000 [35:43<38:05, 10.83s/it]"
     ]
    },
    {
     "name": "stdout",
     "output_type": "stream",
     "text": [
      "✅ Processed D:/Study/Ai_Music_Composer/MIDI_Dataset\\XMIDI_sad_jazz_4OTVXCCX.midi — 2715 notes, 2695 sequences\n"
     ]
    },
    {
     "name": "stderr",
     "output_type": "stream",
     "text": [
      " 95%|█████████▍| 3790/4000 [35:54<38:19, 10.95s/it]"
     ]
    },
    {
     "name": "stdout",
     "output_type": "stream",
     "text": [
      "✅ Processed D:/Study/Ai_Music_Composer/MIDI_Dataset\\XMIDI_fear_rock_IZMPWTYR.midi — 2073 notes, 2053 sequences\n"
     ]
    },
    {
     "name": "stderr",
     "output_type": "stream",
     "text": [
      " 95%|█████████▍| 3791/4000 [36:04<37:30, 10.77s/it]"
     ]
    },
    {
     "name": "stdout",
     "output_type": "stream",
     "text": [
      "✅ Processed D:/Study/Ai_Music_Composer/MIDI_Dataset\\XMIDI_sad_classical_R37STZRU.midi — 325 notes, 305 sequences\n"
     ]
    },
    {
     "name": "stderr",
     "output_type": "stream",
     "text": [
      " 95%|█████████▍| 3792/4000 [36:16<38:36, 11.14s/it]"
     ]
    },
    {
     "name": "stdout",
     "output_type": "stream",
     "text": [
      "✅ Processed D:/Study/Ai_Music_Composer/MIDI_Dataset\\XMIDI_fear_classical_7SVE8HHA.midi — 703 notes, 683 sequences\n"
     ]
    },
    {
     "name": "stderr",
     "output_type": "stream",
     "text": [
      " 95%|█████████▍| 3793/4000 [36:27<37:50, 10.97s/it]"
     ]
    },
    {
     "name": "stdout",
     "output_type": "stream",
     "text": [
      "✅ Processed D:/Study/Ai_Music_Composer/MIDI_Dataset\\XMIDI_fear_pop_R4M9KS2U.midi — 1524 notes, 1504 sequences\n"
     ]
    },
    {
     "name": "stderr",
     "output_type": "stream",
     "text": [
      " 95%|█████████▍| 3794/4000 [36:39<39:29, 11.50s/it]"
     ]
    },
    {
     "name": "stdout",
     "output_type": "stream",
     "text": [
      "✅ Processed D:/Study/Ai_Music_Composer/MIDI_Dataset\\XMIDI_sad_rock_TKOOMQLQ.midi — 1047 notes, 1027 sequences\n"
     ]
    },
    {
     "name": "stderr",
     "output_type": "stream",
     "text": [
      " 95%|█████████▍| 3795/4000 [36:52<39:54, 11.68s/it]"
     ]
    },
    {
     "name": "stdout",
     "output_type": "stream",
     "text": [
      "✅ Processed D:/Study/Ai_Music_Composer/MIDI_Dataset\\XMIDI_sad_classical_YI91AODK.midi — 1461 notes, 1441 sequences\n"
     ]
    },
    {
     "name": "stderr",
     "output_type": "stream",
     "text": [
      " 95%|█████████▍| 3796/4000 [37:04<40:39, 11.96s/it]"
     ]
    },
    {
     "name": "stdout",
     "output_type": "stream",
     "text": [
      "✅ Processed D:/Study/Ai_Music_Composer/MIDI_Dataset\\XMIDI_sad_traditional_0EGLOW1L.midi — 124 notes, 104 sequences\n"
     ]
    },
    {
     "name": "stderr",
     "output_type": "stream",
     "text": [
      " 95%|█████████▍| 3797/4000 [37:16<39:52, 11.79s/it]"
     ]
    },
    {
     "name": "stdout",
     "output_type": "stream",
     "text": [
      "✅ Processed D:/Study/Ai_Music_Composer/MIDI_Dataset\\XMIDI_sad_classical_SUQU5EQV.midi — 1228 notes, 1208 sequences\n"
     ]
    },
    {
     "name": "stderr",
     "output_type": "stream",
     "text": [
      " 95%|█████████▍| 3798/4000 [37:28<39:54, 11.85s/it]"
     ]
    },
    {
     "name": "stdout",
     "output_type": "stream",
     "text": [
      "✅ Processed D:/Study/Ai_Music_Composer/MIDI_Dataset\\XMIDI_quiet_rock_W72I8HGX.midi — 569 notes, 549 sequences\n"
     ]
    },
    {
     "name": "stderr",
     "output_type": "stream",
     "text": [
      " 95%|█████████▍| 3799/4000 [37:39<39:12, 11.71s/it]"
     ]
    },
    {
     "name": "stdout",
     "output_type": "stream",
     "text": [
      "✅ Processed D:/Study/Ai_Music_Composer/MIDI_Dataset\\XMIDI_sad_rock_WXAH03A3.midi — 677 notes, 657 sequences\n"
     ]
    },
    {
     "name": "stderr",
     "output_type": "stream",
     "text": [
      " 95%|█████████▌| 3800/4000 [37:52<40:16, 12.08s/it]"
     ]
    },
    {
     "name": "stdout",
     "output_type": "stream",
     "text": [
      "✅ Processed D:/Study/Ai_Music_Composer/MIDI_Dataset\\XMIDI_fear_rock_V1WA3TYS.midi — 1452 notes, 1432 sequences\n"
     ]
    },
    {
     "name": "stderr",
     "output_type": "stream",
     "text": [
      " 95%|█████████▌| 3801/4000 [38:03<39:33, 11.93s/it]"
     ]
    },
    {
     "name": "stdout",
     "output_type": "stream",
     "text": [
      "✅ Processed D:/Study/Ai_Music_Composer/MIDI_Dataset\\XMIDI_quiet_country_OBQDAW9M.midi — 2174 notes, 2154 sequences\n"
     ]
    },
    {
     "name": "stderr",
     "output_type": "stream",
     "text": [
      " 95%|█████████▌| 3802/4000 [38:16<40:01, 12.13s/it]"
     ]
    },
    {
     "name": "stdout",
     "output_type": "stream",
     "text": [
      "✅ Processed D:/Study/Ai_Music_Composer/MIDI_Dataset\\XMIDI_sad_country_Z657PJ3D.midi — 2398 notes, 2378 sequences\n"
     ]
    },
    {
     "name": "stderr",
     "output_type": "stream",
     "text": [
      " 95%|█████████▌| 3803/4000 [38:28<39:57, 12.17s/it]"
     ]
    },
    {
     "name": "stdout",
     "output_type": "stream",
     "text": [
      "✅ Processed D:/Study/Ai_Music_Composer/MIDI_Dataset\\XMIDI_sad_traditional_YBQ3E0HB.midi — 548 notes, 528 sequences\n"
     ]
    },
    {
     "name": "stderr",
     "output_type": "stream",
     "text": [
      " 95%|█████████▌| 3804/4000 [38:41<39:51, 12.20s/it]"
     ]
    },
    {
     "name": "stdout",
     "output_type": "stream",
     "text": [
      "✅ Processed D:/Study/Ai_Music_Composer/MIDI_Dataset\\XMIDI_fear_rock_6BI9XAB6.midi — 1815 notes, 1795 sequences\n"
     ]
    },
    {
     "name": "stderr",
     "output_type": "stream",
     "text": [
      " 95%|█████████▌| 3805/4000 [38:53<39:53, 12.28s/it]"
     ]
    },
    {
     "name": "stdout",
     "output_type": "stream",
     "text": [
      "✅ Processed D:/Study/Ai_Music_Composer/MIDI_Dataset\\XMIDI_quiet_country_PDCS2DNC.midi — 160 notes, 140 sequences\n"
     ]
    },
    {
     "name": "stderr",
     "output_type": "stream",
     "text": [
      " 95%|█████████▌| 3806/4000 [39:04<38:41, 11.96s/it]"
     ]
    },
    {
     "name": "stdout",
     "output_type": "stream",
     "text": [
      "✅ Processed D:/Study/Ai_Music_Composer/MIDI_Dataset\\XMIDI_sad_classical_OLI7CEXN.midi — 651 notes, 631 sequences\n"
     ]
    },
    {
     "name": "stderr",
     "output_type": "stream",
     "text": [
      " 95%|█████████▌| 3807/4000 [39:15<37:31, 11.67s/it]"
     ]
    },
    {
     "name": "stdout",
     "output_type": "stream",
     "text": [
      "✅ Processed D:/Study/Ai_Music_Composer/MIDI_Dataset\\XMIDI_sad_jazz_YDMVG60O.midi — 1883 notes, 1863 sequences\n"
     ]
    },
    {
     "name": "stderr",
     "output_type": "stream",
     "text": [
      " 95%|█████████▌| 3808/4000 [39:27<37:14, 11.64s/it]"
     ]
    },
    {
     "name": "stdout",
     "output_type": "stream",
     "text": [
      "✅ Processed D:/Study/Ai_Music_Composer/MIDI_Dataset\\XMIDI_fear_jazz_MKWZHH95.midi — 2037 notes, 2017 sequences\n"
     ]
    },
    {
     "name": "stderr",
     "output_type": "stream",
     "text": [
      " 95%|█████████▌| 3809/4000 [39:37<36:03, 11.33s/it]"
     ]
    },
    {
     "name": "stdout",
     "output_type": "stream",
     "text": [
      "✅ Processed D:/Study/Ai_Music_Composer/MIDI_Dataset\\XMIDI_fear_country_N74XX3BI.midi — 664 notes, 644 sequences\n"
     ]
    },
    {
     "name": "stderr",
     "output_type": "stream",
     "text": [
      " 95%|█████████▌| 3810/4000 [39:50<37:09, 11.74s/it]"
     ]
    },
    {
     "name": "stdout",
     "output_type": "stream",
     "text": [
      "✅ Processed D:/Study/Ai_Music_Composer/MIDI_Dataset\\XMIDI_quiet_country_5XA748HA.midi — 2261 notes, 2241 sequences\n"
     ]
    },
    {
     "name": "stderr",
     "output_type": "stream",
     "text": [
      " 95%|█████████▌| 3811/4000 [40:01<36:36, 11.62s/it]"
     ]
    },
    {
     "name": "stdout",
     "output_type": "stream",
     "text": [
      "✅ Processed D:/Study/Ai_Music_Composer/MIDI_Dataset\\XMIDI_sad_pop_Z9HX6GL9.midi — 513 notes, 493 sequences\n"
     ]
    },
    {
     "name": "stderr",
     "output_type": "stream",
     "text": [
      " 95%|█████████▌| 3812/4000 [40:13<35:56, 11.47s/it]"
     ]
    },
    {
     "name": "stdout",
     "output_type": "stream",
     "text": [
      "✅ Processed D:/Study/Ai_Music_Composer/MIDI_Dataset\\XMIDI_sad_classical_EYQ10A0S.midi — 725 notes, 705 sequences\n"
     ]
    },
    {
     "name": "stderr",
     "output_type": "stream",
     "text": [
      " 95%|█████████▌| 3813/4000 [40:24<35:26, 11.37s/it]"
     ]
    },
    {
     "name": "stdout",
     "output_type": "stream",
     "text": [
      "✅ Processed D:/Study/Ai_Music_Composer/MIDI_Dataset\\XMIDI_quiet_rock_9EKFMFNB.midi — 512 notes, 492 sequences\n"
     ]
    },
    {
     "name": "stderr",
     "output_type": "stream",
     "text": [
      " 95%|█████████▌| 3814/4000 [40:37<36:41, 11.84s/it]"
     ]
    },
    {
     "name": "stdout",
     "output_type": "stream",
     "text": [
      "✅ Processed D:/Study/Ai_Music_Composer/MIDI_Dataset\\XMIDI_sad_country_SZJWV0OQ.midi — 1221 notes, 1201 sequences\n"
     ]
    },
    {
     "name": "stderr",
     "output_type": "stream",
     "text": [
      " 95%|█████████▌| 3815/4000 [40:47<35:01, 11.36s/it]"
     ]
    },
    {
     "name": "stdout",
     "output_type": "stream",
     "text": [
      "✅ Processed D:/Study/Ai_Music_Composer/MIDI_Dataset\\XMIDI_sad_country_43U4U6EM.midi — 1124 notes, 1104 sequences\n"
     ]
    },
    {
     "name": "stderr",
     "output_type": "stream",
     "text": [
      " 95%|█████████▌| 3816/4000 [40:58<34:14, 11.17s/it]"
     ]
    },
    {
     "name": "stdout",
     "output_type": "stream",
     "text": [
      "✅ Processed D:/Study/Ai_Music_Composer/MIDI_Dataset\\XMIDI_quiet_classical_4K9OE2PU.midi — 1535 notes, 1515 sequences\n"
     ]
    },
    {
     "name": "stderr",
     "output_type": "stream",
     "text": [
      " 95%|█████████▌| 3817/4000 [41:11<35:37, 11.68s/it]"
     ]
    },
    {
     "name": "stdout",
     "output_type": "stream",
     "text": [
      "✅ Processed D:/Study/Ai_Music_Composer/MIDI_Dataset\\XMIDI_quiet_rock_EDFZ9C4F.midi — 1316 notes, 1296 sequences\n"
     ]
    },
    {
     "name": "stderr",
     "output_type": "stream",
     "text": [
      " 95%|█████████▌| 3818/4000 [41:23<36:25, 12.01s/it]"
     ]
    },
    {
     "name": "stdout",
     "output_type": "stream",
     "text": [
      "✅ Processed D:/Study/Ai_Music_Composer/MIDI_Dataset\\XMIDI_quiet_rock_ROY5KG92.midi — 1053 notes, 1033 sequences\n"
     ]
    },
    {
     "name": "stderr",
     "output_type": "stream",
     "text": [
      " 95%|█████████▌| 3819/4000 [41:33<34:27, 11.42s/it]"
     ]
    },
    {
     "name": "stdout",
     "output_type": "stream",
     "text": [
      "✅ Processed D:/Study/Ai_Music_Composer/MIDI_Dataset\\XMIDI_quiet_pop_G0XAE2SL.midi — 1404 notes, 1384 sequences\n"
     ]
    },
    {
     "name": "stderr",
     "output_type": "stream",
     "text": [
      " 96%|█████████▌| 3820/4000 [41:46<35:04, 11.69s/it]"
     ]
    },
    {
     "name": "stdout",
     "output_type": "stream",
     "text": [
      "✅ Processed D:/Study/Ai_Music_Composer/MIDI_Dataset\\XMIDI_sad_pop_HG2SZ3EW.midi — 854 notes, 834 sequences\n"
     ]
    },
    {
     "name": "stderr",
     "output_type": "stream",
     "text": [
      " 96%|█████████▌| 3821/4000 [41:57<34:57, 11.72s/it]"
     ]
    },
    {
     "name": "stdout",
     "output_type": "stream",
     "text": [
      "✅ Processed D:/Study/Ai_Music_Composer/MIDI_Dataset\\XMIDI_quiet_country_AVB9T9GO.midi — 1375 notes, 1355 sequences\n"
     ]
    },
    {
     "name": "stderr",
     "output_type": "stream",
     "text": [
      " 96%|█████████▌| 3822/4000 [42:09<34:39, 11.69s/it]"
     ]
    },
    {
     "name": "stdout",
     "output_type": "stream",
     "text": [
      "✅ Processed D:/Study/Ai_Music_Composer/MIDI_Dataset\\XMIDI_sad_rock_8KWABQ7H.midi — 584 notes, 564 sequences\n"
     ]
    },
    {
     "name": "stderr",
     "output_type": "stream",
     "text": [
      " 96%|█████████▌| 3823/4000 [42:20<33:35, 11.39s/it]"
     ]
    },
    {
     "name": "stdout",
     "output_type": "stream",
     "text": [
      "✅ Processed D:/Study/Ai_Music_Composer/MIDI_Dataset\\XMIDI_sad_pop_ZTJH2OI9.midi — 2675 notes, 2655 sequences\n"
     ]
    },
    {
     "name": "stderr",
     "output_type": "stream",
     "text": [
      " 96%|█████████▌| 3824/4000 [42:30<31:59, 10.91s/it]"
     ]
    },
    {
     "name": "stdout",
     "output_type": "stream",
     "text": [
      "✅ Processed D:/Study/Ai_Music_Composer/MIDI_Dataset\\XMIDI_fear_rock_HL4SSSEH.midi — 1155 notes, 1135 sequences\n"
     ]
    },
    {
     "name": "stderr",
     "output_type": "stream",
     "text": [
      " 96%|█████████▌| 3825/4000 [42:39<30:08, 10.33s/it]"
     ]
    },
    {
     "name": "stdout",
     "output_type": "stream",
     "text": [
      "✅ Processed D:/Study/Ai_Music_Composer/MIDI_Dataset\\XMIDI_fear_rock_A6DWQK0Y.midi — 630 notes, 610 sequences\n"
     ]
    },
    {
     "name": "stderr",
     "output_type": "stream",
     "text": [
      " 96%|█████████▌| 3826/4000 [42:48<28:52,  9.96s/it]"
     ]
    },
    {
     "name": "stdout",
     "output_type": "stream",
     "text": [
      "✅ Processed D:/Study/Ai_Music_Composer/MIDI_Dataset\\XMIDI_quiet_country_L4E2OBL7.midi — 1360 notes, 1340 sequences\n"
     ]
    },
    {
     "name": "stderr",
     "output_type": "stream",
     "text": [
      " 96%|█████████▌| 3827/4000 [42:57<28:13,  9.79s/it]"
     ]
    },
    {
     "name": "stdout",
     "output_type": "stream",
     "text": [
      "✅ Processed D:/Study/Ai_Music_Composer/MIDI_Dataset\\XMIDI_sad_rock_B7YPS5QN.midi — 527 notes, 507 sequences\n"
     ]
    },
    {
     "name": "stderr",
     "output_type": "stream",
     "text": [
      " 96%|█████████▌| 3828/4000 [43:05<26:17,  9.17s/it]"
     ]
    },
    {
     "name": "stdout",
     "output_type": "stream",
     "text": [
      "✅ Processed D:/Study/Ai_Music_Composer/MIDI_Dataset\\XMIDI_sad_country_49SVC2W9.midi — 4075 notes, 4055 sequences\n"
     ]
    },
    {
     "name": "stderr",
     "output_type": "stream",
     "text": [
      " 96%|█████████▌| 3829/4000 [43:12<24:50,  8.72s/it]"
     ]
    },
    {
     "name": "stdout",
     "output_type": "stream",
     "text": [
      "✅ Processed D:/Study/Ai_Music_Composer/MIDI_Dataset\\XMIDI_fear_rock_MXEUR6D6.midi — 801 notes, 781 sequences\n"
     ]
    },
    {
     "name": "stderr",
     "output_type": "stream",
     "text": [
      " 96%|█████████▌| 3830/4000 [43:20<23:43,  8.37s/it]"
     ]
    },
    {
     "name": "stdout",
     "output_type": "stream",
     "text": [
      "✅ Processed D:/Study/Ai_Music_Composer/MIDI_Dataset\\XMIDI_sad_traditional_KUQ7GSPD.midi — 857 notes, 837 sequences\n"
     ]
    },
    {
     "name": "stderr",
     "output_type": "stream",
     "text": [
      " 96%|█████████▌| 3831/4000 [43:28<23:04,  8.19s/it]"
     ]
    },
    {
     "name": "stdout",
     "output_type": "stream",
     "text": [
      "✅ Processed D:/Study/Ai_Music_Composer/MIDI_Dataset\\XMIDI_sad_traditional_3GIJD2O0.midi — 1373 notes, 1353 sequences\n"
     ]
    },
    {
     "name": "stderr",
     "output_type": "stream",
     "text": [
      " 96%|█████████▌| 3832/4000 [43:35<22:27,  8.02s/it]"
     ]
    },
    {
     "name": "stdout",
     "output_type": "stream",
     "text": [
      "✅ Processed D:/Study/Ai_Music_Composer/MIDI_Dataset\\XMIDI_sad_classical_CYV20455.midi — 497 notes, 477 sequences\n"
     ]
    },
    {
     "name": "stderr",
     "output_type": "stream",
     "text": [
      " 96%|█████████▌| 3833/4000 [43:43<22:01,  7.91s/it]"
     ]
    },
    {
     "name": "stdout",
     "output_type": "stream",
     "text": [
      "✅ Processed D:/Study/Ai_Music_Composer/MIDI_Dataset\\XMIDI_quiet_jazz_M6NVDOQS.midi — 1501 notes, 1481 sequences\n"
     ]
    },
    {
     "name": "stderr",
     "output_type": "stream",
     "text": [
      " 96%|█████████▌| 3834/4000 [43:51<21:43,  7.85s/it]"
     ]
    },
    {
     "name": "stdout",
     "output_type": "stream",
     "text": [
      "✅ Processed D:/Study/Ai_Music_Composer/MIDI_Dataset\\XMIDI_sad_rock_5DOG3K8X.midi — 1776 notes, 1756 sequences\n"
     ]
    },
    {
     "name": "stderr",
     "output_type": "stream",
     "text": [
      " 96%|█████████▌| 3835/4000 [43:59<21:39,  7.88s/it]"
     ]
    },
    {
     "name": "stdout",
     "output_type": "stream",
     "text": [
      "✅ Processed D:/Study/Ai_Music_Composer/MIDI_Dataset\\XMIDI_fear_classical_33D3ZLB1.midi — 2599 notes, 2579 sequences\n"
     ]
    },
    {
     "name": "stderr",
     "output_type": "stream",
     "text": [
      " 96%|█████████▌| 3836/4000 [44:08<22:34,  8.26s/it]"
     ]
    },
    {
     "name": "stdout",
     "output_type": "stream",
     "text": [
      "✅ Processed D:/Study/Ai_Music_Composer/MIDI_Dataset\\XMIDI_sad_country_3QBW48KX.midi — 939 notes, 919 sequences\n"
     ]
    },
    {
     "name": "stderr",
     "output_type": "stream",
     "text": [
      " 96%|█████████▌| 3837/4000 [44:16<22:05,  8.13s/it]"
     ]
    },
    {
     "name": "stdout",
     "output_type": "stream",
     "text": [
      "✅ Processed D:/Study/Ai_Music_Composer/MIDI_Dataset\\XMIDI_quiet_country_FNK4R0N0.midi — 2143 notes, 2123 sequences\n"
     ]
    },
    {
     "name": "stderr",
     "output_type": "stream",
     "text": [
      " 96%|█████████▌| 3838/4000 [44:23<21:34,  7.99s/it]"
     ]
    },
    {
     "name": "stdout",
     "output_type": "stream",
     "text": [
      "✅ Processed D:/Study/Ai_Music_Composer/MIDI_Dataset\\XMIDI_sad_country_WQTD2P3U.midi — 1357 notes, 1337 sequences\n"
     ]
    },
    {
     "name": "stderr",
     "output_type": "stream",
     "text": [
      " 96%|█████████▌| 3839/4000 [44:32<21:40,  8.08s/it]"
     ]
    },
    {
     "name": "stdout",
     "output_type": "stream",
     "text": [
      "✅ Processed D:/Study/Ai_Music_Composer/MIDI_Dataset\\XMIDI_sad_rock_39O2YSI8.midi — 2015 notes, 1995 sequences\n"
     ]
    },
    {
     "name": "stderr",
     "output_type": "stream",
     "text": [
      " 96%|█████████▌| 3840/4000 [44:39<21:16,  7.98s/it]"
     ]
    },
    {
     "name": "stdout",
     "output_type": "stream",
     "text": [
      "✅ Processed D:/Study/Ai_Music_Composer/MIDI_Dataset\\XMIDI_quiet_rock_1RTC34PD.midi — 1534 notes, 1514 sequences\n"
     ]
    },
    {
     "name": "stderr",
     "output_type": "stream",
     "text": [
      " 96%|█████████▌| 3841/4000 [44:47<21:04,  7.95s/it]"
     ]
    },
    {
     "name": "stdout",
     "output_type": "stream",
     "text": [
      "✅ Processed D:/Study/Ai_Music_Composer/MIDI_Dataset\\XMIDI_fear_jazz_DHILPQ07.midi — 584 notes, 564 sequences\n"
     ]
    },
    {
     "name": "stderr",
     "output_type": "stream",
     "text": [
      " 96%|█████████▌| 3842/4000 [44:55<20:55,  7.95s/it]"
     ]
    },
    {
     "name": "stdout",
     "output_type": "stream",
     "text": [
      "✅ Processed D:/Study/Ai_Music_Composer/MIDI_Dataset\\XMIDI_quiet_jazz_WJVFHI1J.midi — 1118 notes, 1098 sequences\n"
     ]
    },
    {
     "name": "stderr",
     "output_type": "stream",
     "text": [
      " 96%|█████████▌| 3843/4000 [45:03<20:45,  7.93s/it]"
     ]
    },
    {
     "name": "stdout",
     "output_type": "stream",
     "text": [
      "✅ Processed D:/Study/Ai_Music_Composer/MIDI_Dataset\\XMIDI_quiet_classical_9RR7601S.midi — 1433 notes, 1413 sequences\n"
     ]
    },
    {
     "name": "stderr",
     "output_type": "stream",
     "text": [
      " 96%|█████████▌| 3844/4000 [45:12<21:28,  8.26s/it]"
     ]
    },
    {
     "name": "stdout",
     "output_type": "stream",
     "text": [
      "✅ Processed D:/Study/Ai_Music_Composer/MIDI_Dataset\\XMIDI_sad_country_YX0Q092M.midi — 1468 notes, 1448 sequences\n"
     ]
    },
    {
     "name": "stderr",
     "output_type": "stream",
     "text": [
      " 96%|█████████▌| 3845/4000 [45:24<24:30,  9.49s/it]"
     ]
    },
    {
     "name": "stdout",
     "output_type": "stream",
     "text": [
      "✅ Processed D:/Study/Ai_Music_Composer/MIDI_Dataset\\XMIDI_fear_pop_OSG3ZVXV.midi — 5834 notes, 5814 sequences\n"
     ]
    },
    {
     "name": "stderr",
     "output_type": "stream",
     "text": [
      " 96%|█████████▌| 3846/4000 [45:33<23:20,  9.09s/it]"
     ]
    },
    {
     "name": "stdout",
     "output_type": "stream",
     "text": [
      "✅ Processed D:/Study/Ai_Music_Composer/MIDI_Dataset\\XMIDI_sad_classical_RNQ945GY.midi — 327 notes, 307 sequences\n"
     ]
    },
    {
     "name": "stderr",
     "output_type": "stream",
     "text": [
      " 96%|█████████▌| 3847/4000 [45:40<22:08,  8.68s/it]"
     ]
    },
    {
     "name": "stdout",
     "output_type": "stream",
     "text": [
      "✅ Processed D:/Study/Ai_Music_Composer/MIDI_Dataset\\XMIDI_sad_classical_1VQTE8PZ.midi — 1258 notes, 1238 sequences\n"
     ]
    },
    {
     "name": "stderr",
     "output_type": "stream",
     "text": [
      " 96%|█████████▌| 3848/4000 [45:48<21:22,  8.44s/it]"
     ]
    },
    {
     "name": "stdout",
     "output_type": "stream",
     "text": [
      "✅ Processed D:/Study/Ai_Music_Composer/MIDI_Dataset\\XMIDI_quiet_country_5KN9RRKP.midi — 1233 notes, 1213 sequences\n"
     ]
    },
    {
     "name": "stderr",
     "output_type": "stream",
     "text": [
      " 96%|█████████▌| 3849/4000 [45:56<20:57,  8.33s/it]"
     ]
    },
    {
     "name": "stdout",
     "output_type": "stream",
     "text": [
      "✅ Processed D:/Study/Ai_Music_Composer/MIDI_Dataset\\XMIDI_sad_rock_VQ1SRSPB.midi — 1210 notes, 1190 sequences\n"
     ]
    },
    {
     "name": "stderr",
     "output_type": "stream",
     "text": [
      " 96%|█████████▋| 3850/4000 [46:04<20:27,  8.19s/it]"
     ]
    },
    {
     "name": "stdout",
     "output_type": "stream",
     "text": [
      "✅ Processed D:/Study/Ai_Music_Composer/MIDI_Dataset\\XMIDI_quiet_rock_Y0ULN0KU.midi — 1503 notes, 1483 sequences\n"
     ]
    },
    {
     "name": "stderr",
     "output_type": "stream",
     "text": [
      " 96%|█████████▋| 3851/4000 [46:12<19:56,  8.03s/it]"
     ]
    },
    {
     "name": "stdout",
     "output_type": "stream",
     "text": [
      "✅ Processed D:/Study/Ai_Music_Composer/MIDI_Dataset\\XMIDI_sad_jazz_VBWYBN51.midi — 682 notes, 662 sequences\n"
     ]
    },
    {
     "name": "stderr",
     "output_type": "stream",
     "text": [
      " 96%|█████████▋| 3852/4000 [46:20<19:38,  7.97s/it]"
     ]
    },
    {
     "name": "stdout",
     "output_type": "stream",
     "text": [
      "✅ Processed D:/Study/Ai_Music_Composer/MIDI_Dataset\\XMIDI_sad_pop_ITTO2MWR.midi — 1890 notes, 1870 sequences\n"
     ]
    },
    {
     "name": "stderr",
     "output_type": "stream",
     "text": [
      " 96%|█████████▋| 3853/4000 [46:28<19:36,  8.01s/it]"
     ]
    },
    {
     "name": "stdout",
     "output_type": "stream",
     "text": [
      "✅ Processed D:/Study/Ai_Music_Composer/MIDI_Dataset\\XMIDI_fear_classical_WWYVP1GS.midi — 202 notes, 182 sequences\n"
     ]
    },
    {
     "name": "stderr",
     "output_type": "stream",
     "text": [
      " 96%|█████████▋| 3854/4000 [46:36<19:23,  7.97s/it]"
     ]
    },
    {
     "name": "stdout",
     "output_type": "stream",
     "text": [
      "✅ Processed D:/Study/Ai_Music_Composer/MIDI_Dataset\\XMIDI_quiet_pop_9FHWXIS6.midi — 1806 notes, 1786 sequences\n"
     ]
    },
    {
     "name": "stderr",
     "output_type": "stream",
     "text": [
      " 96%|█████████▋| 3855/4000 [46:44<19:18,  7.99s/it]"
     ]
    },
    {
     "name": "stdout",
     "output_type": "stream",
     "text": [
      "✅ Processed D:/Study/Ai_Music_Composer/MIDI_Dataset\\XMIDI_sad_pop_RZEZLE60.midi — 3550 notes, 3530 sequences\n"
     ]
    },
    {
     "name": "stderr",
     "output_type": "stream",
     "text": [
      " 96%|█████████▋| 3856/4000 [46:51<19:04,  7.95s/it]"
     ]
    },
    {
     "name": "stdout",
     "output_type": "stream",
     "text": [
      "✅ Processed D:/Study/Ai_Music_Composer/MIDI_Dataset\\XMIDI_fear_classical_ITDNA3YP.midi — 374 notes, 354 sequences\n"
     ]
    },
    {
     "name": "stderr",
     "output_type": "stream",
     "text": [
      " 96%|█████████▋| 3857/4000 [47:00<19:02,  7.99s/it]"
     ]
    },
    {
     "name": "stdout",
     "output_type": "stream",
     "text": [
      "✅ Processed D:/Study/Ai_Music_Composer/MIDI_Dataset\\XMIDI_fear_pop_1KP6CBWB.midi — 797 notes, 777 sequences\n"
     ]
    },
    {
     "name": "stderr",
     "output_type": "stream",
     "text": [
      " 96%|█████████▋| 3858/4000 [47:07<18:38,  7.88s/it]"
     ]
    },
    {
     "name": "stdout",
     "output_type": "stream",
     "text": [
      "✅ Processed D:/Study/Ai_Music_Composer/MIDI_Dataset\\XMIDI_sad_jazz_R8PACPWV.midi — 663 notes, 643 sequences\n"
     ]
    },
    {
     "name": "stderr",
     "output_type": "stream",
     "text": [
      " 96%|█████████▋| 3859/4000 [47:15<18:33,  7.89s/it]"
     ]
    },
    {
     "name": "stdout",
     "output_type": "stream",
     "text": [
      "✅ Processed D:/Study/Ai_Music_Composer/MIDI_Dataset\\XMIDI_sad_pop_RFZLAP0J.midi — 838 notes, 818 sequences\n"
     ]
    },
    {
     "name": "stderr",
     "output_type": "stream",
     "text": [
      " 96%|█████████▋| 3860/4000 [47:23<18:28,  7.92s/it]"
     ]
    },
    {
     "name": "stdout",
     "output_type": "stream",
     "text": [
      "✅ Processed D:/Study/Ai_Music_Composer/MIDI_Dataset\\XMIDI_quiet_country_W70OORJT.midi — 2657 notes, 2637 sequences\n"
     ]
    },
    {
     "name": "stderr",
     "output_type": "stream",
     "text": [
      " 97%|█████████▋| 3861/4000 [47:31<18:28,  7.98s/it]"
     ]
    },
    {
     "name": "stdout",
     "output_type": "stream",
     "text": [
      "✅ Processed D:/Study/Ai_Music_Composer/MIDI_Dataset\\XMIDI_fear_pop_0LIIEJHU.midi — 69 notes, 49 sequences\n"
     ]
    },
    {
     "name": "stderr",
     "output_type": "stream",
     "text": [
      " 97%|█████████▋| 3862/4000 [47:39<18:18,  7.96s/it]"
     ]
    },
    {
     "name": "stdout",
     "output_type": "stream",
     "text": [
      "✅ Processed D:/Study/Ai_Music_Composer/MIDI_Dataset\\XMIDI_sad_traditional_F31Z1AKK.midi — 1783 notes, 1763 sequences\n"
     ]
    },
    {
     "name": "stderr",
     "output_type": "stream",
     "text": [
      " 97%|█████████▋| 3863/4000 [47:47<18:01,  7.89s/it]"
     ]
    },
    {
     "name": "stdout",
     "output_type": "stream",
     "text": [
      "✅ Processed D:/Study/Ai_Music_Composer/MIDI_Dataset\\XMIDI_sad_pop_V8CF9LTC.midi — 322 notes, 302 sequences\n"
     ]
    },
    {
     "name": "stderr",
     "output_type": "stream",
     "text": [
      " 97%|█████████▋| 3864/4000 [47:55<17:52,  7.89s/it]"
     ]
    },
    {
     "name": "stdout",
     "output_type": "stream",
     "text": [
      "✅ Processed D:/Study/Ai_Music_Composer/MIDI_Dataset\\XMIDI_sad_traditional_X7NQ9KKB.midi — 1586 notes, 1566 sequences\n"
     ]
    },
    {
     "name": "stderr",
     "output_type": "stream",
     "text": [
      " 97%|█████████▋| 3865/4000 [48:03<17:41,  7.86s/it]"
     ]
    },
    {
     "name": "stdout",
     "output_type": "stream",
     "text": [
      "✅ Processed D:/Study/Ai_Music_Composer/MIDI_Dataset\\XMIDI_sad_pop_Q3W1RTSS.midi — 635 notes, 615 sequences\n"
     ]
    },
    {
     "name": "stderr",
     "output_type": "stream",
     "text": [
      " 97%|█████████▋| 3866/4000 [48:10<17:31,  7.85s/it]"
     ]
    },
    {
     "name": "stdout",
     "output_type": "stream",
     "text": [
      "✅ Processed D:/Study/Ai_Music_Composer/MIDI_Dataset\\XMIDI_quiet_classical_IM18DLIM.midi — 3584 notes, 3564 sequences\n"
     ]
    },
    {
     "name": "stderr",
     "output_type": "stream",
     "text": [
      " 97%|█████████▋| 3867/4000 [48:18<17:17,  7.80s/it]"
     ]
    },
    {
     "name": "stdout",
     "output_type": "stream",
     "text": [
      "✅ Processed D:/Study/Ai_Music_Composer/MIDI_Dataset\\XMIDI_quiet_classical_DXT8ELJU.midi — 1473 notes, 1453 sequences\n"
     ]
    },
    {
     "name": "stderr",
     "output_type": "stream",
     "text": [
      " 97%|█████████▋| 3868/4000 [48:26<17:09,  7.80s/it]"
     ]
    },
    {
     "name": "stdout",
     "output_type": "stream",
     "text": [
      "✅ Processed D:/Study/Ai_Music_Composer/MIDI_Dataset\\XMIDI_sad_classical_UZ2OBPLS.midi — 351 notes, 331 sequences\n"
     ]
    },
    {
     "name": "stderr",
     "output_type": "stream",
     "text": [
      " 97%|█████████▋| 3869/4000 [48:34<17:13,  7.89s/it]"
     ]
    },
    {
     "name": "stdout",
     "output_type": "stream",
     "text": [
      "✅ Processed D:/Study/Ai_Music_Composer/MIDI_Dataset\\XMIDI_sad_traditional_Y02WN5C9.midi — 697 notes, 677 sequences\n"
     ]
    },
    {
     "name": "stderr",
     "output_type": "stream",
     "text": [
      " 97%|█████████▋| 3870/4000 [48:42<17:04,  7.88s/it]"
     ]
    },
    {
     "name": "stdout",
     "output_type": "stream",
     "text": [
      "✅ Processed D:/Study/Ai_Music_Composer/MIDI_Dataset\\XMIDI_sad_pop_PE9MRYYE.midi — 420 notes, 400 sequences\n"
     ]
    },
    {
     "name": "stderr",
     "output_type": "stream",
     "text": [
      " 97%|█████████▋| 3871/4000 [48:49<16:45,  7.79s/it]"
     ]
    },
    {
     "name": "stdout",
     "output_type": "stream",
     "text": [
      "✅ Processed D:/Study/Ai_Music_Composer/MIDI_Dataset\\XMIDI_sad_rock_F9VEWLNS.midi — 1058 notes, 1038 sequences\n"
     ]
    },
    {
     "name": "stderr",
     "output_type": "stream",
     "text": [
      " 97%|█████████▋| 3872/4000 [48:57<16:34,  7.77s/it]"
     ]
    },
    {
     "name": "stdout",
     "output_type": "stream",
     "text": [
      "✅ Processed D:/Study/Ai_Music_Composer/MIDI_Dataset\\XMIDI_quiet_classical_PBW2YVL5.midi — 370 notes, 350 sequences\n"
     ]
    },
    {
     "name": "stderr",
     "output_type": "stream",
     "text": [
      " 97%|█████████▋| 3873/4000 [49:05<16:34,  7.83s/it]"
     ]
    },
    {
     "name": "stdout",
     "output_type": "stream",
     "text": [
      "✅ Processed D:/Study/Ai_Music_Composer/MIDI_Dataset\\XMIDI_quiet_pop_BSVIVXTN.midi — 2089 notes, 2069 sequences\n"
     ]
    },
    {
     "name": "stderr",
     "output_type": "stream",
     "text": [
      " 97%|█████████▋| 3874/4000 [49:13<16:27,  7.83s/it]"
     ]
    },
    {
     "name": "stdout",
     "output_type": "stream",
     "text": [
      "✅ Processed D:/Study/Ai_Music_Composer/MIDI_Dataset\\XMIDI_fear_rock_CQOTN5TO.midi — 5984 notes, 5964 sequences\n"
     ]
    },
    {
     "name": "stderr",
     "output_type": "stream",
     "text": [
      " 97%|█████████▋| 3875/4000 [49:21<16:13,  7.78s/it]"
     ]
    },
    {
     "name": "stdout",
     "output_type": "stream",
     "text": [
      "✅ Processed D:/Study/Ai_Music_Composer/MIDI_Dataset\\XMIDI_sad_jazz_QO4TNVVB.midi — 726 notes, 706 sequences\n"
     ]
    },
    {
     "name": "stderr",
     "output_type": "stream",
     "text": [
      " 97%|█████████▋| 3876/4000 [49:29<16:12,  7.84s/it]"
     ]
    },
    {
     "name": "stdout",
     "output_type": "stream",
     "text": [
      "✅ Processed D:/Study/Ai_Music_Composer/MIDI_Dataset\\XMIDI_fear_classical_H0EZCNL8.midi — 661 notes, 641 sequences\n"
     ]
    },
    {
     "name": "stderr",
     "output_type": "stream",
     "text": [
      " 97%|█████████▋| 3877/4000 [49:37<16:15,  7.93s/it]"
     ]
    },
    {
     "name": "stdout",
     "output_type": "stream",
     "text": [
      "✅ Processed D:/Study/Ai_Music_Composer/MIDI_Dataset\\XMIDI_sad_classical_BPY3VSEY.midi — 839 notes, 819 sequences\n"
     ]
    },
    {
     "name": "stderr",
     "output_type": "stream",
     "text": [
      " 97%|█████████▋| 3878/4000 [49:44<16:00,  7.87s/it]"
     ]
    },
    {
     "name": "stdout",
     "output_type": "stream",
     "text": [
      "✅ Processed D:/Study/Ai_Music_Composer/MIDI_Dataset\\XMIDI_sad_rock_V2CCS6KG.midi — 1004 notes, 984 sequences\n"
     ]
    },
    {
     "name": "stderr",
     "output_type": "stream",
     "text": [
      " 97%|█████████▋| 3879/4000 [49:52<15:56,  7.90s/it]"
     ]
    },
    {
     "name": "stdout",
     "output_type": "stream",
     "text": [
      "✅ Processed D:/Study/Ai_Music_Composer/MIDI_Dataset\\XMIDI_fear_classical_HJUZH8G6.midi — 3516 notes, 3496 sequences\n"
     ]
    },
    {
     "name": "stderr",
     "output_type": "stream",
     "text": [
      " 97%|█████████▋| 3880/4000 [50:00<15:41,  7.85s/it]"
     ]
    },
    {
     "name": "stdout",
     "output_type": "stream",
     "text": [
      "✅ Processed D:/Study/Ai_Music_Composer/MIDI_Dataset\\XMIDI_fear_pop_A2A0A9XY.midi — 493 notes, 473 sequences\n"
     ]
    },
    {
     "name": "stderr",
     "output_type": "stream",
     "text": [
      " 97%|█████████▋| 3881/4000 [50:08<15:42,  7.92s/it]"
     ]
    },
    {
     "name": "stdout",
     "output_type": "stream",
     "text": [
      "✅ Processed D:/Study/Ai_Music_Composer/MIDI_Dataset\\XMIDI_sad_country_FDJQ4MK1.midi — 1977 notes, 1957 sequences\n"
     ]
    },
    {
     "name": "stderr",
     "output_type": "stream",
     "text": [
      " 97%|█████████▋| 3882/4000 [50:16<15:33,  7.91s/it]"
     ]
    },
    {
     "name": "stdout",
     "output_type": "stream",
     "text": [
      "✅ Processed D:/Study/Ai_Music_Composer/MIDI_Dataset\\XMIDI_fear_jazz_5QE5WNCS.midi — 743 notes, 723 sequences\n"
     ]
    },
    {
     "name": "stderr",
     "output_type": "stream",
     "text": [
      " 97%|█████████▋| 3883/4000 [50:24<15:17,  7.84s/it]"
     ]
    },
    {
     "name": "stdout",
     "output_type": "stream",
     "text": [
      "✅ Processed D:/Study/Ai_Music_Composer/MIDI_Dataset\\XMIDI_sad_classical_S30G550C.midi — 1460 notes, 1440 sequences\n"
     ]
    },
    {
     "name": "stderr",
     "output_type": "stream",
     "text": [
      " 97%|█████████▋| 3884/4000 [50:32<15:09,  7.84s/it]"
     ]
    },
    {
     "name": "stdout",
     "output_type": "stream",
     "text": [
      "✅ Processed D:/Study/Ai_Music_Composer/MIDI_Dataset\\XMIDI_fear_rock_XRO487D8.midi — 1077 notes, 1057 sequences\n"
     ]
    },
    {
     "name": "stderr",
     "output_type": "stream",
     "text": [
      " 97%|█████████▋| 3885/4000 [50:40<15:03,  7.86s/it]"
     ]
    },
    {
     "name": "stdout",
     "output_type": "stream",
     "text": [
      "✅ Processed D:/Study/Ai_Music_Composer/MIDI_Dataset\\XMIDI_quiet_country_BA0P82E4.midi — 72 notes, 52 sequences\n"
     ]
    },
    {
     "name": "stderr",
     "output_type": "stream",
     "text": [
      " 97%|█████████▋| 3886/4000 [50:48<15:10,  7.99s/it]"
     ]
    },
    {
     "name": "stdout",
     "output_type": "stream",
     "text": [
      "✅ Processed D:/Study/Ai_Music_Composer/MIDI_Dataset\\XMIDI_sad_country_M50APAAN.midi — 1166 notes, 1146 sequences\n"
     ]
    },
    {
     "name": "stderr",
     "output_type": "stream",
     "text": [
      " 97%|█████████▋| 3887/4000 [50:55<14:49,  7.87s/it]"
     ]
    },
    {
     "name": "stdout",
     "output_type": "stream",
     "text": [
      "✅ Processed D:/Study/Ai_Music_Composer/MIDI_Dataset\\XMIDI_quiet_jazz_DPHBJKJM.midi — 864 notes, 844 sequences\n"
     ]
    },
    {
     "name": "stderr",
     "output_type": "stream",
     "text": [
      " 97%|█████████▋| 3888/4000 [51:03<14:40,  7.86s/it]"
     ]
    },
    {
     "name": "stdout",
     "output_type": "stream",
     "text": [
      "✅ Processed D:/Study/Ai_Music_Composer/MIDI_Dataset\\XMIDI_fear_classical_OHWVUEXM.midi — 302 notes, 282 sequences\n"
     ]
    },
    {
     "name": "stderr",
     "output_type": "stream",
     "text": [
      " 97%|█████████▋| 3889/4000 [51:11<14:30,  7.84s/it]"
     ]
    },
    {
     "name": "stdout",
     "output_type": "stream",
     "text": [
      "✅ Processed D:/Study/Ai_Music_Composer/MIDI_Dataset\\XMIDI_fear_pop_OI1NMFQ2.midi — 1437 notes, 1417 sequences\n"
     ]
    },
    {
     "name": "stderr",
     "output_type": "stream",
     "text": [
      " 97%|█████████▋| 3890/4000 [51:19<14:20,  7.83s/it]"
     ]
    },
    {
     "name": "stdout",
     "output_type": "stream",
     "text": [
      "✅ Processed D:/Study/Ai_Music_Composer/MIDI_Dataset\\XMIDI_sad_classical_BXR9A0YH.midi — 602 notes, 582 sequences\n"
     ]
    },
    {
     "name": "stderr",
     "output_type": "stream",
     "text": [
      " 97%|█████████▋| 3891/4000 [51:27<14:10,  7.81s/it]"
     ]
    },
    {
     "name": "stdout",
     "output_type": "stream",
     "text": [
      "✅ Processed D:/Study/Ai_Music_Composer/MIDI_Dataset\\XMIDI_sad_classical_ZQDL2IOD.midi — 2048 notes, 2028 sequences\n"
     ]
    },
    {
     "name": "stderr",
     "output_type": "stream",
     "text": [
      " 97%|█████████▋| 3892/4000 [51:34<14:05,  7.83s/it]"
     ]
    },
    {
     "name": "stdout",
     "output_type": "stream",
     "text": [
      "✅ Processed D:/Study/Ai_Music_Composer/MIDI_Dataset\\XMIDI_quiet_rock_8A5B1ZXU.midi — 499 notes, 479 sequences\n"
     ]
    },
    {
     "name": "stderr",
     "output_type": "stream",
     "text": [
      " 97%|█████████▋| 3893/4000 [51:43<14:06,  7.91s/it]"
     ]
    },
    {
     "name": "stdout",
     "output_type": "stream",
     "text": [
      "✅ Processed D:/Study/Ai_Music_Composer/MIDI_Dataset\\XMIDI_sad_classical_B3L05VN0.midi — 1232 notes, 1212 sequences\n"
     ]
    },
    {
     "name": "stderr",
     "output_type": "stream",
     "text": [
      " 97%|█████████▋| 3894/4000 [51:50<13:57,  7.90s/it]"
     ]
    },
    {
     "name": "stdout",
     "output_type": "stream",
     "text": [
      "✅ Processed D:/Study/Ai_Music_Composer/MIDI_Dataset\\XMIDI_sad_classical_EISTKAIS.midi — 1368 notes, 1348 sequences\n"
     ]
    },
    {
     "name": "stderr",
     "output_type": "stream",
     "text": [
      " 97%|█████████▋| 3895/4000 [51:58<13:44,  7.85s/it]"
     ]
    },
    {
     "name": "stdout",
     "output_type": "stream",
     "text": [
      "✅ Processed D:/Study/Ai_Music_Composer/MIDI_Dataset\\XMIDI_sad_traditional_2HHLG35E.midi — 985 notes, 965 sequences\n"
     ]
    },
    {
     "name": "stderr",
     "output_type": "stream",
     "text": [
      " 97%|█████████▋| 3896/4000 [52:06<13:37,  7.86s/it]"
     ]
    },
    {
     "name": "stdout",
     "output_type": "stream",
     "text": [
      "✅ Processed D:/Study/Ai_Music_Composer/MIDI_Dataset\\XMIDI_fear_rock_9N60USPD.midi — 442 notes, 422 sequences\n"
     ]
    },
    {
     "name": "stderr",
     "output_type": "stream",
     "text": [
      " 97%|█████████▋| 3897/4000 [52:14<13:33,  7.90s/it]"
     ]
    },
    {
     "name": "stdout",
     "output_type": "stream",
     "text": [
      "✅ Processed D:/Study/Ai_Music_Composer/MIDI_Dataset\\XMIDI_sad_rock_8CZ1NXFW.midi — 562 notes, 542 sequences\n"
     ]
    },
    {
     "name": "stderr",
     "output_type": "stream",
     "text": [
      " 97%|█████████▋| 3898/4000 [52:22<13:29,  7.93s/it]"
     ]
    },
    {
     "name": "stdout",
     "output_type": "stream",
     "text": [
      "✅ Processed D:/Study/Ai_Music_Composer/MIDI_Dataset\\XMIDI_sad_pop_AYPQZYEL.midi — 4039 notes, 4019 sequences\n"
     ]
    },
    {
     "name": "stderr",
     "output_type": "stream",
     "text": [
      " 97%|█████████▋| 3899/4000 [52:30<13:13,  7.86s/it]"
     ]
    },
    {
     "name": "stdout",
     "output_type": "stream",
     "text": [
      "✅ Processed D:/Study/Ai_Music_Composer/MIDI_Dataset\\XMIDI_sad_country_KKP1POOV.midi — 1696 notes, 1676 sequences\n"
     ]
    },
    {
     "name": "stderr",
     "output_type": "stream",
     "text": [
      " 98%|█████████▊| 3900/4000 [52:38<13:06,  7.87s/it]"
     ]
    },
    {
     "name": "stdout",
     "output_type": "stream",
     "text": [
      "✅ Processed D:/Study/Ai_Music_Composer/MIDI_Dataset\\XMIDI_quiet_rock_4I7TYAR0.midi — 886 notes, 866 sequences\n"
     ]
    },
    {
     "name": "stderr",
     "output_type": "stream",
     "text": [
      " 98%|█████████▊| 3901/4000 [52:46<13:00,  7.88s/it]"
     ]
    },
    {
     "name": "stdout",
     "output_type": "stream",
     "text": [
      "✅ Processed D:/Study/Ai_Music_Composer/MIDI_Dataset\\XMIDI_sad_classical_MHJV0Z88.midi — 694 notes, 674 sequences\n"
     ]
    },
    {
     "name": "stderr",
     "output_type": "stream",
     "text": [
      " 98%|█████████▊| 3902/4000 [52:53<12:51,  7.88s/it]"
     ]
    },
    {
     "name": "stdout",
     "output_type": "stream",
     "text": [
      "✅ Processed D:/Study/Ai_Music_Composer/MIDI_Dataset\\XMIDI_fear_jazz_HAJHLGOQ.midi — 730 notes, 710 sequences\n"
     ]
    },
    {
     "name": "stderr",
     "output_type": "stream",
     "text": [
      " 98%|█████████▊| 3903/4000 [53:01<12:47,  7.91s/it]"
     ]
    },
    {
     "name": "stdout",
     "output_type": "stream",
     "text": [
      "✅ Processed D:/Study/Ai_Music_Composer/MIDI_Dataset\\XMIDI_quiet_rock_F557ROO8.midi — 454 notes, 434 sequences\n"
     ]
    },
    {
     "name": "stderr",
     "output_type": "stream",
     "text": [
      " 98%|█████████▊| 3904/4000 [53:09<12:38,  7.90s/it]"
     ]
    },
    {
     "name": "stdout",
     "output_type": "stream",
     "text": [
      "✅ Processed D:/Study/Ai_Music_Composer/MIDI_Dataset\\XMIDI_sad_classical_82KWT86O.midi — 754 notes, 734 sequences\n"
     ]
    },
    {
     "name": "stderr",
     "output_type": "stream",
     "text": [
      " 98%|█████████▊| 3905/4000 [53:17<12:26,  7.86s/it]"
     ]
    },
    {
     "name": "stdout",
     "output_type": "stream",
     "text": [
      "✅ Processed D:/Study/Ai_Music_Composer/MIDI_Dataset\\XMIDI_sad_rock_9E9YEAEL.midi — 1268 notes, 1248 sequences\n"
     ]
    },
    {
     "name": "stderr",
     "output_type": "stream",
     "text": [
      " 98%|█████████▊| 3906/4000 [53:25<12:23,  7.91s/it]"
     ]
    },
    {
     "name": "stdout",
     "output_type": "stream",
     "text": [
      "✅ Processed D:/Study/Ai_Music_Composer/MIDI_Dataset\\XMIDI_sad_country_JYRO3AFH.midi — 3370 notes, 3350 sequences\n"
     ]
    },
    {
     "name": "stderr",
     "output_type": "stream",
     "text": [
      " 98%|█████████▊| 3907/4000 [53:33<12:08,  7.84s/it]"
     ]
    },
    {
     "name": "stdout",
     "output_type": "stream",
     "text": [
      "✅ Processed D:/Study/Ai_Music_Composer/MIDI_Dataset\\XMIDI_quiet_rock_C571Q9YD.midi — 819 notes, 799 sequences\n"
     ]
    },
    {
     "name": "stderr",
     "output_type": "stream",
     "text": [
      " 98%|█████████▊| 3908/4000 [53:41<12:02,  7.85s/it]"
     ]
    },
    {
     "name": "stdout",
     "output_type": "stream",
     "text": [
      "✅ Processed D:/Study/Ai_Music_Composer/MIDI_Dataset\\XMIDI_quiet_jazz_I8ZWS5BN.midi — 2878 notes, 2858 sequences\n"
     ]
    },
    {
     "name": "stderr",
     "output_type": "stream",
     "text": [
      " 98%|█████████▊| 3909/4000 [53:48<11:54,  7.85s/it]"
     ]
    },
    {
     "name": "stdout",
     "output_type": "stream",
     "text": [
      "✅ Processed D:/Study/Ai_Music_Composer/MIDI_Dataset\\XMIDI_sad_jazz_EZ6PBCH9.midi — 348 notes, 328 sequences\n"
     ]
    },
    {
     "name": "stderr",
     "output_type": "stream",
     "text": [
      " 98%|█████████▊| 3910/4000 [53:57<11:59,  7.99s/it]"
     ]
    },
    {
     "name": "stdout",
     "output_type": "stream",
     "text": [
      "✅ Processed D:/Study/Ai_Music_Composer/MIDI_Dataset\\XMIDI_quiet_pop_GUAERGTO.midi — 1961 notes, 1941 sequences\n"
     ]
    },
    {
     "name": "stderr",
     "output_type": "stream",
     "text": [
      " 98%|█████████▊| 3911/4000 [54:04<11:41,  7.89s/it]"
     ]
    },
    {
     "name": "stdout",
     "output_type": "stream",
     "text": [
      "✅ Processed D:/Study/Ai_Music_Composer/MIDI_Dataset\\XMIDI_sad_traditional_EATYHSYU.midi — 736 notes, 716 sequences\n"
     ]
    },
    {
     "name": "stderr",
     "output_type": "stream",
     "text": [
      " 98%|█████████▊| 3912/4000 [54:12<11:31,  7.86s/it]"
     ]
    },
    {
     "name": "stdout",
     "output_type": "stream",
     "text": [
      "✅ Processed D:/Study/Ai_Music_Composer/MIDI_Dataset\\XMIDI_fear_rock_QFPILV44.midi — 238 notes, 218 sequences\n"
     ]
    },
    {
     "name": "stderr",
     "output_type": "stream",
     "text": [
      " 98%|█████████▊| 3913/4000 [54:20<11:20,  7.82s/it]"
     ]
    },
    {
     "name": "stdout",
     "output_type": "stream",
     "text": [
      "✅ Processed D:/Study/Ai_Music_Composer/MIDI_Dataset\\XMIDI_quiet_classical_HD4OZHV8.midi — 1460 notes, 1440 sequences\n"
     ]
    },
    {
     "name": "stderr",
     "output_type": "stream",
     "text": [
      " 98%|█████████▊| 3914/4000 [54:28<11:16,  7.87s/it]"
     ]
    },
    {
     "name": "stdout",
     "output_type": "stream",
     "text": [
      "✅ Processed D:/Study/Ai_Music_Composer/MIDI_Dataset\\XMIDI_sad_classical_322K14QV.midi — 1639 notes, 1619 sequences\n"
     ]
    },
    {
     "name": "stderr",
     "output_type": "stream",
     "text": [
      " 98%|█████████▊| 3915/4000 [54:36<11:04,  7.82s/it]"
     ]
    },
    {
     "name": "stdout",
     "output_type": "stream",
     "text": [
      "✅ Processed D:/Study/Ai_Music_Composer/MIDI_Dataset\\XMIDI_fear_classical_ZOWWR77T.midi — 518 notes, 498 sequences\n"
     ]
    },
    {
     "name": "stderr",
     "output_type": "stream",
     "text": [
      " 98%|█████████▊| 3916/4000 [54:44<11:00,  7.87s/it]"
     ]
    },
    {
     "name": "stdout",
     "output_type": "stream",
     "text": [
      "✅ Processed D:/Study/Ai_Music_Composer/MIDI_Dataset\\XMIDI_sad_country_I65572D1.midi — 608 notes, 588 sequences\n"
     ]
    },
    {
     "name": "stderr",
     "output_type": "stream",
     "text": [
      " 98%|█████████▊| 3917/4000 [54:53<11:27,  8.29s/it]"
     ]
    },
    {
     "name": "stdout",
     "output_type": "stream",
     "text": [
      "✅ Processed D:/Study/Ai_Music_Composer/MIDI_Dataset\\XMIDI_fear_rock_05CYLU1L.midi — 409 notes, 389 sequences\n"
     ]
    },
    {
     "name": "stderr",
     "output_type": "stream",
     "text": [
      " 98%|█████████▊| 3918/4000 [55:01<11:09,  8.17s/it]"
     ]
    },
    {
     "name": "stdout",
     "output_type": "stream",
     "text": [
      "✅ Processed D:/Study/Ai_Music_Composer/MIDI_Dataset\\XMIDI_quiet_rock_UKJCZPO5.midi — 731 notes, 711 sequences\n"
     ]
    },
    {
     "name": "stderr",
     "output_type": "stream",
     "text": [
      " 98%|█████████▊| 3919/4000 [55:09<10:55,  8.09s/it]"
     ]
    },
    {
     "name": "stdout",
     "output_type": "stream",
     "text": [
      "✅ Processed D:/Study/Ai_Music_Composer/MIDI_Dataset\\XMIDI_quiet_classical_LMRBX6LS.midi — 1171 notes, 1151 sequences\n"
     ]
    },
    {
     "name": "stderr",
     "output_type": "stream",
     "text": [
      " 98%|█████████▊| 3920/4000 [55:16<10:36,  7.96s/it]"
     ]
    },
    {
     "name": "stdout",
     "output_type": "stream",
     "text": [
      "✅ Processed D:/Study/Ai_Music_Composer/MIDI_Dataset\\XMIDI_quiet_rock_7WZ2WG0L.midi — 1581 notes, 1561 sequences\n"
     ]
    },
    {
     "name": "stderr",
     "output_type": "stream",
     "text": [
      " 98%|█████████▊| 3921/4000 [55:24<10:24,  7.90s/it]"
     ]
    },
    {
     "name": "stdout",
     "output_type": "stream",
     "text": [
      "✅ Processed D:/Study/Ai_Music_Composer/MIDI_Dataset\\XMIDI_fear_classical_GQZMTVBV.midi — 247 notes, 227 sequences\n"
     ]
    },
    {
     "name": "stderr",
     "output_type": "stream",
     "text": [
      " 98%|█████████▊| 3922/4000 [55:32<10:15,  7.89s/it]"
     ]
    },
    {
     "name": "stdout",
     "output_type": "stream",
     "text": [
      "✅ Processed D:/Study/Ai_Music_Composer/MIDI_Dataset\\XMIDI_quiet_classical_9ZHHLTQ0.midi — 1438 notes, 1418 sequences\n"
     ]
    },
    {
     "name": "stderr",
     "output_type": "stream",
     "text": [
      " 98%|█████████▊| 3923/4000 [55:41<10:21,  8.07s/it]"
     ]
    },
    {
     "name": "stdout",
     "output_type": "stream",
     "text": [
      "✅ Processed D:/Study/Ai_Music_Composer/MIDI_Dataset\\XMIDI_fear_classical_L67N71CB.midi — 1224 notes, 1204 sequences\n"
     ]
    },
    {
     "name": "stderr",
     "output_type": "stream",
     "text": [
      " 98%|█████████▊| 3924/4000 [55:48<10:05,  7.97s/it]"
     ]
    },
    {
     "name": "stdout",
     "output_type": "stream",
     "text": [
      "✅ Processed D:/Study/Ai_Music_Composer/MIDI_Dataset\\XMIDI_sad_traditional_Y9LX7FGJ.midi — 1672 notes, 1652 sequences\n"
     ]
    },
    {
     "name": "stderr",
     "output_type": "stream",
     "text": [
      " 98%|█████████▊| 3925/4000 [55:56<09:51,  7.88s/it]"
     ]
    },
    {
     "name": "stdout",
     "output_type": "stream",
     "text": [
      "✅ Processed D:/Study/Ai_Music_Composer/MIDI_Dataset\\XMIDI_sad_rock_ELOM0TW8.midi — 1433 notes, 1413 sequences\n"
     ]
    },
    {
     "name": "stderr",
     "output_type": "stream",
     "text": [
      " 98%|█████████▊| 3926/4000 [56:04<09:45,  7.92s/it]"
     ]
    },
    {
     "name": "stdout",
     "output_type": "stream",
     "text": [
      "✅ Processed D:/Study/Ai_Music_Composer/MIDI_Dataset\\XMIDI_quiet_rock_LEDKEDM7.midi — 3539 notes, 3519 sequences\n"
     ]
    },
    {
     "name": "stderr",
     "output_type": "stream",
     "text": [
      " 98%|█████████▊| 3927/4000 [56:12<09:38,  7.92s/it]"
     ]
    },
    {
     "name": "stdout",
     "output_type": "stream",
     "text": [
      "✅ Processed D:/Study/Ai_Music_Composer/MIDI_Dataset\\XMIDI_fear_country_TM465YU5.midi — 2300 notes, 2280 sequences\n"
     ]
    },
    {
     "name": "stderr",
     "output_type": "stream",
     "text": [
      " 98%|█████████▊| 3928/4000 [56:19<09:23,  7.82s/it]"
     ]
    },
    {
     "name": "stdout",
     "output_type": "stream",
     "text": [
      "✅ Processed D:/Study/Ai_Music_Composer/MIDI_Dataset\\XMIDI_quiet_country_0LDPGVQ2.midi — 1085 notes, 1065 sequences\n"
     ]
    },
    {
     "name": "stderr",
     "output_type": "stream",
     "text": [
      " 98%|█████████▊| 3929/4000 [56:27<09:12,  7.78s/it]"
     ]
    },
    {
     "name": "stdout",
     "output_type": "stream",
     "text": [
      "✅ Processed D:/Study/Ai_Music_Composer/MIDI_Dataset\\XMIDI_quiet_jazz_F6GAZQE7.midi — 2286 notes, 2266 sequences\n"
     ]
    },
    {
     "name": "stderr",
     "output_type": "stream",
     "text": [
      " 98%|█████████▊| 3930/4000 [56:35<09:05,  7.80s/it]"
     ]
    },
    {
     "name": "stdout",
     "output_type": "stream",
     "text": [
      "✅ Processed D:/Study/Ai_Music_Composer/MIDI_Dataset\\XMIDI_sad_classical_HMDB5CUT.midi — 514 notes, 494 sequences\n"
     ]
    },
    {
     "name": "stderr",
     "output_type": "stream",
     "text": [
      " 98%|█████████▊| 3931/4000 [56:43<09:08,  7.95s/it]"
     ]
    },
    {
     "name": "stdout",
     "output_type": "stream",
     "text": [
      "✅ Processed D:/Study/Ai_Music_Composer/MIDI_Dataset\\XMIDI_quiet_traditional_LYU5MO65.midi — 526 notes, 506 sequences\n"
     ]
    },
    {
     "name": "stderr",
     "output_type": "stream",
     "text": [
      " 98%|█████████▊| 3932/4000 [56:51<09:01,  7.96s/it]"
     ]
    },
    {
     "name": "stdout",
     "output_type": "stream",
     "text": [
      "✅ Processed D:/Study/Ai_Music_Composer/MIDI_Dataset\\XMIDI_sad_classical_466YUJHW.midi — 2032 notes, 2012 sequences\n"
     ]
    },
    {
     "name": "stderr",
     "output_type": "stream",
     "text": [
      " 98%|█████████▊| 3933/4000 [56:59<08:53,  7.96s/it]"
     ]
    },
    {
     "name": "stdout",
     "output_type": "stream",
     "text": [
      "✅ Processed D:/Study/Ai_Music_Composer/MIDI_Dataset\\XMIDI_quiet_rock_JO93VSX3.midi — 825 notes, 805 sequences\n"
     ]
    },
    {
     "name": "stderr",
     "output_type": "stream",
     "text": [
      " 98%|█████████▊| 3934/4000 [57:08<08:52,  8.06s/it]"
     ]
    },
    {
     "name": "stdout",
     "output_type": "stream",
     "text": [
      "✅ Processed D:/Study/Ai_Music_Composer/MIDI_Dataset\\XMIDI_quiet_classical_JK0G7SUO.midi — 864 notes, 844 sequences\n"
     ]
    },
    {
     "name": "stderr",
     "output_type": "stream",
     "text": [
      " 98%|█████████▊| 3935/4000 [57:16<08:43,  8.05s/it]"
     ]
    },
    {
     "name": "stdout",
     "output_type": "stream",
     "text": [
      "✅ Processed D:/Study/Ai_Music_Composer/MIDI_Dataset\\XMIDI_quiet_country_H9QETBLA.midi — 920 notes, 900 sequences\n"
     ]
    },
    {
     "name": "stderr",
     "output_type": "stream",
     "text": [
      " 98%|█████████▊| 3936/4000 [57:23<08:28,  7.94s/it]"
     ]
    },
    {
     "name": "stdout",
     "output_type": "stream",
     "text": [
      "✅ Processed D:/Study/Ai_Music_Composer/MIDI_Dataset\\XMIDI_quiet_rock_AAGDCNZC.midi — 1364 notes, 1344 sequences\n"
     ]
    },
    {
     "name": "stderr",
     "output_type": "stream",
     "text": [
      " 98%|█████████▊| 3937/4000 [57:31<08:18,  7.91s/it]"
     ]
    },
    {
     "name": "stdout",
     "output_type": "stream",
     "text": [
      "✅ Processed D:/Study/Ai_Music_Composer/MIDI_Dataset\\XMIDI_quiet_rock_S366Z31A.midi — 5949 notes, 5929 sequences\n"
     ]
    },
    {
     "name": "stderr",
     "output_type": "stream",
     "text": [
      " 98%|█████████▊| 3938/4000 [57:39<08:08,  7.88s/it]"
     ]
    },
    {
     "name": "stdout",
     "output_type": "stream",
     "text": [
      "✅ Processed D:/Study/Ai_Music_Composer/MIDI_Dataset\\XMIDI_sad_country_QV4PGLJO.midi — 1508 notes, 1488 sequences\n"
     ]
    },
    {
     "name": "stderr",
     "output_type": "stream",
     "text": [
      " 98%|█████████▊| 3939/4000 [57:47<07:59,  7.86s/it]"
     ]
    },
    {
     "name": "stdout",
     "output_type": "stream",
     "text": [
      "✅ Processed D:/Study/Ai_Music_Composer/MIDI_Dataset\\XMIDI_sad_traditional_XZHTSPPB.midi — 268 notes, 248 sequences\n"
     ]
    },
    {
     "name": "stderr",
     "output_type": "stream",
     "text": [
      " 98%|█████████▊| 3940/4000 [57:54<07:48,  7.81s/it]"
     ]
    },
    {
     "name": "stdout",
     "output_type": "stream",
     "text": [
      "✅ Processed D:/Study/Ai_Music_Composer/MIDI_Dataset\\XMIDI_sad_classical_S42HPUQJ.midi — 801 notes, 781 sequences\n"
     ]
    },
    {
     "name": "stderr",
     "output_type": "stream",
     "text": [
      " 99%|█████████▊| 3941/4000 [58:02<07:38,  7.77s/it]"
     ]
    },
    {
     "name": "stdout",
     "output_type": "stream",
     "text": [
      "✅ Processed D:/Study/Ai_Music_Composer/MIDI_Dataset\\XMIDI_fear_jazz_U6GDXHU0.midi — 245 notes, 225 sequences\n"
     ]
    },
    {
     "name": "stderr",
     "output_type": "stream",
     "text": [
      " 99%|█████████▊| 3942/4000 [58:10<07:29,  7.76s/it]"
     ]
    },
    {
     "name": "stdout",
     "output_type": "stream",
     "text": [
      "✅ Processed D:/Study/Ai_Music_Composer/MIDI_Dataset\\XMIDI_sad_classical_5095R3ED.midi — 781 notes, 761 sequences\n"
     ]
    },
    {
     "name": "stderr",
     "output_type": "stream",
     "text": [
      " 99%|█████████▊| 3943/4000 [58:18<07:25,  7.82s/it]"
     ]
    },
    {
     "name": "stdout",
     "output_type": "stream",
     "text": [
      "✅ Processed D:/Study/Ai_Music_Composer/MIDI_Dataset\\XMIDI_sad_rock_92UHO86W.midi — 178 notes, 158 sequences\n"
     ]
    },
    {
     "name": "stderr",
     "output_type": "stream",
     "text": [
      " 99%|█████████▊| 3944/4000 [58:25<07:15,  7.77s/it]"
     ]
    },
    {
     "name": "stdout",
     "output_type": "stream",
     "text": [
      "✅ Processed D:/Study/Ai_Music_Composer/MIDI_Dataset\\XMIDI_fear_rock_EQRUTLGB.midi — 938 notes, 918 sequences\n"
     ]
    },
    {
     "name": "stderr",
     "output_type": "stream",
     "text": [
      " 99%|█████████▊| 3945/4000 [58:33<07:05,  7.73s/it]"
     ]
    },
    {
     "name": "stdout",
     "output_type": "stream",
     "text": [
      "✅ Processed D:/Study/Ai_Music_Composer/MIDI_Dataset\\XMIDI_sad_jazz_4U89S7UO.midi — 4918 notes, 4898 sequences\n"
     ]
    },
    {
     "name": "stderr",
     "output_type": "stream",
     "text": [
      " 99%|█████████▊| 3946/4000 [58:41<07:02,  7.83s/it]"
     ]
    },
    {
     "name": "stdout",
     "output_type": "stream",
     "text": [
      "✅ Processed D:/Study/Ai_Music_Composer/MIDI_Dataset\\XMIDI_sad_pop_A9GYMT3U.midi — 965 notes, 945 sequences\n"
     ]
    },
    {
     "name": "stderr",
     "output_type": "stream",
     "text": [
      " 99%|█████████▊| 3947/4000 [58:49<06:53,  7.79s/it]"
     ]
    },
    {
     "name": "stdout",
     "output_type": "stream",
     "text": [
      "✅ Processed D:/Study/Ai_Music_Composer/MIDI_Dataset\\XMIDI_sad_classical_D7TOACL8.midi — 134 notes, 114 sequences\n"
     ]
    },
    {
     "name": "stderr",
     "output_type": "stream",
     "text": [
      " 99%|█████████▊| 3948/4000 [58:57<06:46,  7.81s/it]"
     ]
    },
    {
     "name": "stdout",
     "output_type": "stream",
     "text": [
      "✅ Processed D:/Study/Ai_Music_Composer/MIDI_Dataset\\XMIDI_sad_rock_IXU23HWZ.midi — 1592 notes, 1572 sequences\n"
     ]
    },
    {
     "name": "stderr",
     "output_type": "stream",
     "text": [
      " 99%|█████████▊| 3949/4000 [59:04<06:37,  7.80s/it]"
     ]
    },
    {
     "name": "stdout",
     "output_type": "stream",
     "text": [
      "✅ Processed D:/Study/Ai_Music_Composer/MIDI_Dataset\\XMIDI_sad_rock_7V1R5A0N.midi — 456 notes, 436 sequences\n"
     ]
    },
    {
     "name": "stderr",
     "output_type": "stream",
     "text": [
      " 99%|█████████▉| 3950/4000 [59:13<06:35,  7.90s/it]"
     ]
    },
    {
     "name": "stdout",
     "output_type": "stream",
     "text": [
      "✅ Processed D:/Study/Ai_Music_Composer/MIDI_Dataset\\XMIDI_fear_pop_4UTAG16N.midi — 1969 notes, 1949 sequences\n"
     ]
    },
    {
     "name": "stderr",
     "output_type": "stream",
     "text": [
      " 99%|█████████▉| 3951/4000 [59:20<06:24,  7.85s/it]"
     ]
    },
    {
     "name": "stdout",
     "output_type": "stream",
     "text": [
      "✅ Processed D:/Study/Ai_Music_Composer/MIDI_Dataset\\XMIDI_sad_rock_OLB213HB.midi — 1190 notes, 1170 sequences\n"
     ]
    },
    {
     "name": "stderr",
     "output_type": "stream",
     "text": [
      " 99%|█████████▉| 3952/4000 [59:28<06:20,  7.92s/it]"
     ]
    },
    {
     "name": "stdout",
     "output_type": "stream",
     "text": [
      "✅ Processed D:/Study/Ai_Music_Composer/MIDI_Dataset\\XMIDI_fear_classical_GBR8J6DH.midi — 436 notes, 416 sequences\n"
     ]
    },
    {
     "name": "stderr",
     "output_type": "stream",
     "text": [
      " 99%|█████████▉| 3953/4000 [59:36<06:08,  7.85s/it]"
     ]
    },
    {
     "name": "stdout",
     "output_type": "stream",
     "text": [
      "✅ Processed D:/Study/Ai_Music_Composer/MIDI_Dataset\\XMIDI_fear_pop_5NNB4O5O.midi — 3268 notes, 3248 sequences\n"
     ]
    },
    {
     "name": "stderr",
     "output_type": "stream",
     "text": [
      " 99%|█████████▉| 3954/4000 [59:45<06:10,  8.04s/it]"
     ]
    },
    {
     "name": "stdout",
     "output_type": "stream",
     "text": [
      "✅ Processed D:/Study/Ai_Music_Composer/MIDI_Dataset\\XMIDI_quiet_rock_YQN4YAFG.midi — 1041 notes, 1021 sequences\n"
     ]
    },
    {
     "name": "stderr",
     "output_type": "stream",
     "text": [
      " 99%|█████████▉| 3955/4000 [59:53<06:00,  8.01s/it]"
     ]
    },
    {
     "name": "stdout",
     "output_type": "stream",
     "text": [
      "✅ Processed D:/Study/Ai_Music_Composer/MIDI_Dataset\\XMIDI_sad_rock_K48K24WR.midi — 1644 notes, 1624 sequences\n"
     ]
    },
    {
     "name": "stderr",
     "output_type": "stream",
     "text": [
      " 99%|█████████▉| 3956/4000 [1:00:00<05:50,  7.97s/it]"
     ]
    },
    {
     "name": "stdout",
     "output_type": "stream",
     "text": [
      "✅ Processed D:/Study/Ai_Music_Composer/MIDI_Dataset\\XMIDI_sad_rock_EKUZB789.midi — 2130 notes, 2110 sequences\n"
     ]
    },
    {
     "name": "stderr",
     "output_type": "stream",
     "text": [
      " 99%|█████████▉| 3957/4000 [1:00:08<05:41,  7.95s/it]"
     ]
    },
    {
     "name": "stdout",
     "output_type": "stream",
     "text": [
      "✅ Processed D:/Study/Ai_Music_Composer/MIDI_Dataset\\XMIDI_fear_classical_58GYTQZW.midi — 709 notes, 689 sequences\n"
     ]
    },
    {
     "name": "stderr",
     "output_type": "stream",
     "text": [
      " 99%|█████████▉| 3958/4000 [1:00:16<05:34,  7.97s/it]"
     ]
    },
    {
     "name": "stdout",
     "output_type": "stream",
     "text": [
      "✅ Processed D:/Study/Ai_Music_Composer/MIDI_Dataset\\XMIDI_quiet_jazz_GU5KL1ZO.midi — 847 notes, 827 sequences\n"
     ]
    },
    {
     "name": "stderr",
     "output_type": "stream",
     "text": [
      " 99%|█████████▉| 3959/4000 [1:00:24<05:24,  7.92s/it]"
     ]
    },
    {
     "name": "stdout",
     "output_type": "stream",
     "text": [
      "✅ Processed D:/Study/Ai_Music_Composer/MIDI_Dataset\\XMIDI_quiet_classical_XX4LRTHV.midi — 3522 notes, 3502 sequences\n"
     ]
    },
    {
     "name": "stderr",
     "output_type": "stream",
     "text": [
      " 99%|█████████▉| 3960/4000 [1:00:32<05:16,  7.91s/it]"
     ]
    },
    {
     "name": "stdout",
     "output_type": "stream",
     "text": [
      "✅ Processed D:/Study/Ai_Music_Composer/MIDI_Dataset\\XMIDI_sad_rock_QUMZIRD4.midi — 3191 notes, 3171 sequences\n"
     ]
    },
    {
     "name": "stderr",
     "output_type": "stream",
     "text": [
      " 99%|█████████▉| 3961/4000 [1:00:40<05:06,  7.86s/it]"
     ]
    },
    {
     "name": "stdout",
     "output_type": "stream",
     "text": [
      "✅ Processed D:/Study/Ai_Music_Composer/MIDI_Dataset\\XMIDI_sad_pop_9HM7BNWB.midi — 541 notes, 521 sequences\n"
     ]
    },
    {
     "name": "stderr",
     "output_type": "stream",
     "text": [
      " 99%|█████████▉| 3962/4000 [1:00:48<05:06,  8.06s/it]"
     ]
    },
    {
     "name": "stdout",
     "output_type": "stream",
     "text": [
      "✅ Processed D:/Study/Ai_Music_Composer/MIDI_Dataset\\XMIDI_fear_classical_W0E21YNO.midi — 386 notes, 366 sequences\n"
     ]
    },
    {
     "name": "stderr",
     "output_type": "stream",
     "text": [
      " 99%|█████████▉| 3963/4000 [1:00:56<04:59,  8.10s/it]"
     ]
    },
    {
     "name": "stdout",
     "output_type": "stream",
     "text": [
      "✅ Processed D:/Study/Ai_Music_Composer/MIDI_Dataset\\XMIDI_fear_pop_CLQNZ01K.midi — 984 notes, 964 sequences\n"
     ]
    },
    {
     "name": "stderr",
     "output_type": "stream",
     "text": [
      " 99%|█████████▉| 3964/4000 [1:01:04<04:46,  7.96s/it]"
     ]
    },
    {
     "name": "stdout",
     "output_type": "stream",
     "text": [
      "✅ Processed D:/Study/Ai_Music_Composer/MIDI_Dataset\\XMIDI_quiet_jazz_A2WSJ6G7.midi — 844 notes, 824 sequences\n"
     ]
    },
    {
     "name": "stderr",
     "output_type": "stream",
     "text": [
      " 99%|█████████▉| 3965/4000 [1:01:12<04:35,  7.87s/it]"
     ]
    },
    {
     "name": "stdout",
     "output_type": "stream",
     "text": [
      "✅ Processed D:/Study/Ai_Music_Composer/MIDI_Dataset\\XMIDI_fear_traditional_2U6PHY0D.midi — 1415 notes, 1395 sequences\n"
     ]
    },
    {
     "name": "stderr",
     "output_type": "stream",
     "text": [
      " 99%|█████████▉| 3966/4000 [1:01:20<04:28,  7.89s/it]"
     ]
    },
    {
     "name": "stdout",
     "output_type": "stream",
     "text": [
      "✅ Processed D:/Study/Ai_Music_Composer/MIDI_Dataset\\XMIDI_sad_classical_THIW3XE3.midi — 773 notes, 753 sequences\n"
     ]
    },
    {
     "name": "stderr",
     "output_type": "stream",
     "text": [
      " 99%|█████████▉| 3967/4000 [1:01:27<04:18,  7.82s/it]"
     ]
    },
    {
     "name": "stdout",
     "output_type": "stream",
     "text": [
      "✅ Processed D:/Study/Ai_Music_Composer/MIDI_Dataset\\XMIDI_sad_rock_1L9OTWS1.midi — 1080 notes, 1060 sequences\n"
     ]
    },
    {
     "name": "stderr",
     "output_type": "stream",
     "text": [
      " 99%|█████████▉| 3968/4000 [1:01:35<04:09,  7.79s/it]"
     ]
    },
    {
     "name": "stdout",
     "output_type": "stream",
     "text": [
      "✅ Processed D:/Study/Ai_Music_Composer/MIDI_Dataset\\XMIDI_quiet_pop_GBNJ7L6H.midi — 862 notes, 842 sequences\n"
     ]
    },
    {
     "name": "stderr",
     "output_type": "stream",
     "text": [
      " 99%|█████████▉| 3969/4000 [1:01:43<04:01,  7.79s/it]"
     ]
    },
    {
     "name": "stdout",
     "output_type": "stream",
     "text": [
      "✅ Processed D:/Study/Ai_Music_Composer/MIDI_Dataset\\XMIDI_quiet_country_AH90U0AQ.midi — 1571 notes, 1551 sequences\n"
     ]
    },
    {
     "name": "stderr",
     "output_type": "stream",
     "text": [
      " 99%|█████████▉| 3970/4000 [1:01:51<03:54,  7.82s/it]"
     ]
    },
    {
     "name": "stdout",
     "output_type": "stream",
     "text": [
      "✅ Processed D:/Study/Ai_Music_Composer/MIDI_Dataset\\XMIDI_quiet_rock_03B8QC20.midi — 969 notes, 949 sequences\n"
     ]
    },
    {
     "name": "stderr",
     "output_type": "stream",
     "text": [
      " 99%|█████████▉| 3971/4000 [1:01:58<03:45,  7.79s/it]"
     ]
    },
    {
     "name": "stdout",
     "output_type": "stream",
     "text": [
      "✅ Processed D:/Study/Ai_Music_Composer/MIDI_Dataset\\XMIDI_quiet_country_OIPSGUKH.midi — 271 notes, 251 sequences\n"
     ]
    },
    {
     "name": "stderr",
     "output_type": "stream",
     "text": [
      " 99%|█████████▉| 3972/4000 [1:02:06<03:37,  7.76s/it]"
     ]
    },
    {
     "name": "stdout",
     "output_type": "stream",
     "text": [
      "✅ Processed D:/Study/Ai_Music_Composer/MIDI_Dataset\\XMIDI_fear_pop_K23B0Y3T.midi — 1255 notes, 1235 sequences\n"
     ]
    },
    {
     "name": "stderr",
     "output_type": "stream",
     "text": [
      " 99%|█████████▉| 3973/4000 [1:02:14<03:29,  7.78s/it]"
     ]
    },
    {
     "name": "stdout",
     "output_type": "stream",
     "text": [
      "✅ Processed D:/Study/Ai_Music_Composer/MIDI_Dataset\\XMIDI_fear_rock_L8DIKR6S.midi — 1810 notes, 1790 sequences\n"
     ]
    },
    {
     "name": "stderr",
     "output_type": "stream",
     "text": [
      " 99%|█████████▉| 3974/4000 [1:02:22<03:23,  7.82s/it]"
     ]
    },
    {
     "name": "stdout",
     "output_type": "stream",
     "text": [
      "✅ Processed D:/Study/Ai_Music_Composer/MIDI_Dataset\\XMIDI_sad_rock_WKD85SQG.midi — 642 notes, 622 sequences\n"
     ]
    },
    {
     "name": "stderr",
     "output_type": "stream",
     "text": [
      " 99%|█████████▉| 3975/4000 [1:02:29<03:13,  7.73s/it]"
     ]
    },
    {
     "name": "stdout",
     "output_type": "stream",
     "text": [
      "✅ Processed D:/Study/Ai_Music_Composer/MIDI_Dataset\\XMIDI_quiet_jazz_QDFDEONX.midi — 1107 notes, 1087 sequences\n"
     ]
    },
    {
     "name": "stderr",
     "output_type": "stream",
     "text": [
      " 99%|█████████▉| 3976/4000 [1:02:37<03:08,  7.84s/it]"
     ]
    },
    {
     "name": "stdout",
     "output_type": "stream",
     "text": [
      "✅ Processed D:/Study/Ai_Music_Composer/MIDI_Dataset\\XMIDI_sad_traditional_57CPXU47.midi — 922 notes, 902 sequences\n"
     ]
    },
    {
     "name": "stderr",
     "output_type": "stream",
     "text": [
      " 99%|█████████▉| 3977/4000 [1:02:46<03:03,  7.99s/it]"
     ]
    },
    {
     "name": "stdout",
     "output_type": "stream",
     "text": [
      "✅ Processed D:/Study/Ai_Music_Composer/MIDI_Dataset\\XMIDI_sad_pop_E11J9RYU.midi — 1044 notes, 1024 sequences\n"
     ]
    },
    {
     "name": "stderr",
     "output_type": "stream",
     "text": [
      " 99%|█████████▉| 3978/4000 [1:02:54<02:54,  7.93s/it]"
     ]
    },
    {
     "name": "stdout",
     "output_type": "stream",
     "text": [
      "✅ Processed D:/Study/Ai_Music_Composer/MIDI_Dataset\\XMIDI_quiet_rock_ULDRM5YC.midi — 789 notes, 769 sequences\n"
     ]
    },
    {
     "name": "stderr",
     "output_type": "stream",
     "text": [
      " 99%|█████████▉| 3979/4000 [1:03:01<02:45,  7.86s/it]"
     ]
    },
    {
     "name": "stdout",
     "output_type": "stream",
     "text": [
      "✅ Processed D:/Study/Ai_Music_Composer/MIDI_Dataset\\XMIDI_fear_pop_6XLL9EN6.midi — 1074 notes, 1054 sequences\n"
     ]
    },
    {
     "name": "stderr",
     "output_type": "stream",
     "text": [
      "100%|█████████▉| 3980/4000 [1:03:09<02:36,  7.80s/it]"
     ]
    },
    {
     "name": "stdout",
     "output_type": "stream",
     "text": [
      "✅ Processed D:/Study/Ai_Music_Composer/MIDI_Dataset\\XMIDI_fear_rock_E1H33J08.midi — 523 notes, 503 sequences\n"
     ]
    },
    {
     "name": "stderr",
     "output_type": "stream",
     "text": [
      "100%|█████████▉| 3981/4000 [1:03:17<02:28,  7.84s/it]"
     ]
    },
    {
     "name": "stdout",
     "output_type": "stream",
     "text": [
      "✅ Processed D:/Study/Ai_Music_Composer/MIDI_Dataset\\XMIDI_sad_classical_E4S56MWH.midi — 1429 notes, 1409 sequences\n"
     ]
    },
    {
     "name": "stderr",
     "output_type": "stream",
     "text": [
      "100%|█████████▉| 3982/4000 [1:03:25<02:20,  7.81s/it]"
     ]
    },
    {
     "name": "stdout",
     "output_type": "stream",
     "text": [
      "✅ Processed D:/Study/Ai_Music_Composer/MIDI_Dataset\\XMIDI_sad_classical_04UCU5DA.midi — 1466 notes, 1446 sequences\n"
     ]
    },
    {
     "name": "stderr",
     "output_type": "stream",
     "text": [
      "100%|█████████▉| 3983/4000 [1:03:32<02:12,  7.79s/it]"
     ]
    },
    {
     "name": "stdout",
     "output_type": "stream",
     "text": [
      "✅ Processed D:/Study/Ai_Music_Composer/MIDI_Dataset\\XMIDI_quiet_rock_LA8MJ90J.midi — 608 notes, 588 sequences\n"
     ]
    },
    {
     "name": "stderr",
     "output_type": "stream",
     "text": [
      "100%|█████████▉| 3984/4000 [1:03:40<02:04,  7.76s/it]"
     ]
    },
    {
     "name": "stdout",
     "output_type": "stream",
     "text": [
      "✅ Processed D:/Study/Ai_Music_Composer/MIDI_Dataset\\XMIDI_quiet_country_6BUNTEM5.midi — 1047 notes, 1027 sequences\n"
     ]
    },
    {
     "name": "stderr",
     "output_type": "stream",
     "text": [
      "100%|█████████▉| 3985/4000 [1:03:48<01:57,  7.86s/it]"
     ]
    },
    {
     "name": "stdout",
     "output_type": "stream",
     "text": [
      "✅ Processed D:/Study/Ai_Music_Composer/MIDI_Dataset\\XMIDI_sad_pop_M5R0SH4P.midi — 1857 notes, 1837 sequences\n"
     ]
    },
    {
     "name": "stderr",
     "output_type": "stream",
     "text": [
      "100%|█████████▉| 3986/4000 [1:03:56<01:50,  7.88s/it]"
     ]
    },
    {
     "name": "stdout",
     "output_type": "stream",
     "text": [
      "✅ Processed D:/Study/Ai_Music_Composer/MIDI_Dataset\\XMIDI_sad_jazz_H93DYDMB.midi — 1775 notes, 1755 sequences\n"
     ]
    },
    {
     "name": "stderr",
     "output_type": "stream",
     "text": [
      "100%|█████████▉| 3987/4000 [1:04:04<01:41,  7.82s/it]"
     ]
    },
    {
     "name": "stdout",
     "output_type": "stream",
     "text": [
      "✅ Processed D:/Study/Ai_Music_Composer/MIDI_Dataset\\XMIDI_fear_rock_C0BBI5GT.midi — 475 notes, 455 sequences\n"
     ]
    },
    {
     "name": "stderr",
     "output_type": "stream",
     "text": [
      "100%|█████████▉| 3988/4000 [1:04:11<01:32,  7.75s/it]"
     ]
    },
    {
     "name": "stdout",
     "output_type": "stream",
     "text": [
      "✅ Processed D:/Study/Ai_Music_Composer/MIDI_Dataset\\XMIDI_fear_rock_I9TJHAJ9.midi — 1874 notes, 1854 sequences\n"
     ]
    },
    {
     "name": "stderr",
     "output_type": "stream",
     "text": [
      "100%|█████████▉| 3989/4000 [1:04:20<01:26,  7.90s/it]"
     ]
    },
    {
     "name": "stdout",
     "output_type": "stream",
     "text": [
      "✅ Processed D:/Study/Ai_Music_Composer/MIDI_Dataset\\XMIDI_fear_classical_B5UGA0QF.midi — 377 notes, 357 sequences\n"
     ]
    },
    {
     "name": "stderr",
     "output_type": "stream",
     "text": [
      "100%|█████████▉| 3990/4000 [1:04:27<01:18,  7.87s/it]"
     ]
    },
    {
     "name": "stdout",
     "output_type": "stream",
     "text": [
      "✅ Processed D:/Study/Ai_Music_Composer/MIDI_Dataset\\XMIDI_sad_traditional_USL1WQM5.midi — 746 notes, 726 sequences\n"
     ]
    },
    {
     "name": "stderr",
     "output_type": "stream",
     "text": [
      "100%|█████████▉| 3991/4000 [1:04:35<01:10,  7.86s/it]"
     ]
    },
    {
     "name": "stdout",
     "output_type": "stream",
     "text": [
      "✅ Processed D:/Study/Ai_Music_Composer/MIDI_Dataset\\XMIDI_quiet_rock_21E9LHU1.midi — 798 notes, 778 sequences\n"
     ]
    },
    {
     "name": "stderr",
     "output_type": "stream",
     "text": [
      "100%|█████████▉| 3992/4000 [1:04:43<01:02,  7.86s/it]"
     ]
    },
    {
     "name": "stdout",
     "output_type": "stream",
     "text": [
      "✅ Processed D:/Study/Ai_Music_Composer/MIDI_Dataset\\XMIDI_fear_classical_P4UOWN7F.midi — 1229 notes, 1209 sequences\n"
     ]
    },
    {
     "name": "stderr",
     "output_type": "stream",
     "text": [
      "100%|█████████▉| 3993/4000 [1:04:51<00:55,  7.90s/it]"
     ]
    },
    {
     "name": "stdout",
     "output_type": "stream",
     "text": [
      "✅ Processed D:/Study/Ai_Music_Composer/MIDI_Dataset\\XMIDI_quiet_country_UUIBJN8O.midi — 645 notes, 625 sequences\n"
     ]
    },
    {
     "name": "stderr",
     "output_type": "stream",
     "text": [
      "100%|█████████▉| 3994/4000 [1:04:59<00:47,  7.84s/it]"
     ]
    },
    {
     "name": "stdout",
     "output_type": "stream",
     "text": [
      "✅ Processed D:/Study/Ai_Music_Composer/MIDI_Dataset\\XMIDI_quiet_country_XQZ7JHAY.midi — 2470 notes, 2450 sequences\n"
     ]
    },
    {
     "name": "stderr",
     "output_type": "stream",
     "text": [
      "100%|█████████▉| 3995/4000 [1:05:06<00:38,  7.77s/it]"
     ]
    },
    {
     "name": "stdout",
     "output_type": "stream",
     "text": [
      "✅ Processed D:/Study/Ai_Music_Composer/MIDI_Dataset\\XMIDI_sad_jazz_5LRSRE79.midi — 250 notes, 230 sequences\n"
     ]
    },
    {
     "name": "stderr",
     "output_type": "stream",
     "text": [
      "100%|█████████▉| 3996/4000 [1:05:14<00:31,  7.79s/it]"
     ]
    },
    {
     "name": "stdout",
     "output_type": "stream",
     "text": [
      "✅ Processed D:/Study/Ai_Music_Composer/MIDI_Dataset\\XMIDI_sad_traditional_9KSEZ50W.midi — 591 notes, 571 sequences\n"
     ]
    },
    {
     "name": "stderr",
     "output_type": "stream",
     "text": [
      "100%|█████████▉| 3997/4000 [1:05:22<00:23,  7.89s/it]"
     ]
    },
    {
     "name": "stdout",
     "output_type": "stream",
     "text": [
      "✅ Processed D:/Study/Ai_Music_Composer/MIDI_Dataset\\XMIDI_sad_country_Q7MT9LFM.midi — 2901 notes, 2881 sequences\n"
     ]
    },
    {
     "name": "stderr",
     "output_type": "stream",
     "text": [
      "100%|█████████▉| 3998/4000 [1:05:30<00:15,  7.85s/it]"
     ]
    },
    {
     "name": "stdout",
     "output_type": "stream",
     "text": [
      "✅ Processed D:/Study/Ai_Music_Composer/MIDI_Dataset\\XMIDI_quiet_country_R25RBKXT.midi — 1304 notes, 1284 sequences\n"
     ]
    },
    {
     "name": "stderr",
     "output_type": "stream",
     "text": [
      "100%|█████████▉| 3999/4000 [1:05:38<00:07,  7.81s/it]"
     ]
    },
    {
     "name": "stdout",
     "output_type": "stream",
     "text": [
      "✅ Processed D:/Study/Ai_Music_Composer/MIDI_Dataset\\XMIDI_sad_rock_AVW1O76D.midi — 2770 notes, 2750 sequences\n"
     ]
    },
    {
     "name": "stderr",
     "output_type": "stream",
     "text": [
      "100%|██████████| 4000/4000 [1:05:46<00:00,  1.01it/s]"
     ]
    },
    {
     "name": "stdout",
     "output_type": "stream",
     "text": [
      "✅ Processed D:/Study/Ai_Music_Composer/MIDI_Dataset\\XMIDI_sad_rock_GM7RYY7T.midi — 1840 notes, 1820 sequences\n",
      "✅✅ All MIDI files processed and saved to: D:/Study/Ai_Music_Composer/project/data/note_sequences.pkl\n"
     ]
    },
    {
     "name": "stderr",
     "output_type": "stream",
     "text": [
      "\n"
     ]
    }
   ],
   "source": [
    "# === MAIN LOOP: EXTRACT SEQUENCES FROM UNPROCESSED FILES ===\n",
    "for i in tqdm(range(len(filepaths))):\n",
    "    filepath = filepaths[i]\n",
    "    mood = labels[i]\n",
    "\n",
    "    if filepath in processed_files:\n",
    "        continue\n",
    "\n",
    "    notes = extract_notes(filepath)\n",
    "    if len(notes) < SEQUENCE_LENGTH:\n",
    "        processed_files.add(filepath)\n",
    "        continue  # Skip too short\n",
    "\n",
    "    # Convert to sequences\n",
    "    for j in range(len(notes) - SEQUENCE_LENGTH):\n",
    "        seq = notes[j:j + SEQUENCE_LENGTH]\n",
    "        all_sequences.append(seq)\n",
    "        all_labels.append(mood)\n",
    "\n",
    "    processed_files.add(filepath)\n",
    "    \n",
    "    # Save progress after each file\n",
    "    with open(PROGRESS_PICKLE, 'wb') as f:\n",
    "            pickle.dump(processed_files, f)\n",
    "\n",
    "    with open(OUTPUT_PICKLE, 'wb') as f:\n",
    "            pickle.dump({'sequences': all_sequences, 'labels': all_labels}, f)\n",
    "\n",
    "    print(f\"✅ Processed {filepath} — {len(notes)} notes, {len(notes) - SEQUENCE_LENGTH} sequences\")\n",
    "\n",
    "print(\"✅✅ All MIDI files processed and saved to:\", OUTPUT_PICKLE) "
   ]
  }
 ],
 "metadata": {
  "kernelspec": {
   "display_name": "Python 3",
   "language": "python",
   "name": "python3"
  },
  "language_info": {
   "codemirror_mode": {
    "name": "ipython",
    "version": 3
   },
   "file_extension": ".py",
   "mimetype": "text/x-python",
   "name": "python",
   "nbconvert_exporter": "python",
   "pygments_lexer": "ipython3",
   "version": "3.11.9"
  }
 },
 "nbformat": 4,
 "nbformat_minor": 5
}
