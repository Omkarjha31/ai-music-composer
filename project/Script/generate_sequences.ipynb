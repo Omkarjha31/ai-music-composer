{
 "cells": [
  {
   "cell_type": "code",
   "execution_count": 1,
   "id": "7d6e17d7",
   "metadata": {},
   "outputs": [],
   "source": [
    "import os\n",
    "import pickle\n",
    "import pandas as pd\n",
    "import pretty_midi"
   ]
  },
  {
   "cell_type": "code",
   "execution_count": 2,
   "id": "3eec5175",
   "metadata": {},
   "outputs": [],
   "source": [
    "# Load your balanced 4k file list\n",
    "csv_path = \"D:\\Study\\Ai_Music_Composer\\project\\data/balanced_labels.csv\"\n",
    "df = pd.read_csv(csv_path)"
   ]
  },
  {
   "cell_type": "code",
   "execution_count": 3,
   "id": "042e2bab",
   "metadata": {},
   "outputs": [],
   "source": [
    "# Function to extract notes from a MIDI file\n",
    "def extract_notes_from_midi(midi_file):\n",
    "    try:\n",
    "        midi_data = pretty_midi.PrettyMIDI(midi_file)\n",
    "        notes = []\n",
    "        for instrument in midi_data.instruments:\n",
    "            if not instrument.is_drum:\n",
    "                for note in instrument.notes:\n",
    "                    notes.append(note.pitch)\n",
    "        return notes\n",
    "    except Exception as e:\n",
    "        print(f\"Error processing {midi_file}: {e}\")\n",
    "        return []"
   ]
  },
  {
   "cell_type": "code",
   "execution_count": 5,
   "id": "b62ba36e",
   "metadata": {},
   "outputs": [
    {
     "name": "stdout",
     "output_type": "stream",
     "text": [
      "Extracted 4000 sequences from 4000 files\n"
     ]
    }
   ],
   "source": [
    "# Collect data\n",
    "note_sequences = []\n",
    "\n",
    "for idx, row in df.iterrows():\n",
    "    filepath = row[\"file_path\"] if \"file_path\" in df.columns else row[\"file\"]  # adapt column name\n",
    "    mood = row[\"label\"] if \"label\" in df.columns else row[\"mood\"]\n",
    "\n",
    "    if not os.path.exists(filepath):\n",
    "        print(f\"Missing file: {filepath}\")\n",
    "        continue\n",
    "\n",
    "    notes = extract_notes_from_midi(filepath)\n",
    "    if len(notes) == 0:\n",
    "        continue  # skip empty\n",
    "\n",
    "    note_sequences.append({\n",
    "        \"notes\": notes,\n",
    "        \"mood\": mood\n",
    "    })\n",
    "\n",
    "print(f\"Extracted {len(note_sequences)} sequences from {len(df)} files\")"
   ]
  },
  {
   "cell_type": "code",
   "execution_count": 6,
   "id": "6b347c1f",
   "metadata": {},
   "outputs": [
    {
     "name": "stdout",
     "output_type": "stream",
     "text": [
      "Saved note_sequence.pkl with notes + moods (4k files only)\n"
     ]
    }
   ],
   "source": [
    "# Save as pickle\n",
    "with open(\"D:\\Study\\Ai_Music_Composer\\project\\data/note_sequence.pkl\", \"wb\") as f:\n",
    "    pickle.dump(note_sequences, f)\n",
    "\n",
    "print(\"Saved note_sequence.pkl with notes + moods (4k files only)\")"
   ]
  }
 ],
 "metadata": {
  "kernelspec": {
   "display_name": "Python 3",
   "language": "python",
   "name": "python3"
  },
  "language_info": {
   "codemirror_mode": {
    "name": "ipython",
    "version": 3
   },
   "file_extension": ".py",
   "mimetype": "text/x-python",
   "name": "python",
   "nbconvert_exporter": "python",
   "pygments_lexer": "ipython3",
   "version": "3.11.9"
  }
 },
 "nbformat": 4,
 "nbformat_minor": 5
}
